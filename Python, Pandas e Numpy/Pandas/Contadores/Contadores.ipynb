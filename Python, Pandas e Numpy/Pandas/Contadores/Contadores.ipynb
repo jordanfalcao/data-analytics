{
 "cells": [
  {
   "cell_type": "code",
   "execution_count": 1,
   "id": "b63ee21f",
   "metadata": {},
   "outputs": [],
   "source": [
    "import pandas as pd"
   ]
  },
  {
   "cell_type": "code",
   "execution_count": 6,
   "id": "6cc41c9f",
   "metadata": {},
   "outputs": [
    {
     "data": {
      "text/plain": [
       "0     s\n",
       "1     a\n",
       "2     d\n",
       "3     s\n",
       "4     a\n",
       "5     d\n",
       "6     d\n",
       "7     s\n",
       "8     g\n",
       "9     k\n",
       "10    j\n",
       "11    a\n",
       "12    s\n",
       "13    d\n",
       "14    s\n",
       "15    d\n",
       "16    s\n",
       "dtype: object"
      ]
     },
     "execution_count": 6,
     "metadata": {},
     "output_type": "execute_result"
    }
   ],
   "source": [
    "s = pd.Series(list('sadsaddsgkjasdsds'))\n",
    "s"
   ]
  },
  {
   "cell_type": "code",
   "execution_count": 7,
   "id": "c78efac0",
   "metadata": {},
   "outputs": [
    {
     "data": {
      "text/plain": [
       "array(['s', 'a', 'd', 'g', 'k', 'j'], dtype=object)"
      ]
     },
     "execution_count": 7,
     "metadata": {},
     "output_type": "execute_result"
    }
   ],
   "source": [
    "# valores únicos \n",
    "s.unique()"
   ]
  },
  {
   "cell_type": "code",
   "execution_count": 8,
   "id": "97a8db69",
   "metadata": {},
   "outputs": [
    {
     "data": {
      "text/plain": [
       "s    6\n",
       "d    5\n",
       "a    3\n",
       "g    1\n",
       "j    1\n",
       "k    1\n",
       "dtype: int64"
      ]
     },
     "execution_count": 8,
     "metadata": {},
     "output_type": "execute_result"
    }
   ],
   "source": [
    "# conta quanto cada variável (aplicável p/ Series)\n",
    "s.value_counts()"
   ]
  },
  {
   "cell_type": "code",
   "execution_count": 9,
   "id": "ec3aeb4c",
   "metadata": {},
   "outputs": [],
   "source": [
    "dados = pd.read_csv('dados/aluguel.csv', sep = ';')"
   ]
  },
  {
   "cell_type": "code",
   "execution_count": 14,
   "id": "5d347b77",
   "metadata": {},
   "outputs": [
    {
     "data": {
      "text/plain": [
       "array(['Apartamento', 'Casa', 'Casa de Condomínio', 'Casa de Vila',\n",
       "       'Quitinete'], dtype=object)"
      ]
     },
     "execution_count": 14,
     "metadata": {},
     "output_type": "execute_result"
    }
   ],
   "source": [
    "# valores únicos da coluna 'Tipo' (aplicável p/ Series)\n",
    "dados.Tipo.unique()"
   ]
  },
  {
   "cell_type": "code",
   "execution_count": 17,
   "id": "f653628f",
   "metadata": {},
   "outputs": [
    {
     "data": {
      "text/plain": [
       "Apartamento           16923\n",
       "Casa de Condomínio      964\n",
       "Casa                    898\n",
       "Quitinete               813\n",
       "Casa de Vila            233\n",
       "Name: Tipo, dtype: int64"
      ]
     },
     "execution_count": 17,
     "metadata": {},
     "output_type": "execute_result"
    }
   ],
   "source": [
    "# contador\n",
    "dados.Tipo.value_counts()"
   ]
  }
 ],
 "metadata": {
  "kernelspec": {
   "display_name": "Python 3",
   "language": "python",
   "name": "python3"
  },
  "language_info": {
   "codemirror_mode": {
    "name": "ipython",
    "version": 3
   },
   "file_extension": ".py",
   "mimetype": "text/x-python",
   "name": "python",
   "nbconvert_exporter": "python",
   "pygments_lexer": "ipython3",
   "version": "3.8.8"
  }
 },
 "nbformat": 4,
 "nbformat_minor": 5
}
