{
  "nbformat": 4,
  "nbformat_minor": 0,
  "metadata": {
    "colab": {
      "name": "Introdução a Data Science.ipynb",
      "provenance": [],
      "collapsed_sections": [],
      "authorship_tag": "ABX9TyMQ2NV31MishxhwiY5kkUNz",
      "include_colab_link": true
    },
    "kernelspec": {
      "name": "python3",
      "display_name": "Python 3"
    },
    "language_info": {
      "name": "python"
    }
  },
  "cells": [
    {
      "cell_type": "markdown",
      "metadata": {
        "id": "view-in-github",
        "colab_type": "text"
      },
      "source": [
        "<a href=\"https://colab.research.google.com/github/jordanfalcao/data-analytics/blob/main/Primeiros%20passos/Introdu%C3%A7%C3%A3o_a_Data_Science.ipynb\" target=\"_parent\"><img src=\"https://colab.research.google.com/assets/colab-badge.svg\" alt=\"Open In Colab\"/></a>"
      ]
    },
    {
      "cell_type": "markdown",
      "metadata": {
        "id": "g8nO0EuO_Ny8"
      },
      "source": [
        "# Analisando as notas em geral"
      ]
    },
    {
      "cell_type": "code",
      "metadata": {
        "colab": {
          "base_uri": "https://localhost:8080/"
        },
        "id": "iELJVkHm4nLG",
        "outputId": "8a510c43-a330-402e-f96e-7c1edbb51440"
      },
      "source": [
        "print(sns.__version__)"
      ],
      "execution_count": 55,
      "outputs": [
        {
          "output_type": "stream",
          "text": [
            "0.11.1\n"
          ],
          "name": "stdout"
        }
      ]
    },
    {
      "cell_type": "code",
      "metadata": {
        "colab": {
          "base_uri": "https://localhost:8080/",
          "height": 204
        },
        "id": "oceO0WpFGOUo",
        "outputId": "3232422b-4090-4db4-85f7-91c059744148"
      },
      "source": [
        " import pandas as pd\n",
        "\n",
        "# pd.read_csv para ler um arquivo no formato csv\n",
        " notas = pd.read_csv(\"ratings.csv\")\n",
        " notas.head()"
      ],
      "execution_count": 3,
      "outputs": [
        {
          "output_type": "execute_result",
          "data": {
            "text/html": [
              "<div>\n",
              "<style scoped>\n",
              "    .dataframe tbody tr th:only-of-type {\n",
              "        vertical-align: middle;\n",
              "    }\n",
              "\n",
              "    .dataframe tbody tr th {\n",
              "        vertical-align: top;\n",
              "    }\n",
              "\n",
              "    .dataframe thead th {\n",
              "        text-align: right;\n",
              "    }\n",
              "</style>\n",
              "<table border=\"1\" class=\"dataframe\">\n",
              "  <thead>\n",
              "    <tr style=\"text-align: right;\">\n",
              "      <th></th>\n",
              "      <th>userId</th>\n",
              "      <th>movieId</th>\n",
              "      <th>rating</th>\n",
              "      <th>timestamp</th>\n",
              "    </tr>\n",
              "  </thead>\n",
              "  <tbody>\n",
              "    <tr>\n",
              "      <th>0</th>\n",
              "      <td>1</td>\n",
              "      <td>1</td>\n",
              "      <td>4.0</td>\n",
              "      <td>964982703</td>\n",
              "    </tr>\n",
              "    <tr>\n",
              "      <th>1</th>\n",
              "      <td>1</td>\n",
              "      <td>3</td>\n",
              "      <td>4.0</td>\n",
              "      <td>964981247</td>\n",
              "    </tr>\n",
              "    <tr>\n",
              "      <th>2</th>\n",
              "      <td>1</td>\n",
              "      <td>6</td>\n",
              "      <td>4.0</td>\n",
              "      <td>964982224</td>\n",
              "    </tr>\n",
              "    <tr>\n",
              "      <th>3</th>\n",
              "      <td>1</td>\n",
              "      <td>47</td>\n",
              "      <td>5.0</td>\n",
              "      <td>964983815</td>\n",
              "    </tr>\n",
              "    <tr>\n",
              "      <th>4</th>\n",
              "      <td>1</td>\n",
              "      <td>50</td>\n",
              "      <td>5.0</td>\n",
              "      <td>964982931</td>\n",
              "    </tr>\n",
              "  </tbody>\n",
              "</table>\n",
              "</div>"
            ],
            "text/plain": [
              "   userId  movieId  rating  timestamp\n",
              "0       1        1     4.0  964982703\n",
              "1       1        3     4.0  964981247\n",
              "2       1        6     4.0  964982224\n",
              "3       1       47     5.0  964983815\n",
              "4       1       50     5.0  964982931"
            ]
          },
          "metadata": {
            "tags": []
          },
          "execution_count": 3
        }
      ]
    },
    {
      "cell_type": "code",
      "metadata": {
        "colab": {
          "base_uri": "https://localhost:8080/"
        },
        "id": "PgMhkaUNJlbO",
        "outputId": "3b53629e-43a5-4caf-cb0c-d1ea50958eec"
      },
      "source": [
        "notas.shape"
      ],
      "execution_count": 4,
      "outputs": [
        {
          "output_type": "execute_result",
          "data": {
            "text/plain": [
              "(100836, 4)"
            ]
          },
          "metadata": {
            "tags": []
          },
          "execution_count": 4
        }
      ]
    },
    {
      "cell_type": "code",
      "metadata": {
        "id": "xIBFkZdeJvJt"
      },
      "source": [
        "# trocando os nomes das colunas\n",
        "notas.columns = [\"usuarioId\", \"filmeId\", \"nota\", \"momento\"]"
      ],
      "execution_count": 5,
      "outputs": []
    },
    {
      "cell_type": "code",
      "metadata": {
        "colab": {
          "base_uri": "https://localhost:8080/",
          "height": 204
        },
        "id": "fTkWaOFDJ-DM",
        "outputId": "ef85ab21-77c7-4657-d4ac-e75ca4b7dd82"
      },
      "source": [
        "notas.head()"
      ],
      "execution_count": 6,
      "outputs": [
        {
          "output_type": "execute_result",
          "data": {
            "text/html": [
              "<div>\n",
              "<style scoped>\n",
              "    .dataframe tbody tr th:only-of-type {\n",
              "        vertical-align: middle;\n",
              "    }\n",
              "\n",
              "    .dataframe tbody tr th {\n",
              "        vertical-align: top;\n",
              "    }\n",
              "\n",
              "    .dataframe thead th {\n",
              "        text-align: right;\n",
              "    }\n",
              "</style>\n",
              "<table border=\"1\" class=\"dataframe\">\n",
              "  <thead>\n",
              "    <tr style=\"text-align: right;\">\n",
              "      <th></th>\n",
              "      <th>usuarioId</th>\n",
              "      <th>filmeId</th>\n",
              "      <th>nota</th>\n",
              "      <th>momento</th>\n",
              "    </tr>\n",
              "  </thead>\n",
              "  <tbody>\n",
              "    <tr>\n",
              "      <th>0</th>\n",
              "      <td>1</td>\n",
              "      <td>1</td>\n",
              "      <td>4.0</td>\n",
              "      <td>964982703</td>\n",
              "    </tr>\n",
              "    <tr>\n",
              "      <th>1</th>\n",
              "      <td>1</td>\n",
              "      <td>3</td>\n",
              "      <td>4.0</td>\n",
              "      <td>964981247</td>\n",
              "    </tr>\n",
              "    <tr>\n",
              "      <th>2</th>\n",
              "      <td>1</td>\n",
              "      <td>6</td>\n",
              "      <td>4.0</td>\n",
              "      <td>964982224</td>\n",
              "    </tr>\n",
              "    <tr>\n",
              "      <th>3</th>\n",
              "      <td>1</td>\n",
              "      <td>47</td>\n",
              "      <td>5.0</td>\n",
              "      <td>964983815</td>\n",
              "    </tr>\n",
              "    <tr>\n",
              "      <th>4</th>\n",
              "      <td>1</td>\n",
              "      <td>50</td>\n",
              "      <td>5.0</td>\n",
              "      <td>964982931</td>\n",
              "    </tr>\n",
              "  </tbody>\n",
              "</table>\n",
              "</div>"
            ],
            "text/plain": [
              "   usuarioId  filmeId  nota    momento\n",
              "0          1        1   4.0  964982703\n",
              "1          1        3   4.0  964981247\n",
              "2          1        6   4.0  964982224\n",
              "3          1       47   5.0  964983815\n",
              "4          1       50   5.0  964982931"
            ]
          },
          "metadata": {
            "tags": []
          },
          "execution_count": 6
        }
      ]
    },
    {
      "cell_type": "code",
      "metadata": {
        "colab": {
          "base_uri": "https://localhost:8080/"
        },
        "id": "m41GIObLKAjU",
        "outputId": "52b78384-ca4e-4568-dcc1-eeef6fdec666"
      },
      "source": [
        "#acessando apenas a coluna 'nota'\n",
        "notas['nota']"
      ],
      "execution_count": 7,
      "outputs": [
        {
          "output_type": "execute_result",
          "data": {
            "text/plain": [
              "0         4.0\n",
              "1         4.0\n",
              "2         4.0\n",
              "3         5.0\n",
              "4         5.0\n",
              "         ... \n",
              "100831    4.0\n",
              "100832    5.0\n",
              "100833    5.0\n",
              "100834    5.0\n",
              "100835    3.0\n",
              "Name: nota, Length: 100836, dtype: float64"
            ]
          },
          "metadata": {
            "tags": []
          },
          "execution_count": 7
        }
      ]
    },
    {
      "cell_type": "code",
      "metadata": {
        "colab": {
          "base_uri": "https://localhost:8080/"
        },
        "id": "nnunW_gaKP2c",
        "outputId": "6d5e232e-bbc0-4132-e3ba-cd76d3303175"
      },
      "source": [
        "# método .unique() acessa todos os possíveis valores\n",
        "notas['nota'].unique()"
      ],
      "execution_count": 8,
      "outputs": [
        {
          "output_type": "execute_result",
          "data": {
            "text/plain": [
              "array([4. , 5. , 3. , 2. , 1. , 4.5, 3.5, 2.5, 0.5, 1.5])"
            ]
          },
          "metadata": {
            "tags": []
          },
          "execution_count": 8
        }
      ]
    },
    {
      "cell_type": "code",
      "metadata": {
        "colab": {
          "base_uri": "https://localhost:8080/"
        },
        "id": "H_QWWHAiK42l",
        "outputId": "d28dae19-b0b5-41fa-e58a-f79aa5a662d8"
      },
      "source": [
        "#value_counts() conta quantos valores há de cada índice da coluna nota\n",
        "notas['nota'].value_counts()"
      ],
      "execution_count": 9,
      "outputs": [
        {
          "output_type": "execute_result",
          "data": {
            "text/plain": [
              "4.0    26818\n",
              "3.0    20047\n",
              "5.0    13211\n",
              "3.5    13136\n",
              "4.5     8551\n",
              "2.0     7551\n",
              "2.5     5550\n",
              "1.0     2811\n",
              "1.5     1791\n",
              "0.5     1370\n",
              "Name: nota, dtype: int64"
            ]
          },
          "metadata": {
            "tags": []
          },
          "execution_count": 9
        }
      ]
    },
    {
      "cell_type": "code",
      "metadata": {
        "colab": {
          "base_uri": "https://localhost:8080/"
        },
        "id": "lqeEws_5LVvx",
        "outputId": "8aef3d4f-8a4c-4d57-9592-47cdd35e7ca0"
      },
      "source": [
        "# mean() mostra a média, median() mostra a mediana\n",
        "print(\"Media:\", notas['nota'].mean())\n",
        "print(\"Mediana:\", notas.nota.median())"
      ],
      "execution_count": 10,
      "outputs": [
        {
          "output_type": "stream",
          "text": [
            "Media: 3.501556983616962\n",
            "Mediana: 3.5\n"
          ],
          "name": "stdout"
        }
      ]
    },
    {
      "cell_type": "code",
      "metadata": {
        "colab": {
          "base_uri": "https://localhost:8080/"
        },
        "id": "yCIK_Ih1OqKe",
        "outputId": "0dd17451-9bea-4c89-d9b9-33aca429b21f"
      },
      "source": [
        "# outra notação para pegar a coluna nota (head = cabeçalho)\n",
        "notas.nota.head()"
      ],
      "execution_count": 11,
      "outputs": [
        {
          "output_type": "execute_result",
          "data": {
            "text/plain": [
              "0    4.0\n",
              "1    4.0\n",
              "2    4.0\n",
              "3    5.0\n",
              "4    5.0\n",
              "Name: nota, dtype: float64"
            ]
          },
          "metadata": {
            "tags": []
          },
          "execution_count": 11
        }
      ]
    },
    {
      "cell_type": "code",
      "metadata": {
        "colab": {
          "base_uri": "https://localhost:8080/",
          "height": 282
        },
        "id": "l9eX2fqBLj0w",
        "outputId": "b0bc840e-4c0e-4026-ebdf-bf09ffe5e27e"
      },
      "source": [
        "# plot da coluna nota do tipo 'histograma'\n",
        "notas.nota.plot(kind = \"hist\")"
      ],
      "execution_count": 12,
      "outputs": [
        {
          "output_type": "execute_result",
          "data": {
            "text/plain": [
              "<matplotlib.axes._subplots.AxesSubplot at 0x7f6a98d17610>"
            ]
          },
          "metadata": {
            "tags": []
          },
          "execution_count": 12
        },
        {
          "output_type": "display_data",
          "data": {
            "image/png": "[encoded data removed]",
            "text/plain": [
              "<Figure size 432x288 with 1 Axes>"
            ]
          },
          "metadata": {
            "tags": [],
            "needs_background": "light"
          }
        }
      ]
    },
    {
      "cell_type": "code",
      "metadata": {
        "colab": {
          "base_uri": "https://localhost:8080/"
        },
        "id": "3sU7D96POylq",
        "outputId": "11870460-8f96-4d00-a879-59168cf40ad9"
      },
      "source": [
        "# .describe() apresenta diversos atributos da coluna\n",
        "notas.nota.describe()"
      ],
      "execution_count": 13,
      "outputs": [
        {
          "output_type": "execute_result",
          "data": {
            "text/plain": [
              "count    100836.000000\n",
              "mean          3.501557\n",
              "std           1.042529\n",
              "min           0.500000\n",
              "25%           3.000000\n",
              "50%           3.500000\n",
              "75%           4.000000\n",
              "max           5.000000\n",
              "Name: nota, dtype: float64"
            ]
          },
          "metadata": {
            "tags": []
          },
          "execution_count": 13
        }
      ]
    },
    {
      "cell_type": "code",
      "metadata": {
        "colab": {
          "base_uri": "https://localhost:8080/",
          "height": 350
        },
        "id": "jKW9LuixR6ey",
        "outputId": "0afdc574-7647-490e-bb38-66532644e6fb"
      },
      "source": [
        "import seaborn as sns\n",
        "\n",
        "# boxplot da biblioteca seaborn mostra diversos dados visuais, como mediana, quartis: 25%, 75%\n",
        "sns.boxplot(notas.nota)"
      ],
      "execution_count": 14,
      "outputs": [
        {
          "output_type": "stream",
          "text": [
            "/usr/local/lib/python3.7/dist-packages/seaborn/_decorators.py:43: FutureWarning: Pass the following variable as a keyword arg: x. From version 0.12, the only valid positional argument will be `data`, and passing other arguments without an explicit keyword will result in an error or misinterpretation.\n",
            "  FutureWarning\n"
          ],
          "name": "stderr"
        },
        {
          "output_type": "execute_result",
          "data": {
            "text/plain": [
              "<matplotlib.axes._subplots.AxesSubplot at 0x7f6a841cf310>"
            ]
          },
          "metadata": {
            "tags": []
          },
          "execution_count": 14
        },
        {
          "output_type": "display_data",
          "data": {
            "image/png": "[encoded data removed]",
            "text/plain": [
              "<Figure size 432x288 with 1 Axes>"
            ]
          },
          "metadata": {
            "tags": [],
            "needs_background": "light"
          }
        }
      ]
    },
    {
      "cell_type": "markdown",
      "metadata": {
        "id": "BuMXjhTY_eBA"
      },
      "source": [
        "# Olhando os filmes"
      ]
    },
    {
      "cell_type": "code",
      "metadata": {
        "colab": {
          "base_uri": "https://localhost:8080/",
          "height": 204
        },
        "id": "zY4jgw92SgUf",
        "outputId": "f962ffd2-2270-4516-d65d-6baf1a9f7999"
      },
      "source": [
        "# lendo novo arquivo .csv\n",
        "filmes = pd.read_csv('movies.csv')\n",
        "filmes.columns = [\"filmeId\", \"titulo\", \"generos\"]\n",
        "filmes.head()"
      ],
      "execution_count": 15,
      "outputs": [
        {
          "output_type": "execute_result",
          "data": {
            "text/html": [
              "<div>\n",
              "<style scoped>\n",
              "    .dataframe tbody tr th:only-of-type {\n",
              "        vertical-align: middle;\n",
              "    }\n",
              "\n",
              "    .dataframe tbody tr th {\n",
              "        vertical-align: top;\n",
              "    }\n",
              "\n",
              "    .dataframe thead th {\n",
              "        text-align: right;\n",
              "    }\n",
              "</style>\n",
              "<table border=\"1\" class=\"dataframe\">\n",
              "  <thead>\n",
              "    <tr style=\"text-align: right;\">\n",
              "      <th></th>\n",
              "      <th>filmeId</th>\n",
              "      <th>titulo</th>\n",
              "      <th>generos</th>\n",
              "    </tr>\n",
              "  </thead>\n",
              "  <tbody>\n",
              "    <tr>\n",
              "      <th>0</th>\n",
              "      <td>1</td>\n",
              "      <td>Toy Story (1995)</td>\n",
              "      <td>Adventure|Animation|Children|Comedy|Fantasy</td>\n",
              "    </tr>\n",
              "    <tr>\n",
              "      <th>1</th>\n",
              "      <td>2</td>\n",
              "      <td>Jumanji (1995)</td>\n",
              "      <td>Adventure|Children|Fantasy</td>\n",
              "    </tr>\n",
              "    <tr>\n",
              "      <th>2</th>\n",
              "      <td>3</td>\n",
              "      <td>Grumpier Old Men (1995)</td>\n",
              "      <td>Comedy|Romance</td>\n",
              "    </tr>\n",
              "    <tr>\n",
              "      <th>3</th>\n",
              "      <td>4</td>\n",
              "      <td>Waiting to Exhale (1995)</td>\n",
              "      <td>Comedy|Drama|Romance</td>\n",
              "    </tr>\n",
              "    <tr>\n",
              "      <th>4</th>\n",
              "      <td>5</td>\n",
              "      <td>Father of the Bride Part II (1995)</td>\n",
              "      <td>Comedy</td>\n",
              "    </tr>\n",
              "  </tbody>\n",
              "</table>\n",
              "</div>"
            ],
            "text/plain": [
              "   filmeId  ...                                      generos\n",
              "0        1  ...  Adventure|Animation|Children|Comedy|Fantasy\n",
              "1        2  ...                   Adventure|Children|Fantasy\n",
              "2        3  ...                               Comedy|Romance\n",
              "3        4  ...                         Comedy|Drama|Romance\n",
              "4        5  ...                                       Comedy\n",
              "\n",
              "[5 rows x 3 columns]"
            ]
          },
          "metadata": {
            "tags": []
          },
          "execution_count": 15
        }
      ]
    },
    {
      "cell_type": "markdown",
      "metadata": {
        "id": "ijlYAeGJ_B9p"
      },
      "source": [
        "# Analisando algumas notas específicas por filme"
      ]
    },
    {
      "cell_type": "code",
      "metadata": {
        "colab": {
          "base_uri": "https://localhost:8080/"
        },
        "id": "YPeVLvuA9NOR",
        "outputId": "a7b93ddd-4a48-4a99-d211-5f7afb5d11e7"
      },
      "source": [
        "# buscando filmeId ==1, no caso, Toy Story. \n",
        "notas.query(\"filmeId == 1\").nota.mean()    #média das notas do filmeId == 1"
      ],
      "execution_count": 16,
      "outputs": [
        {
          "output_type": "execute_result",
          "data": {
            "text/plain": [
              "3.9209302325581397"
            ]
          },
          "metadata": {
            "tags": []
          },
          "execution_count": 16
        }
      ]
    },
    {
      "cell_type": "code",
      "metadata": {
        "colab": {
          "base_uri": "https://localhost:8080/"
        },
        "id": "1EeTx8wM9tk2",
        "outputId": "2ca10d01-3b04-4d17-c55d-c38bb2812524"
      },
      "source": [
        "notas.query(\"filmeId == 3\").nota.mean()"
      ],
      "execution_count": 17,
      "outputs": [
        {
          "output_type": "execute_result",
          "data": {
            "text/plain": [
              "3.2596153846153846"
            ]
          },
          "metadata": {
            "tags": []
          },
          "execution_count": 17
        }
      ]
    },
    {
      "cell_type": "code",
      "metadata": {
        "colab": {
          "base_uri": "https://localhost:8080/"
        },
        "id": "rHYWp_6h_r6S",
        "outputId": "3554ba8b-e4b6-49a4-b295-35638d6073e5"
      },
      "source": [
        "# Agrupando notas pelo filmeID\n",
        "medias_por_filme = notas.groupby(\"filmeId\").nota.mean()  # apresenta a média de cada filme (agrupamos pelo filmeId)\n",
        "medias_por_filme.head()"
      ],
      "execution_count": 18,
      "outputs": [
        {
          "output_type": "execute_result",
          "data": {
            "text/plain": [
              "filmeId\n",
              "1    3.920930\n",
              "2    3.431818\n",
              "3    3.259615\n",
              "4    2.357143\n",
              "5    3.071429\n",
              "Name: nota, dtype: float64"
            ]
          },
          "metadata": {
            "tags": []
          },
          "execution_count": 18
        }
      ]
    },
    {
      "cell_type": "code",
      "metadata": {
        "colab": {
          "base_uri": "https://localhost:8080/",
          "height": 282
        },
        "id": "wWyPQI69_4sM",
        "outputId": "7c7008c9-9505-447e-b8c3-c0e2b390ae9a"
      },
      "source": [
        "medias_por_filme.plot(kind = 'hist')"
      ],
      "execution_count": 19,
      "outputs": [
        {
          "output_type": "execute_result",
          "data": {
            "text/plain": [
              "<matplotlib.axes._subplots.AxesSubplot at 0x7f6a841b5550>"
            ]
          },
          "metadata": {
            "tags": []
          },
          "execution_count": 19
        },
        {
          "output_type": "display_data",
          "data": {
            "image/png": "[encoded data removed]",
            "text/plain": [
              "<Figure size 432x288 with 1 Axes>"
            ]
          },
          "metadata": {
            "tags": [],
            "needs_background": "light"
          }
        }
      ]
    },
    {
      "cell_type": "code",
      "metadata": {
        "colab": {
          "base_uri": "https://localhost:8080/",
          "height": 350
        },
        "id": "zzBcl8arAuAf",
        "outputId": "4f818740-0e8f-4c25-9cf9-7207df57663f"
      },
      "source": [
        "sns.boxplot(medias_por_filme)"
      ],
      "execution_count": 20,
      "outputs": [
        {
          "output_type": "stream",
          "text": [
            "/usr/local/lib/python3.7/dist-packages/seaborn/_decorators.py:43: FutureWarning: Pass the following variable as a keyword arg: x. From version 0.12, the only valid positional argument will be `data`, and passing other arguments without an explicit keyword will result in an error or misinterpretation.\n",
            "  FutureWarning\n"
          ],
          "name": "stderr"
        },
        {
          "output_type": "execute_result",
          "data": {
            "text/plain": [
              "<matplotlib.axes._subplots.AxesSubplot at 0x7f6a835b73d0>"
            ]
          },
          "metadata": {
            "tags": []
          },
          "execution_count": 20
        },
        {
          "output_type": "display_data",
          "data": {
            "image/png": "[encoded data removed]",
            "text/plain": [
              "<Figure size 432x288 with 1 Axes>"
            ]
          },
          "metadata": {
            "tags": [],
            "needs_background": "light"
          }
        }
      ]
    },
    {
      "cell_type": "code",
      "metadata": {
        "colab": {
          "base_uri": "https://localhost:8080/",
          "height": 486
        },
        "id": "QpnSlgq_HLph",
        "outputId": "e419f99d-f2a8-459f-a635-276515560349"
      },
      "source": [
        "# bloxplot na horizontal, y \n",
        "import matplotlib.pyplot as plt\n",
        "\n",
        "plt.figure(figsize=(5, 8)) #alterando tamanho da figura\n",
        "sns.boxplot(y = medias_por_filme)"
      ],
      "execution_count": 21,
      "outputs": [
        {
          "output_type": "execute_result",
          "data": {
            "text/plain": [
              "<matplotlib.axes._subplots.AxesSubplot at 0x7f6a841b5750>"
            ]
          },
          "metadata": {
            "tags": []
          },
          "execution_count": 21
        },
        {
          "output_type": "display_data",
          "data": {
            "image/png": "[encoded data removed]",
            "text/plain": [
              "<Figure size 360x576 with 1 Axes>"
            ]
          },
          "metadata": {
            "tags": [],
            "needs_background": "light"
          }
        }
      ]
    },
    {
      "cell_type": "code",
      "metadata": {
        "colab": {
          "base_uri": "https://localhost:8080/"
        },
        "id": "qfcH4ErLFeab",
        "outputId": "e2cf5711-da94-4543-f348-c2737430acba"
      },
      "source": [
        "medias_por_filme.describe()"
      ],
      "execution_count": 22,
      "outputs": [
        {
          "output_type": "execute_result",
          "data": {
            "text/plain": [
              "count    9724.000000\n",
              "mean        3.262448\n",
              "std         0.869874\n",
              "min         0.500000\n",
              "25%         2.800000\n",
              "50%         3.416667\n",
              "75%         3.911765\n",
              "max         5.000000\n",
              "Name: nota, dtype: float64"
            ]
          },
          "metadata": {
            "tags": []
          },
          "execution_count": 22
        }
      ]
    },
    {
      "cell_type": "code",
      "metadata": {
        "colab": {
          "base_uri": "https://localhost:8080/",
          "height": 350
        },
        "id": "bwKj_-XWFm0Q",
        "outputId": "62c2d9df-29fc-4349-e79d-bd1d5b52cff9"
      },
      "source": [
        "# gráfico de distribuição do seaborn\n",
        "sns.distplot(medias_por_filme, bins = 10)  # bins = quantas divisões"
      ],
      "execution_count": 23,
      "outputs": [
        {
          "output_type": "stream",
          "text": [
            "/usr/local/lib/python3.7/dist-packages/seaborn/distributions.py:2557: FutureWarning: `distplot` is a deprecated function and will be removed in a future version. Please adapt your code to use either `displot` (a figure-level function with similar flexibility) or `histplot` (an axes-level function for histograms).\n",
            "  warnings.warn(msg, FutureWarning)\n"
          ],
          "name": "stderr"
        },
        {
          "output_type": "execute_result",
          "data": {
            "text/plain": [
              "<matplotlib.axes._subplots.AxesSubplot at 0x7f6a8349acd0>"
            ]
          },
          "metadata": {
            "tags": []
          },
          "execution_count": 23
        },
        {
          "output_type": "display_data",
          "data": {
            "image/png": "[encoded data removed]",
            "text/plain": [
              "<Figure size 432x288 with 1 Axes>"
            ]
          },
          "metadata": {
            "tags": [],
            "needs_background": "light"
          }
        }
      ]
    },
    {
      "cell_type": "code",
      "metadata": {
        "colab": {
          "base_uri": "https://localhost:8080/",
          "height": 298
        },
        "id": "bRGxfHHkFy4r",
        "outputId": "04dbb359-c319-4e90-b548-d9b84f7994b7"
      },
      "source": [
        "# importando biblioteca matplot.pyplot\n",
        "# Pandas e seaborn usam a matplot.pyplot em baixo nível (fazem uso da biblioteca)\n",
        "import matplotlib.pyplot as plt\n",
        "plt.hist(medias_por_filme)\n",
        "plt.title(\"Histograma das médias dos filmes\")"
      ],
      "execution_count": 24,
      "outputs": [
        {
          "output_type": "execute_result",
          "data": {
            "text/plain": [
              "Text(0.5, 1.0, 'Histograma das médias dos filmes')"
            ]
          },
          "metadata": {
            "tags": []
          },
          "execution_count": 24
        },
        {
          "output_type": "display_data",
          "data": {
            "image/png": "[encoded data removed]",
            "text/plain": [
              "<Figure size 432x288 with 1 Axes>"
            ]
          },
          "metadata": {
            "tags": [],
            "needs_background": "light"
          }
        }
      ]
    },
    {
      "cell_type": "code",
      "metadata": {
        "colab": {
          "base_uri": "https://localhost:8080/",
          "height": 717
        },
        "id": "ZmcAApT6eTrR",
        "outputId": "9e9ad5e1-6b0e-43a1-8493-c0b969521691"
      },
      "source": [
        "tmdb = pd.read_csv(\"tmdb_5000_movies.csv\")\n",
        "tmdb.head()"
      ],
      "execution_count": 25,
      "outputs": [
        {
          "output_type": "execute_result",
          "data": {
            "text/html": [
              "<div>\n",
              "<style scoped>\n",
              "    .dataframe tbody tr th:only-of-type {\n",
              "        vertical-align: middle;\n",
              "    }\n",
              "\n",
              "    .dataframe tbody tr th {\n",
              "        vertical-align: top;\n",
              "    }\n",
              "\n",
              "    .dataframe thead th {\n",
              "        text-align: right;\n",
              "    }\n",
              "</style>\n",
              "<table border=\"1\" class=\"dataframe\">\n",
              "  <thead>\n",
              "    <tr style=\"text-align: right;\">\n",
              "      <th></th>\n",
              "      <th>budget</th>\n",
              "      <th>genres</th>\n",
              "      <th>homepage</th>\n",
              "      <th>id</th>\n",
              "      <th>keywords</th>\n",
              "      <th>original_language</th>\n",
              "      <th>original_title</th>\n",
              "      <th>overview</th>\n",
              "      <th>popularity</th>\n",
              "      <th>production_companies</th>\n",
              "      <th>production_countries</th>\n",
              "      <th>release_date</th>\n",
              "      <th>revenue</th>\n",
              "      <th>runtime</th>\n",
              "      <th>spoken_languages</th>\n",
              "      <th>status</th>\n",
              "      <th>tagline</th>\n",
              "      <th>title</th>\n",
              "      <th>vote_average</th>\n",
              "      <th>vote_count</th>\n",
              "    </tr>\n",
              "  </thead>\n",
              "  <tbody>\n",
              "    <tr>\n",
              "      <th>0</th>\n",
              "      <td>237000000</td>\n",
              "      <td>[{\"id\": 28, \"name\": \"Action\"}, {\"id\": 12, \"nam...</td>\n",
              "      <td>http://www.avatarmovie.com/</td>\n",
              "      <td>19995</td>\n",
              "      <td>[{\"id\": 1463, \"name\": \"culture clash\"}, {\"id\":...</td>\n",
              "      <td>en</td>\n",
              "      <td>Avatar</td>\n",
              "      <td>In the 22nd century, a paraplegic Marine is di...</td>\n",
              "      <td>150.437577</td>\n",
              "      <td>[{\"name\": \"Ingenious Film Partners\", \"id\": 289...</td>\n",
              "      <td>[{\"iso_3166_1\": \"US\", \"name\": \"United States o...</td>\n",
              "      <td>2009-12-10</td>\n",
              "      <td>2787965087</td>\n",
              "      <td>162.0</td>\n",
              "      <td>[{\"iso_639_1\": \"en\", \"name\": \"English\"}, {\"iso...</td>\n",
              "      <td>Released</td>\n",
              "      <td>Enter the World of Pandora.</td>\n",
              "      <td>Avatar</td>\n",
              "      <td>7.2</td>\n",
              "      <td>11800</td>\n",
              "    </tr>\n",
              "    <tr>\n",
              "      <th>1</th>\n",
              "      <td>300000000</td>\n",
              "      <td>[{\"id\": 12, \"name\": \"Adventure\"}, {\"id\": 14, \"...</td>\n",
              "      <td>http://disney.go.com/disneypictures/pirates/</td>\n",
              "      <td>285</td>\n",
              "      <td>[{\"id\": 270, \"name\": \"ocean\"}, {\"id\": 726, \"na...</td>\n",
              "      <td>en</td>\n",
              "      <td>Pirates of the Caribbean: At World's End</td>\n",
              "      <td>Captain Barbossa, long believed to be dead, ha...</td>\n",
              "      <td>139.082615</td>\n",
              "      <td>[{\"name\": \"Walt Disney Pictures\", \"id\": 2}, {\"...</td>\n",
              "      <td>[{\"iso_3166_1\": \"US\", \"name\": \"United States o...</td>\n",
              "      <td>2007-05-19</td>\n",
              "      <td>961000000</td>\n",
              "      <td>169.0</td>\n",
              "      <td>[{\"iso_639_1\": \"en\", \"name\": \"English\"}]</td>\n",
              "      <td>Released</td>\n",
              "      <td>At the end of the world, the adventure begins.</td>\n",
              "      <td>Pirates of the Caribbean: At World's End</td>\n",
              "      <td>6.9</td>\n",
              "      <td>4500</td>\n",
              "    </tr>\n",
              "    <tr>\n",
              "      <th>2</th>\n",
              "      <td>245000000</td>\n",
              "      <td>[{\"id\": 28, \"name\": \"Action\"}, {\"id\": 12, \"nam...</td>\n",
              "      <td>http://www.sonypictures.com/movies/spectre/</td>\n",
              "      <td>206647</td>\n",
              "      <td>[{\"id\": 470, \"name\": \"spy\"}, {\"id\": 818, \"name...</td>\n",
              "      <td>en</td>\n",
              "      <td>Spectre</td>\n",
              "      <td>A cryptic message from Bond’s past sends him o...</td>\n",
              "      <td>107.376788</td>\n",
              "      <td>[{\"name\": \"Columbia Pictures\", \"id\": 5}, {\"nam...</td>\n",
              "      <td>[{\"iso_3166_1\": \"GB\", \"name\": \"United Kingdom\"...</td>\n",
              "      <td>2015-10-26</td>\n",
              "      <td>880674609</td>\n",
              "      <td>148.0</td>\n",
              "      <td>[{\"iso_639_1\": \"fr\", \"name\": \"Fran\\u00e7ais\"},...</td>\n",
              "      <td>Released</td>\n",
              "      <td>A Plan No One Escapes</td>\n",
              "      <td>Spectre</td>\n",
              "      <td>6.3</td>\n",
              "      <td>4466</td>\n",
              "    </tr>\n",
              "    <tr>\n",
              "      <th>3</th>\n",
              "      <td>250000000</td>\n",
              "      <td>[{\"id\": 28, \"name\": \"Action\"}, {\"id\": 80, \"nam...</td>\n",
              "      <td>http://www.thedarkknightrises.com/</td>\n",
              "      <td>49026</td>\n",
              "      <td>[{\"id\": 849, \"name\": \"dc comics\"}, {\"id\": 853,...</td>\n",
              "      <td>en</td>\n",
              "      <td>The Dark Knight Rises</td>\n",
              "      <td>Following the death of District Attorney Harve...</td>\n",
              "      <td>112.312950</td>\n",
              "      <td>[{\"name\": \"Legendary Pictures\", \"id\": 923}, {\"...</td>\n",
              "      <td>[{\"iso_3166_1\": \"US\", \"name\": \"United States o...</td>\n",
              "      <td>2012-07-16</td>\n",
              "      <td>1084939099</td>\n",
              "      <td>165.0</td>\n",
              "      <td>[{\"iso_639_1\": \"en\", \"name\": \"English\"}]</td>\n",
              "      <td>Released</td>\n",
              "      <td>The Legend Ends</td>\n",
              "      <td>The Dark Knight Rises</td>\n",
              "      <td>7.6</td>\n",
              "      <td>9106</td>\n",
              "    </tr>\n",
              "    <tr>\n",
              "      <th>4</th>\n",
              "      <td>260000000</td>\n",
              "      <td>[{\"id\": 28, \"name\": \"Action\"}, {\"id\": 12, \"nam...</td>\n",
              "      <td>http://movies.disney.com/john-carter</td>\n",
              "      <td>49529</td>\n",
              "      <td>[{\"id\": 818, \"name\": \"based on novel\"}, {\"id\":...</td>\n",
              "      <td>en</td>\n",
              "      <td>John Carter</td>\n",
              "      <td>John Carter is a war-weary, former military ca...</td>\n",
              "      <td>43.926995</td>\n",
              "      <td>[{\"name\": \"Walt Disney Pictures\", \"id\": 2}]</td>\n",
              "      <td>[{\"iso_3166_1\": \"US\", \"name\": \"United States o...</td>\n",
              "      <td>2012-03-07</td>\n",
              "      <td>284139100</td>\n",
              "      <td>132.0</td>\n",
              "      <td>[{\"iso_639_1\": \"en\", \"name\": \"English\"}]</td>\n",
              "      <td>Released</td>\n",
              "      <td>Lost in our world, found in another.</td>\n",
              "      <td>John Carter</td>\n",
              "      <td>6.1</td>\n",
              "      <td>2124</td>\n",
              "    </tr>\n",
              "  </tbody>\n",
              "</table>\n",
              "</div>"
            ],
            "text/plain": [
              "      budget  ... vote_count\n",
              "0  237000000  ...      11800\n",
              "1  300000000  ...       4500\n",
              "2  245000000  ...       4466\n",
              "3  250000000  ...       9106\n",
              "4  260000000  ...       2124\n",
              "\n",
              "[5 rows x 20 columns]"
            ]
          },
          "metadata": {
            "tags": []
          },
          "execution_count": 25
        }
      ]
    },
    {
      "cell_type": "code",
      "metadata": {
        "colab": {
          "base_uri": "https://localhost:8080/"
        },
        "id": "YVUqvg3Ke_ux",
        "outputId": "ff6e3a23-8497-43f9-a64a-7d42cb6b6050"
      },
      "source": [
        "# valores únicos da coluna línguas\n",
        "tmdb.original_language.unique()"
      ],
      "execution_count": 26,
      "outputs": [
        {
          "output_type": "execute_result",
          "data": {
            "text/plain": [
              "array(['en', 'ja', 'fr', 'zh', 'es', 'de', 'hi', 'ru', 'ko', 'te', 'cn',\n",
              "       'it', 'nl', 'ta', 'sv', 'th', 'da', 'xx', 'hu', 'cs', 'pt', 'is',\n",
              "       'tr', 'nb', 'af', 'pl', 'he', 'ar', 'vi', 'ky', 'id', 'ro', 'fa',\n",
              "       'no', 'sl', 'ps', 'el'], dtype=object)"
            ]
          },
          "metadata": {
            "tags": []
          },
          "execution_count": 26
        }
      ]
    },
    {
      "cell_type": "code",
      "metadata": {
        "id": "lkG18LQAfDsl"
      },
      "source": [
        "# budget => orçamento => quantitativo contínuo\n",
        "# quantidade de votos => 1, 2, 3, 4, não tem 2,5 votos"
      ],
      "execution_count": 27,
      "outputs": []
    },
    {
      "cell_type": "code",
      "metadata": {
        "colab": {
          "base_uri": "https://localhost:8080/"
        },
        "id": "EvJ9d0wVtftE",
        "outputId": "5f288b90-d12d-4895-e4e3-576a0c246102"
      },
      "source": [
        "tmdb.vote_average.unique()"
      ],
      "execution_count": 28,
      "outputs": [
        {
          "output_type": "execute_result",
          "data": {
            "text/plain": [
              "array([ 7.2,  6.9,  6.3,  7.6,  6.1,  5.9,  7.4,  7.3,  5.7,  5.4,  7. ,\n",
              "        6.5,  6.4,  6.2,  7.1,  5.8,  6.6,  7.5,  5.5,  6.7,  6.8,  6. ,\n",
              "        5.1,  7.8,  5.6,  5.2,  8.2,  7.7,  5.3,  8. ,  4.8,  4.9,  7.9,\n",
              "        8.1,  4.7,  5. ,  4.2,  4.4,  4.1,  3.7,  3.6,  3. ,  3.9,  4.3,\n",
              "        4.5,  3.4,  4.6,  8.3,  3.5,  4. ,  2.3,  3.2,  0. ,  3.8,  2.9,\n",
              "        8.5,  1.9,  3.1,  3.3,  2.2,  0.5,  9.3,  8.4,  2.7, 10. ,  1. ,\n",
              "        2. ,  2.8,  9.5,  2.6,  2.4])"
            ]
          },
          "metadata": {
            "tags": []
          },
          "execution_count": 28
        }
      ]
    },
    {
      "cell_type": "code",
      "metadata": {
        "colab": {
          "base_uri": "https://localhost:8080/"
        },
        "id": "hU1BplBltiYC",
        "outputId": "9d3e6ba5-d67b-4c70-fe10-22aa13d2165e"
      },
      "source": [
        "tmdb.vote_average.describe()"
      ],
      "execution_count": 29,
      "outputs": [
        {
          "output_type": "execute_result",
          "data": {
            "text/plain": [
              "count    4803.000000\n",
              "mean        6.092172\n",
              "std         1.194612\n",
              "min         0.000000\n",
              "25%         5.600000\n",
              "50%         6.200000\n",
              "75%         6.800000\n",
              "max        10.000000\n",
              "Name: vote_average, dtype: float64"
            ]
          },
          "metadata": {
            "tags": []
          },
          "execution_count": 29
        }
      ]
    },
    {
      "cell_type": "code",
      "metadata": {
        "colab": {
          "base_uri": "https://localhost:8080/"
        },
        "id": "WIsWLEjVtpgm",
        "outputId": "5847312a-6ea0-42b4-e2c8-13abe08b70c6"
      },
      "source": [
        " # apenas os índices da coluna (no caso, as línguas)\n",
        " tmdb['original_language'].value_counts().index"
      ],
      "execution_count": 30,
      "outputs": [
        {
          "output_type": "execute_result",
          "data": {
            "text/plain": [
              "Index(['en', 'fr', 'es', 'zh', 'de', 'hi', 'ja', 'it', 'cn', 'ko', 'ru', 'pt',\n",
              "       'da', 'sv', 'nl', 'fa', 'th', 'he', 'cs', 'ro', 'ar', 'ta', 'id', 'nb',\n",
              "       'af', 'hu', 'ps', 'sl', 'el', 'is', 'xx', 'vi', 'no', 'ky', 'pl', 'tr',\n",
              "       'te'],\n",
              "      dtype='object')"
            ]
          },
          "metadata": {
            "tags": []
          },
          "execution_count": 30
        }
      ]
    },
    {
      "cell_type": "code",
      "metadata": {
        "colab": {
          "base_uri": "https://localhost:8080/"
        },
        "id": "HjwjXb2EvuHO",
        "outputId": "741f207c-76c8-41e8-8a6a-457464415d83"
      },
      "source": [
        "# apenas os valores da coluna\n",
        "tmdb['original_language'].value_counts().values"
      ],
      "execution_count": 31,
      "outputs": [
        {
          "output_type": "execute_result",
          "data": {
            "text/plain": [
              "array([4505,   70,   32,   27,   27,   19,   16,   14,   12,   11,   11,\n",
              "          9,    7,    5,    4,    4,    3,    3,    2,    2,    2,    2,\n",
              "          2,    1,    1,    1,    1,    1,    1,    1,    1,    1,    1,\n",
              "          1,    1,    1,    1])"
            ]
          },
          "metadata": {
            "tags": []
          },
          "execution_count": 31
        }
      ]
    },
    {
      "cell_type": "code",
      "metadata": {
        "colab": {
          "base_uri": "https://localhost:8080/",
          "height": 1000
        },
        "id": "E6i_rhS1wH6C",
        "outputId": "47128a79-fece-4a61-b6eb-a2e90c95a551"
      },
      "source": [
        "# transforma a série em dataframe, depois remove o índice\n",
        "# transformar para dataframe é importante pq antes só tinhamos um dado na coluna\n",
        "# dataframe tem dois dados (neste caso, os nomes das línguas e o total contado)\n",
        "tmdb['original_language'].value_counts().to_frame().reset_index()"
      ],
      "execution_count": 32,
      "outputs": [
        {
          "output_type": "execute_result",
          "data": {
            "text/html": [
              "<div>\n",
              "<style scoped>\n",
              "    .dataframe tbody tr th:only-of-type {\n",
              "        vertical-align: middle;\n",
              "    }\n",
              "\n",
              "    .dataframe tbody tr th {\n",
              "        vertical-align: top;\n",
              "    }\n",
              "\n",
              "    .dataframe thead th {\n",
              "        text-align: right;\n",
              "    }\n",
              "</style>\n",
              "<table border=\"1\" class=\"dataframe\">\n",
              "  <thead>\n",
              "    <tr style=\"text-align: right;\">\n",
              "      <th></th>\n",
              "      <th>index</th>\n",
              "      <th>original_language</th>\n",
              "    </tr>\n",
              "  </thead>\n",
              "  <tbody>\n",
              "    <tr>\n",
              "      <th>0</th>\n",
              "      <td>en</td>\n",
              "      <td>4505</td>\n",
              "    </tr>\n",
              "    <tr>\n",
              "      <th>1</th>\n",
              "      <td>fr</td>\n",
              "      <td>70</td>\n",
              "    </tr>\n",
              "    <tr>\n",
              "      <th>2</th>\n",
              "      <td>es</td>\n",
              "      <td>32</td>\n",
              "    </tr>\n",
              "    <tr>\n",
              "      <th>3</th>\n",
              "      <td>zh</td>\n",
              "      <td>27</td>\n",
              "    </tr>\n",
              "    <tr>\n",
              "      <th>4</th>\n",
              "      <td>de</td>\n",
              "      <td>27</td>\n",
              "    </tr>\n",
              "    <tr>\n",
              "      <th>5</th>\n",
              "      <td>hi</td>\n",
              "      <td>19</td>\n",
              "    </tr>\n",
              "    <tr>\n",
              "      <th>6</th>\n",
              "      <td>ja</td>\n",
              "      <td>16</td>\n",
              "    </tr>\n",
              "    <tr>\n",
              "      <th>7</th>\n",
              "      <td>it</td>\n",
              "      <td>14</td>\n",
              "    </tr>\n",
              "    <tr>\n",
              "      <th>8</th>\n",
              "      <td>cn</td>\n",
              "      <td>12</td>\n",
              "    </tr>\n",
              "    <tr>\n",
              "      <th>9</th>\n",
              "      <td>ko</td>\n",
              "      <td>11</td>\n",
              "    </tr>\n",
              "    <tr>\n",
              "      <th>10</th>\n",
              "      <td>ru</td>\n",
              "      <td>11</td>\n",
              "    </tr>\n",
              "    <tr>\n",
              "      <th>11</th>\n",
              "      <td>pt</td>\n",
              "      <td>9</td>\n",
              "    </tr>\n",
              "    <tr>\n",
              "      <th>12</th>\n",
              "      <td>da</td>\n",
              "      <td>7</td>\n",
              "    </tr>\n",
              "    <tr>\n",
              "      <th>13</th>\n",
              "      <td>sv</td>\n",
              "      <td>5</td>\n",
              "    </tr>\n",
              "    <tr>\n",
              "      <th>14</th>\n",
              "      <td>nl</td>\n",
              "      <td>4</td>\n",
              "    </tr>\n",
              "    <tr>\n",
              "      <th>15</th>\n",
              "      <td>fa</td>\n",
              "      <td>4</td>\n",
              "    </tr>\n",
              "    <tr>\n",
              "      <th>16</th>\n",
              "      <td>th</td>\n",
              "      <td>3</td>\n",
              "    </tr>\n",
              "    <tr>\n",
              "      <th>17</th>\n",
              "      <td>he</td>\n",
              "      <td>3</td>\n",
              "    </tr>\n",
              "    <tr>\n",
              "      <th>18</th>\n",
              "      <td>cs</td>\n",
              "      <td>2</td>\n",
              "    </tr>\n",
              "    <tr>\n",
              "      <th>19</th>\n",
              "      <td>ro</td>\n",
              "      <td>2</td>\n",
              "    </tr>\n",
              "    <tr>\n",
              "      <th>20</th>\n",
              "      <td>ar</td>\n",
              "      <td>2</td>\n",
              "    </tr>\n",
              "    <tr>\n",
              "      <th>21</th>\n",
              "      <td>ta</td>\n",
              "      <td>2</td>\n",
              "    </tr>\n",
              "    <tr>\n",
              "      <th>22</th>\n",
              "      <td>id</td>\n",
              "      <td>2</td>\n",
              "    </tr>\n",
              "    <tr>\n",
              "      <th>23</th>\n",
              "      <td>nb</td>\n",
              "      <td>1</td>\n",
              "    </tr>\n",
              "    <tr>\n",
              "      <th>24</th>\n",
              "      <td>af</td>\n",
              "      <td>1</td>\n",
              "    </tr>\n",
              "    <tr>\n",
              "      <th>25</th>\n",
              "      <td>hu</td>\n",
              "      <td>1</td>\n",
              "    </tr>\n",
              "    <tr>\n",
              "      <th>26</th>\n",
              "      <td>ps</td>\n",
              "      <td>1</td>\n",
              "    </tr>\n",
              "    <tr>\n",
              "      <th>27</th>\n",
              "      <td>sl</td>\n",
              "      <td>1</td>\n",
              "    </tr>\n",
              "    <tr>\n",
              "      <th>28</th>\n",
              "      <td>el</td>\n",
              "      <td>1</td>\n",
              "    </tr>\n",
              "    <tr>\n",
              "      <th>29</th>\n",
              "      <td>is</td>\n",
              "      <td>1</td>\n",
              "    </tr>\n",
              "    <tr>\n",
              "      <th>30</th>\n",
              "      <td>xx</td>\n",
              "      <td>1</td>\n",
              "    </tr>\n",
              "    <tr>\n",
              "      <th>31</th>\n",
              "      <td>vi</td>\n",
              "      <td>1</td>\n",
              "    </tr>\n",
              "    <tr>\n",
              "      <th>32</th>\n",
              "      <td>no</td>\n",
              "      <td>1</td>\n",
              "    </tr>\n",
              "    <tr>\n",
              "      <th>33</th>\n",
              "      <td>ky</td>\n",
              "      <td>1</td>\n",
              "    </tr>\n",
              "    <tr>\n",
              "      <th>34</th>\n",
              "      <td>pl</td>\n",
              "      <td>1</td>\n",
              "    </tr>\n",
              "    <tr>\n",
              "      <th>35</th>\n",
              "      <td>tr</td>\n",
              "      <td>1</td>\n",
              "    </tr>\n",
              "    <tr>\n",
              "      <th>36</th>\n",
              "      <td>te</td>\n",
              "      <td>1</td>\n",
              "    </tr>\n",
              "  </tbody>\n",
              "</table>\n",
              "</div>"
            ],
            "text/plain": [
              "   index  original_language\n",
              "0     en               4505\n",
              "1     fr                 70\n",
              "2     es                 32\n",
              "3     zh                 27\n",
              "4     de                 27\n",
              "5     hi                 19\n",
              "6     ja                 16\n",
              "7     it                 14\n",
              "8     cn                 12\n",
              "9     ko                 11\n",
              "10    ru                 11\n",
              "11    pt                  9\n",
              "12    da                  7\n",
              "13    sv                  5\n",
              "14    nl                  4\n",
              "15    fa                  4\n",
              "16    th                  3\n",
              "17    he                  3\n",
              "18    cs                  2\n",
              "19    ro                  2\n",
              "20    ar                  2\n",
              "21    ta                  2\n",
              "22    id                  2\n",
              "23    nb                  1\n",
              "24    af                  1\n",
              "25    hu                  1\n",
              "26    ps                  1\n",
              "27    sl                  1\n",
              "28    el                  1\n",
              "29    is                  1\n",
              "30    xx                  1\n",
              "31    vi                  1\n",
              "32    no                  1\n",
              "33    ky                  1\n",
              "34    pl                  1\n",
              "35    tr                  1\n",
              "36    te                  1"
            ]
          },
          "metadata": {
            "tags": []
          },
          "execution_count": 32
        }
      ]
    },
    {
      "cell_type": "code",
      "metadata": {
        "colab": {
          "base_uri": "https://localhost:8080/",
          "height": 204
        },
        "id": "T4a1w7LdwMjZ",
        "outputId": "821fcd6d-0c08-40c0-9467-c73e31b7cc4f"
      },
      "source": [
        " contagem_de_lingua = tmdb['original_language'].value_counts().to_frame().reset_index()\n",
        " contagem_de_lingua.columns = [\"original_language\", \"total\"] #renomeia as colunas acima\n",
        " contagem_de_lingua.head()"
      ],
      "execution_count": 33,
      "outputs": [
        {
          "output_type": "execute_result",
          "data": {
            "text/html": [
              "<div>\n",
              "<style scoped>\n",
              "    .dataframe tbody tr th:only-of-type {\n",
              "        vertical-align: middle;\n",
              "    }\n",
              "\n",
              "    .dataframe tbody tr th {\n",
              "        vertical-align: top;\n",
              "    }\n",
              "\n",
              "    .dataframe thead th {\n",
              "        text-align: right;\n",
              "    }\n",
              "</style>\n",
              "<table border=\"1\" class=\"dataframe\">\n",
              "  <thead>\n",
              "    <tr style=\"text-align: right;\">\n",
              "      <th></th>\n",
              "      <th>original_language</th>\n",
              "      <th>total</th>\n",
              "    </tr>\n",
              "  </thead>\n",
              "  <tbody>\n",
              "    <tr>\n",
              "      <th>0</th>\n",
              "      <td>en</td>\n",
              "      <td>4505</td>\n",
              "    </tr>\n",
              "    <tr>\n",
              "      <th>1</th>\n",
              "      <td>fr</td>\n",
              "      <td>70</td>\n",
              "    </tr>\n",
              "    <tr>\n",
              "      <th>2</th>\n",
              "      <td>es</td>\n",
              "      <td>32</td>\n",
              "    </tr>\n",
              "    <tr>\n",
              "      <th>3</th>\n",
              "      <td>zh</td>\n",
              "      <td>27</td>\n",
              "    </tr>\n",
              "    <tr>\n",
              "      <th>4</th>\n",
              "      <td>de</td>\n",
              "      <td>27</td>\n",
              "    </tr>\n",
              "  </tbody>\n",
              "</table>\n",
              "</div>"
            ],
            "text/plain": [
              "  original_language  total\n",
              "0                en   4505\n",
              "1                fr     70\n",
              "2                es     32\n",
              "3                zh     27\n",
              "4                de     27"
            ]
          },
          "metadata": {
            "tags": []
          },
          "execution_count": 33
        }
      ]
    },
    {
      "cell_type": "code",
      "metadata": {
        "colab": {
          "base_uri": "https://localhost:8080/",
          "height": 515
        },
        "id": "ELax_8QYzdLh",
        "outputId": "359d5cef-5a46-4741-e437-7035e570a58c"
      },
      "source": [
        "plt.figure(figsize=(12, 8)) #altera o tamanho do gráfico\n",
        "sns.barplot(x = \"original_language\", y = \"total\", data = contagem_de_lingua)"
      ],
      "execution_count": 34,
      "outputs": [
        {
          "output_type": "execute_result",
          "data": {
            "text/plain": [
              "<matplotlib.axes._subplots.AxesSubplot at 0x7f6a929be150>"
            ]
          },
          "metadata": {
            "tags": []
          },
          "execution_count": 34
        },
        {
          "output_type": "display_data",
          "data": {
            "image/png": "[encoded data removed]",
            "text/plain": [
              "<Figure size 864x576 with 1 Axes>"
            ]
          },
          "metadata": {
            "tags": [],
            "needs_background": "light"
          }
        }
      ]
    },
    {
      "cell_type": "code",
      "metadata": {
        "colab": {
          "base_uri": "https://localhost:8080/",
          "height": 401
        },
        "id": "rysl_-M6z4mL",
        "outputId": "00ecf701-64b9-44de-9701-3ee0db2b0325"
      },
      "source": [
        "#catplot mais prático, não precisou usar value_counts, nem transformar a série em dataframe\n",
        "\n",
        "sns.catplot(x = \"original_language\", kind=\"count\", data = tmdb, aspect = 2)"
      ],
      "execution_count": 35,
      "outputs": [
        {
          "output_type": "execute_result",
          "data": {
            "text/plain": [
              "<seaborn.axisgrid.FacetGrid at 0x7f6a84966790>"
            ]
          },
          "metadata": {
            "tags": []
          },
          "execution_count": 35
        },
        {
          "output_type": "display_data",
          "data": {
            "image/png": "[encoded data removed]",
            "text/plain": [
              "<Figure size 720x360 with 1 Axes>"
            ]
          },
          "metadata": {
            "tags": [],
            "needs_background": "light"
          }
        }
      ]
    },
    {
      "cell_type": "code",
      "metadata": {
        "colab": {
          "base_uri": "https://localhost:8080/",
          "height": 1000
        },
        "id": "XNQfzVST3-RR",
        "outputId": "68b4a7b0-57b1-47e7-fec3-d4edc8231cc6"
      },
      "source": [
        "# geralmnete não usa-se o gráfico de pizza\n",
        "plt.pie(contagem_de_lingua['total'], labels = contagem_de_lingua['original_language'])"
      ],
      "execution_count": 36,
      "outputs": [
        {
          "output_type": "execute_result",
          "data": {
            "text/plain": [
              "([<matplotlib.patches.Wedge at 0x7f6a78344850>,\n",
              "  <matplotlib.patches.Wedge at 0x7f6a78344bd0>,\n",
              "  <matplotlib.patches.Wedge at 0x7f6a7834f290>,\n",
              "  <matplotlib.patches.Wedge at 0x7f6a7834f350>,\n",
              "  <matplotlib.patches.Wedge at 0x7f6a7835a1d0>,\n",
              "  <matplotlib.patches.Wedge at 0x7f6a7835a810>,\n",
              "  <matplotlib.patches.Wedge at 0x7f6a7835a550>,\n",
              "  <matplotlib.patches.Wedge at 0x7f6a78365110>,\n",
              "  <matplotlib.patches.Wedge at 0x7f6a7834f910>,\n",
              "  <matplotlib.patches.Wedge at 0x7f6a7835a590>,\n",
              "  <matplotlib.patches.Wedge at 0x7f6a783e8c90>,\n",
              "  <matplotlib.patches.Wedge at 0x7f6a7836f210>,\n",
              "  <matplotlib.patches.Wedge at 0x7f6a7836f790>,\n",
              "  <matplotlib.patches.Wedge at 0x7f6a782fd290>,\n",
              "  <matplotlib.patches.Wedge at 0x7f6a782fd350>,\n",
              "  <matplotlib.patches.Wedge at 0x7f6a782fd910>,\n",
              "  <matplotlib.patches.Wedge at 0x7f6a78306410>,\n",
              "  <matplotlib.patches.Wedge at 0x7f6a783064d0>,\n",
              "  <matplotlib.patches.Wedge at 0x7f6a78306a90>,\n",
              "  <matplotlib.patches.Wedge at 0x7f6a78312090>,\n",
              "  <matplotlib.patches.Wedge at 0x7f6a78312650>,\n",
              "  <matplotlib.patches.Wedge at 0x7f6a7831d150>,\n",
              "  <matplotlib.patches.Wedge at 0x7f6a7831d210>,\n",
              "  <matplotlib.patches.Wedge at 0x7f6a7831d7d0>,\n",
              "  <matplotlib.patches.Wedge at 0x7f6a783292d0>,\n",
              "  <matplotlib.patches.Wedge at 0x7f6a78329390>,\n",
              "  <matplotlib.patches.Wedge at 0x7f6a78329950>,\n",
              "  <matplotlib.patches.Wedge at 0x7f6a78334450>,\n",
              "  <matplotlib.patches.Wedge at 0x7f6a78334510>,\n",
              "  <matplotlib.patches.Wedge at 0x7f6a78334ad0>,\n",
              "  <matplotlib.patches.Wedge at 0x7f6a782bf0d0>,\n",
              "  <matplotlib.patches.Wedge at 0x7f6a782bf690>,\n",
              "  <matplotlib.patches.Wedge at 0x7f6a782ca190>,\n",
              "  <matplotlib.patches.Wedge at 0x7f6a782ca250>,\n",
              "  <matplotlib.patches.Wedge at 0x7f6a782ca810>,\n",
              "  <matplotlib.patches.Wedge at 0x7f6a782d7310>,\n",
              "  <matplotlib.patches.Wedge at 0x7f6a782d73d0>],\n",
              " [Text(-1.0791697536499925, 0.2130554923183512, 'en'),\n",
              "  Text(1.0355355017029462, -0.3710339940124459, 'fr'),\n",
              "  Text(1.0579676486019882, -0.3011718023181785, 'es'),\n",
              "  Text(1.0687996606645356, -0.26012936274741094, 'zh'),\n",
              "  Text(1.0773191105706255, -0.22222406260195313, 'de'),\n",
              "  Text(1.0835167978583342, -0.18971386021801853, 'hi'),\n",
              "  Text(1.0875756432724297, -0.16486121484618815, 'ja'),\n",
              "  Text(1.0906010773146022, -0.14348968659882622, 'it'),\n",
              "  Text(1.092883487371409, -0.12492270822755745, 'cn'),\n",
              "  Text(1.0946390911069936, -0.10846778425161549, 'ko'),\n",
              "  Text(1.0960865535188649, -0.09270527058984593, 'ru'),\n",
              "  Text(1.0972054830031333, -0.07835896928789601, 'pt'),\n",
              "  Text(1.097965443340663, -0.06687215586282344, 'da'),\n",
              "  Text(1.0984565010300316, -0.05825217030171998, 'sv'),\n",
              "  Text(1.0987803851616647, -0.0517847968421653, 'nl'),\n",
              "  Text(1.0990363161210686, -0.04603450713357274, 'fa'),\n",
              "  Text(1.0992355702663055, -0.04100196411527794, 'th'),\n",
              "  Text(1.0993880184234357, -0.03668766750546649, 'he'),\n",
              "  Text(1.0995021239019234, -0.033091985965784415, 'cs'),\n",
              "  Text(1.099584941078101, -0.03021518416739545, 'ro'),\n",
              "  Text(1.0996602312343366, -0.027338175536150495, 'ar'),\n",
              "  Text(1.099727993855245, -0.024460979766119193, 'ta'),\n",
              "  Text(1.0997882284769684, -0.02158361655264929, 'id'),\n",
              "  Text(1.0998284639438185, -0.01942549610642471, 'nb'),\n",
              "  Text(1.0998529348820232, -0.01798670707495573, 'af'),\n",
              "  Text(1.0998755236058106, -0.01654788726224571, 'hu'),\n",
              "  Text(1.0998962300765243, -0.01510903913059323, 'ps'),\n",
              "  Text(1.0999150542587282, -0.013670165142345335, 'sl'),\n",
              "  Text(1.0999319961202083, -0.012231267759896247, 'el'),\n",
              "  Text(1.0999470556319713, -0.01079234944567632, 'is'),\n",
              "  Text(1.099960232768245, -0.00935341266215563, 'xx'),\n",
              "  Text(1.0999715275064792, -0.007914459871831963, 'vi'),\n",
              "  Text(1.0999809398273452, -0.006475493537234394, 'no'),\n",
              "  Text(1.0999884697147349, -0.005036516120911278, 'ky'),\n",
              "  Text(1.0999941171557621, -0.0035975300854338356, 'pl'),\n",
              "  Text(1.0999978821407626, -0.0021585378933851127, 'tr'),\n",
              "  Text(1.0999997646632929, -0.0007195420073586872, 'te')])"
            ]
          },
          "metadata": {
            "tags": []
          },
          "execution_count": 36
        },
        {
          "output_type": "display_data",
          "data": {
            "image/png": "[encoded data removed]",
            "text/plain": [
              "<Figure size 432x288 with 1 Axes>"
            ]
          },
          "metadata": {
            "tags": []
          }
        }
      ]
    },
    {
      "cell_type": "code",
      "metadata": {
        "colab": {
          "base_uri": "https://localhost:8080/"
        },
        "id": "SuyBNpHP89bc",
        "outputId": "3d75dd7e-1348-41fb-f62e-d0bf183f9d5d"
      },
      "source": [
        "total_por_lingua = tmdb['original_language'].value_counts()\n",
        "total_geral = total_por_lingua.sum()\n",
        "total_de_ingles = total_por_lingua.loc['en']\n",
        "total_do_resto = total_geral - total_de_ingles\n",
        "print(total_de_ingles, total_do_resto)"
      ],
      "execution_count": 37,
      "outputs": [
        {
          "output_type": "stream",
          "text": [
            "4505 298\n"
          ],
          "name": "stdout"
        }
      ]
    },
    {
      "cell_type": "code",
      "metadata": {
        "colab": {
          "base_uri": "https://localhost:8080/",
          "height": 111
        },
        "id": "oxX09FDp9xNy",
        "outputId": "d4a2cf9c-cbfd-4b3d-aeb5-505680de6acc"
      },
      "source": [
        "#criando um objeto (dataframe)\n",
        "\n",
        "dados = {\n",
        "    'lingua': ['ingles', 'outros'],\n",
        "    'total': [total_de_ingles, total_do_resto]\n",
        "}\n",
        "dados = pd.DataFrame(dados)\n",
        "dados"
      ],
      "execution_count": 38,
      "outputs": [
        {
          "output_type": "execute_result",
          "data": {
            "text/html": [
              "<div>\n",
              "<style scoped>\n",
              "    .dataframe tbody tr th:only-of-type {\n",
              "        vertical-align: middle;\n",
              "    }\n",
              "\n",
              "    .dataframe tbody tr th {\n",
              "        vertical-align: top;\n",
              "    }\n",
              "\n",
              "    .dataframe thead th {\n",
              "        text-align: right;\n",
              "    }\n",
              "</style>\n",
              "<table border=\"1\" class=\"dataframe\">\n",
              "  <thead>\n",
              "    <tr style=\"text-align: right;\">\n",
              "      <th></th>\n",
              "      <th>lingua</th>\n",
              "      <th>total</th>\n",
              "    </tr>\n",
              "  </thead>\n",
              "  <tbody>\n",
              "    <tr>\n",
              "      <th>0</th>\n",
              "      <td>ingles</td>\n",
              "      <td>4505</td>\n",
              "    </tr>\n",
              "    <tr>\n",
              "      <th>1</th>\n",
              "      <td>outros</td>\n",
              "      <td>298</td>\n",
              "    </tr>\n",
              "  </tbody>\n",
              "</table>\n",
              "</div>"
            ],
            "text/plain": [
              "   lingua  total\n",
              "0  ingles   4505\n",
              "1  outros    298"
            ]
          },
          "metadata": {
            "tags": []
          },
          "execution_count": 38
        }
      ]
    },
    {
      "cell_type": "code",
      "metadata": {
        "colab": {
          "base_uri": "https://localhost:8080/",
          "height": 296
        },
        "id": "3aCscK7Y_CDl",
        "outputId": "a4224f0c-fc35-4fe2-c817-8cafc1c35155"
      },
      "source": [
        "sns.barplot(x = 'lingua', y = 'total', data = dados)"
      ],
      "execution_count": 39,
      "outputs": [
        {
          "output_type": "execute_result",
          "data": {
            "text/plain": [
              "<matplotlib.axes._subplots.AxesSubplot at 0x7f6a782f4750>"
            ]
          },
          "metadata": {
            "tags": []
          },
          "execution_count": 39
        },
        {
          "output_type": "display_data",
          "data": {
            "image/png": "[encoded data removed]",
            "text/plain": [
              "<Figure size 432x288 with 1 Axes>"
            ]
          },
          "metadata": {
            "tags": [],
            "needs_background": "light"
          }
        }
      ]
    },
    {
      "cell_type": "code",
      "metadata": {
        "colab": {
          "base_uri": "https://localhost:8080/",
          "height": 316
        },
        "id": "vgl51C0L_tsg",
        "outputId": "4be5760e-f632-4cf5-8df4-02c34e4d72ab"
      },
      "source": [
        "plt.pie(dados['total'], labels = dados['lingua'])"
      ],
      "execution_count": 40,
      "outputs": [
        {
          "output_type": "execute_result",
          "data": {
            "text/plain": [
              "([<matplotlib.patches.Wedge at 0x7f6a78206bd0>,\n",
              "  <matplotlib.patches.Wedge at 0x7f6a78206ed0>],\n",
              " [Text(-1.0791697536499925, 0.2130554923183512, 'ingles'),\n",
              "  Text(1.0791697511565306, -0.2130555049482467, 'outros')])"
            ]
          },
          "metadata": {
            "tags": []
          },
          "execution_count": 40
        },
        {
          "output_type": "display_data",
          "data": {
            "image/png": "[encoded data removed]",
            "text/plain": [
              "<Figure size 432x288 with 1 Axes>"
            ]
          },
          "metadata": {
            "tags": []
          }
        }
      ]
    },
    {
      "cell_type": "code",
      "metadata": {
        "colab": {
          "base_uri": "https://localhost:8080/"
        },
        "id": "YEdt8_BWATrv",
        "outputId": "f6f34519-5060-4503-f7dd-08bd31595a0a"
      },
      "source": [
        "total_por_lingua_outros_filmes = tmdb.query(\"original_language !='en'\").original_language.value_counts()\n",
        "total_por_lingua_outros_filmes"
      ],
      "execution_count": 41,
      "outputs": [
        {
          "output_type": "execute_result",
          "data": {
            "text/plain": [
              "fr    70\n",
              "es    32\n",
              "zh    27\n",
              "de    27\n",
              "hi    19\n",
              "ja    16\n",
              "it    14\n",
              "cn    12\n",
              "ru    11\n",
              "ko    11\n",
              "pt     9\n",
              "da     7\n",
              "sv     5\n",
              "fa     4\n",
              "nl     4\n",
              "th     3\n",
              "he     3\n",
              "cs     2\n",
              "ro     2\n",
              "id     2\n",
              "ar     2\n",
              "ta     2\n",
              "vi     1\n",
              "el     1\n",
              "no     1\n",
              "nb     1\n",
              "tr     1\n",
              "ps     1\n",
              "te     1\n",
              "is     1\n",
              "pl     1\n",
              "ky     1\n",
              "xx     1\n",
              "hu     1\n",
              "af     1\n",
              "sl     1\n",
              "Name: original_language, dtype: int64"
            ]
          },
          "metadata": {
            "tags": []
          },
          "execution_count": 41
        }
      ]
    },
    {
      "cell_type": "code",
      "metadata": {
        "colab": {
          "base_uri": "https://localhost:8080/",
          "height": 401
        },
        "id": "JnuGfJyrGJ9w",
        "outputId": "16855a5e-1100-43f2-904d-c11fa4af8daf"
      },
      "source": [
        "# para efeito de comparação com o gráfico editado\n",
        "sns.catplot(x = \"original_language\", kind=\"count\", data = tmdb.query(\"original_language !='en'\"))"
      ],
      "execution_count": 42,
      "outputs": [
        {
          "output_type": "execute_result",
          "data": {
            "text/plain": [
              "<seaborn.axisgrid.FacetGrid at 0x7f6a78215650>"
            ]
          },
          "metadata": {
            "tags": []
          },
          "execution_count": 42
        },
        {
          "output_type": "display_data",
          "data": {
            "image/png": "[encoded data removed]",
            "text/plain": [
              "<Figure size 360x360 with 1 Axes>"
            ]
          },
          "metadata": {
            "tags": [],
            "needs_background": "light"
          }
        }
      ]
    },
    {
      "cell_type": "code",
      "metadata": {
        "colab": {
          "base_uri": "https://localhost:8080/",
          "height": 401
        },
        "id": "jEsJUNPvAuxi",
        "outputId": "31c6fceb-4881-4213-bcca-0022fdb888ef"
      },
      "source": [
        "# plot apenas dos filmes sem lingua original em inglês\n",
        "# modificando parâmetros do gráfico através da documentação da seaborn\n",
        "# 'palette' para alterar as cores, 'order' para ordenar da maneira espeficicada\n",
        "# aspect para dizer se é quadrado (1), retângulo (2)...\n",
        "sns.catplot(x = \"original_language\", kind=\"count\", data = tmdb.query(\"original_language !='en'\"),\n",
        "            aspect = 2,\n",
        "            palette = \"mako\",\n",
        "            order = total_por_lingua_outros_filmes.index)\n"
      ],
      "execution_count": 43,
      "outputs": [
        {
          "output_type": "execute_result",
          "data": {
            "text/plain": [
              "<seaborn.axisgrid.FacetGrid at 0x7f6a8347b790>"
            ]
          },
          "metadata": {
            "tags": []
          },
          "execution_count": 43
        },
        {
          "output_type": "display_data",
          "data": {
            "image/png": "[encoded data removed]",
            "text/plain": [
              "<Figure size 720x360 with 1 Axes>"
            ]
          },
          "metadata": {
            "tags": [],
            "needs_background": "light"
          }
        }
      ]
    },
    {
      "cell_type": "markdown",
      "metadata": {
        "id": "wiWDbmUjvmVz"
      },
      "source": [
        "# Revisando o papel da média, mediana, medidas de tendência central, dispersão, desvio padrão, box plot, histograma."
      ]
    },
    {
      "cell_type": "code",
      "metadata": {
        "colab": {
          "base_uri": "https://localhost:8080/",
          "height": 111
        },
        "id": "QPatf2NXBmEz",
        "outputId": "e8740db7-76d7-42a2-e573-ff98d42716ba"
      },
      "source": [
        "filmes.head(2)"
      ],
      "execution_count": 44,
      "outputs": [
        {
          "output_type": "execute_result",
          "data": {
            "text/html": [
              "<div>\n",
              "<style scoped>\n",
              "    .dataframe tbody tr th:only-of-type {\n",
              "        vertical-align: middle;\n",
              "    }\n",
              "\n",
              "    .dataframe tbody tr th {\n",
              "        vertical-align: top;\n",
              "    }\n",
              "\n",
              "    .dataframe thead th {\n",
              "        text-align: right;\n",
              "    }\n",
              "</style>\n",
              "<table border=\"1\" class=\"dataframe\">\n",
              "  <thead>\n",
              "    <tr style=\"text-align: right;\">\n",
              "      <th></th>\n",
              "      <th>filmeId</th>\n",
              "      <th>titulo</th>\n",
              "      <th>generos</th>\n",
              "    </tr>\n",
              "  </thead>\n",
              "  <tbody>\n",
              "    <tr>\n",
              "      <th>0</th>\n",
              "      <td>1</td>\n",
              "      <td>Toy Story (1995)</td>\n",
              "      <td>Adventure|Animation|Children|Comedy|Fantasy</td>\n",
              "    </tr>\n",
              "    <tr>\n",
              "      <th>1</th>\n",
              "      <td>2</td>\n",
              "      <td>Jumanji (1995)</td>\n",
              "      <td>Adventure|Children|Fantasy</td>\n",
              "    </tr>\n",
              "  </tbody>\n",
              "</table>\n",
              "</div>"
            ],
            "text/plain": [
              "   filmeId            titulo                                      generos\n",
              "0        1  Toy Story (1995)  Adventure|Animation|Children|Comedy|Fantasy\n",
              "1        2    Jumanji (1995)                   Adventure|Children|Fantasy"
            ]
          },
          "metadata": {
            "tags": []
          },
          "execution_count": 44
        }
      ]
    },
    {
      "cell_type": "code",
      "metadata": {
        "colab": {
          "base_uri": "https://localhost:8080/"
        },
        "id": "yKFS2mGLMaKF",
        "outputId": "bddb7b1b-bad9-48ae-e112-e942ec7db0bb"
      },
      "source": [
        "notas_toy_story = notas.query('filmeId==1')\n",
        "notas_jumanji = notas.query('filmeId==2')\n",
        "print(len(notas_toy_story), len(notas_jumanji))"
      ],
      "execution_count": 45,
      "outputs": [
        {
          "output_type": "stream",
          "text": [
            "215 110\n"
          ],
          "name": "stdout"
        }
      ]
    },
    {
      "cell_type": "code",
      "metadata": {
        "colab": {
          "base_uri": "https://localhost:8080/"
        },
        "id": "imxQcVHaMhU4",
        "outputId": "a72cec0b-3059-45d8-bc4c-b46a7e1de00d"
      },
      "source": [
        "# %.2f deixa em duas casas decimais\n",
        "print(\"Nota média do Toy Story: %.2f\" % notas_toy_story.nota.mean())\n",
        "print(\"Nota média do Jumanji: %.2f\" % notas_jumanji.nota.mean())"
      ],
      "execution_count": 46,
      "outputs": [
        {
          "output_type": "stream",
          "text": [
            "Nota média do Toy Story: 3.92\n",
            "Nota média do Jumanji: 3.43\n"
          ],
          "name": "stdout"
        }
      ]
    },
    {
      "cell_type": "code",
      "metadata": {
        "colab": {
          "base_uri": "https://localhost:8080/"
        },
        "id": "fALdlPdjNMn-",
        "outputId": "c815248d-dd35-4b42-ab7f-f1432df400d0"
      },
      "source": [
        "print(\"Nota média do Toy Story: %.2f\" % notas_toy_story.nota.median())\n",
        "print(\"Nota média do Jumanji: %.2f\" % notas_jumanji.nota.median())"
      ],
      "execution_count": 47,
      "outputs": [
        {
          "output_type": "stream",
          "text": [
            "Nota média do Toy Story: 4.00\n",
            "Nota média do Jumanji: 3.50\n"
          ],
          "name": "stdout"
        }
      ]
    },
    {
      "cell_type": "code",
      "metadata": {
        "id": "jHwxfbUvOFuy"
      },
      "source": [
        "import numpy as np\n",
        "\n",
        "#criando e juntando 2 arrays\n",
        "filme1 = np.append(np.array([2.5] * 10), np.array([3.5] * 10))\n",
        "filme2 = np.append(np.array([5] * 10), np.array([1] * 10))"
      ],
      "execution_count": 48,
      "outputs": []
    },
    {
      "cell_type": "code",
      "metadata": {
        "colab": {
          "base_uri": "https://localhost:8080/"
        },
        "id": "4g6_n2RfOZT5",
        "outputId": "8da37caa-f5d7-465e-e549-b413fd39f62a"
      },
      "source": [
        "#médias, medianas e desvio padrão dos arrays criados\n",
        "print(filme1.mean(), filme2.mean())\n",
        "print(np.median(filme1), np.median(filme2))\n",
        "print(np.std(filme1), np.std(filme2))"
      ],
      "execution_count": 60,
      "outputs": [
        {
          "output_type": "stream",
          "text": [
            "3.0 3.0\n",
            "3.0 3.0\n",
            "0.5 2.0\n"
          ],
          "name": "stdout"
        }
      ]
    },
    {
      "cell_type": "code",
      "metadata": {
        "colab": {
          "base_uri": "https://localhost:8080/",
          "height": 370
        },
        "id": "1dEEw1iOPStM",
        "outputId": "86ec2296-ac44-46c9-ee21-09f4b5df4692"
      },
      "source": [
        "# exemplo de distribuição das notas dos arrays\n",
        "sns.distplot(filme1)\n",
        "sns.distplot(filme2)"
      ],
      "execution_count": 50,
      "outputs": [
        {
          "output_type": "stream",
          "text": [
            "/usr/local/lib/python3.7/dist-packages/seaborn/distributions.py:2557: FutureWarning: `distplot` is a deprecated function and will be removed in a future version. Please adapt your code to use either `displot` (a figure-level function with similar flexibility) or `histplot` (an axes-level function for histograms).\n",
            "  warnings.warn(msg, FutureWarning)\n",
            "/usr/local/lib/python3.7/dist-packages/seaborn/distributions.py:2557: FutureWarning: `distplot` is a deprecated function and will be removed in a future version. Please adapt your code to use either `displot` (a figure-level function with similar flexibility) or `histplot` (an axes-level function for histograms).\n",
            "  warnings.warn(msg, FutureWarning)\n"
          ],
          "name": "stderr"
        },
        {
          "output_type": "execute_result",
          "data": {
            "text/plain": [
              "<matplotlib.axes._subplots.AxesSubplot at 0x7f6a834b8f10>"
            ]
          },
          "metadata": {
            "tags": []
          },
          "execution_count": 50
        },
        {
          "output_type": "display_data",
          "data": {
            "image/png": "[encoded data removed]",
            "text/plain": [
              "<Figure size 432x288 with 1 Axes>"
            ]
          },
          "metadata": {
            "tags": [],
            "needs_background": "light"
          }
        }
      ]
    },
    {
      "cell_type": "code",
      "metadata": {
        "colab": {
          "base_uri": "https://localhost:8080/",
          "height": 316
        },
        "id": "d3esuNt0qKpC",
        "outputId": "172a5c65-f943-4322-a657-bde55eb2df7b"
      },
      "source": [
        "# visualizando os histogramas dos arrays\n",
        "plt.hist(filme1)\n",
        "plt.hist(filme2)"
      ],
      "execution_count": 51,
      "outputs": [
        {
          "output_type": "execute_result",
          "data": {
            "text/plain": [
              "(array([10.,  0.,  0.,  0.,  0.,  0.,  0.,  0.,  0., 10.]),\n",
              " array([1. , 1.4, 1.8, 2.2, 2.6, 3. , 3.4, 3.8, 4.2, 4.6, 5. ]),\n",
              " <a list of 10 Patch objects>)"
            ]
          },
          "metadata": {
            "tags": []
          },
          "execution_count": 51
        },
        {
          "output_type": "display_data",
          "data": {
            "image/png": "[encoded data removed]",
            "text/plain": [
              "<Figure size 432x288 with 1 Axes>"
            ]
          },
          "metadata": {
            "tags": [],
            "needs_background": "light"
          }
        }
      ]
    },
    {
      "cell_type": "code",
      "metadata": {
        "colab": {
          "base_uri": "https://localhost:8080/",
          "height": 520
        },
        "id": "g6w1xZQmqfhc",
        "outputId": "044a3340-b67c-4d8e-9343-0a40293702f0"
      },
      "source": [
        " # plotando o boxplot de ambos os filmes, array de array\n",
        " plt.boxplot([filme1, filme2])"
      ],
      "execution_count": 52,
      "outputs": [
        {
          "output_type": "execute_result",
          "data": {
            "text/plain": [
              "{'boxes': [<matplotlib.lines.Line2D at 0x7f6a77e58150>,\n",
              "  <matplotlib.lines.Line2D at 0x7f6a77e666d0>],\n",
              " 'caps': [<matplotlib.lines.Line2D at 0x7f6a77e5e150>,\n",
              "  <matplotlib.lines.Line2D at 0x7f6a77e5e690>,\n",
              "  <matplotlib.lines.Line2D at 0x7f6a77e6e690>,\n",
              "  <matplotlib.lines.Line2D at 0x7f6a77e6ebd0>],\n",
              " 'fliers': [<matplotlib.lines.Line2D at 0x7f6a77e66190>,\n",
              "  <matplotlib.lines.Line2D at 0x7f6a77df6690>],\n",
              " 'means': [],\n",
              " 'medians': [<matplotlib.lines.Line2D at 0x7f6a77e5ec10>,\n",
              "  <matplotlib.lines.Line2D at 0x7f6a77df6150>],\n",
              " 'whiskers': [<matplotlib.lines.Line2D at 0x7f6a77e58690>,\n",
              "  <matplotlib.lines.Line2D at 0x7f6a77e58bd0>,\n",
              "  <matplotlib.lines.Line2D at 0x7f6a77e66c10>,\n",
              "  <matplotlib.lines.Line2D at 0x7f6a77e6e150>]}"
            ]
          },
          "metadata": {
            "tags": []
          },
          "execution_count": 52
        },
        {
          "output_type": "display_data",
          "data": {
            "image/png": "[encoded data removed]",
            "text/plain": [
              "<Figure size 432x288 with 1 Axes>"
            ]
          },
          "metadata": {
            "tags": [],
            "needs_background": "light"
          }
        }
      ]
    },
    {
      "cell_type": "code",
      "metadata": {
        "colab": {
          "base_uri": "https://localhost:8080/",
          "height": 574
        },
        "id": "0OM-JvIaqt8n",
        "outputId": "89b1ec5e-8778-43b3-8a7f-a6605d13e76e"
      },
      "source": [
        "# Boxplot das notas de Toy Story e Jumanji, biblioteca pyplot\n",
        "plt.boxplot([notas_toy_story.nota, notas_jumanji.nota])"
      ],
      "execution_count": 53,
      "outputs": [
        {
          "output_type": "stream",
          "text": [
            "/usr/local/lib/python3.7/dist-packages/numpy/core/_asarray.py:83: VisibleDeprecationWarning: Creating an ndarray from ragged nested sequences (which is a list-or-tuple of lists-or-tuples-or ndarrays with different lengths or shapes) is deprecated. If you meant to do this, you must specify 'dtype=object' when creating the ndarray\n",
            "  return array(a, dtype, copy=False, order=order)\n"
          ],
          "name": "stderr"
        },
        {
          "output_type": "execute_result",
          "data": {
            "text/plain": [
              "{'boxes': [<matplotlib.lines.Line2D at 0x7f6a77de97d0>,\n",
              "  <matplotlib.lines.Line2D at 0x7f6a77df5d90>],\n",
              " 'caps': [<matplotlib.lines.Line2D at 0x7f6a77dec7d0>,\n",
              "  <matplotlib.lines.Line2D at 0x7f6a77decd10>,\n",
              "  <matplotlib.lines.Line2D at 0x7f6a77d7ed10>,\n",
              "  <matplotlib.lines.Line2D at 0x7f6a77d85290>],\n",
              " 'fliers': [<matplotlib.lines.Line2D at 0x7f6a77df5810>,\n",
              "  <matplotlib.lines.Line2D at 0x7f6a77d85d10>],\n",
              " 'means': [],\n",
              " 'medians': [<matplotlib.lines.Line2D at 0x7f6a77df52d0>,\n",
              "  <matplotlib.lines.Line2D at 0x7f6a77d857d0>],\n",
              " 'whiskers': [<matplotlib.lines.Line2D at 0x7f6a77de9d10>,\n",
              "  <matplotlib.lines.Line2D at 0x7f6a77dec290>,\n",
              "  <matplotlib.lines.Line2D at 0x7f6a77d7e2d0>,\n",
              "  <matplotlib.lines.Line2D at 0x7f6a77d7e7d0>]}"
            ]
          },
          "metadata": {
            "tags": []
          },
          "execution_count": 53
        },
        {
          "output_type": "display_data",
          "data": {
            "image/png": "[encoded data removed]",
            "text/plain": [
              "<Figure size 432x288 with 1 Axes>"
            ]
          },
          "metadata": {
            "tags": [],
            "needs_background": "light"
          }
        }
      ]
    },
    {
      "cell_type": "code",
      "metadata": {
        "colab": {
          "base_uri": "https://localhost:8080/",
          "height": 296
        },
        "id": "JCxYlOOyr7_W",
        "outputId": "f1c226e8-fcfa-4f01-aff5-c9a9f8251f8a"
      },
      "source": [
        " #boxplot pela biblioteca seaborn, dando um query em filmeId 1, 2, 3, 4 e 5\n",
        " sns.boxplot(x = 'filmeId', y = 'nota', data = notas.query('filmeId in [1,2, 3, 4, 5]'))"
      ],
      "execution_count": 56,
      "outputs": [
        {
          "output_type": "execute_result",
          "data": {
            "text/plain": [
              "<matplotlib.axes._subplots.AxesSubplot at 0x7f6a77ccba10>"
            ]
          },
          "metadata": {
            "tags": []
          },
          "execution_count": 56
        },
        {
          "output_type": "display_data",
          "data": {
            "image/png": "[encoded data removed]",
            "text/plain": [
              "<Figure size 432x288 with 1 Axes>"
            ]
          },
          "metadata": {
            "tags": [],
            "needs_background": "light"
          }
        }
      ]
    },
    {
      "cell_type": "code",
      "metadata": {
        "colab": {
          "base_uri": "https://localhost:8080/"
        },
        "id": "6mIELGzAsr9g",
        "outputId": "b55bfc4a-2ea9-4c8c-a2f8-d3775aaf10b3"
      },
      "source": [
        "# desvio padrão das notas do filme Jumanji\n",
        "notas_jumanji.nota.std()"
      ],
      "execution_count": 58,
      "outputs": [
        {
          "output_type": "execute_result",
          "data": {
            "text/plain": [
              "0.8817134921476455"
            ]
          },
          "metadata": {
            "tags": []
          },
          "execution_count": 58
        }
      ]
    },
    {
      "cell_type": "code",
      "metadata": {
        "colab": {
          "base_uri": "https://localhost:8080/"
        },
        "id": "kHJ49XC5uFEI",
        "outputId": "c8d40853-f5f9-46b1-ab28-aaafa1883f5e"
      },
      "source": [
        "# desvio padrão das notas do filme Toy Story\n",
        "notas_toy_story.nota.std()"
      ],
      "execution_count": 59,
      "outputs": [
        {
          "output_type": "execute_result",
          "data": {
            "text/plain": [
              "0.8348591407114045"
            ]
          },
          "metadata": {
            "tags": []
          },
          "execution_count": 59
        }
      ]
    },
    {
      "cell_type": "code",
      "metadata": {
        "id": "uyvLzpBLuUjf"
      },
      "source": [
        ""
      ],
      "execution_count": null,
      "outputs": []
    }
  ]
}