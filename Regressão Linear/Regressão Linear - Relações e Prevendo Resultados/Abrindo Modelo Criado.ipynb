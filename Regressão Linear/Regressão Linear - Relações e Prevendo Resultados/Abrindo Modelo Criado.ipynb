{
 "cells": [
  {
   "cell_type": "markdown",
   "id": "7b713853",
   "metadata": {},
   "source": [
    "# Este notebook está na mesma pasta que nosso modelo criado."
   ]
  },
  {
   "cell_type": "code",
   "execution_count": 1,
   "id": "8513a3e7",
   "metadata": {},
   "outputs": [
    {
     "name": "stdout",
     "output_type": "stream",
     "text": [
      "26094.90 litros\n"
     ]
    }
   ],
   "source": [
    "import pickle\n",
    "\n",
    "modelo = open('modelo_consumo_cerveja','rb') # rb read binary\n",
    "lm_new = pickle.load(modelo)\n",
    "modelo.close()\n",
    "\n",
    "temp_max = 30.5\n",
    "chuva = 12.2\n",
    "fds = 0\n",
    "entrada = [[temp_max, chuva, fds]]\n",
    "print('{0:.2f} litros'.format(lm_new.predict(entrada)[0]))"
   ]
  }
 ],
 "metadata": {
  "kernelspec": {
   "display_name": "Python 3",
   "language": "python",
   "name": "python3"
  },
  "language_info": {
   "codemirror_mode": {
    "name": "ipython",
    "version": 3
   },
   "file_extension": ".py",
   "mimetype": "text/x-python",
   "name": "python",
   "nbconvert_exporter": "python",
   "pygments_lexer": "ipython3",
   "version": "3.8.8"
  }
 },
 "nbformat": 4,
 "nbformat_minor": 5
}
