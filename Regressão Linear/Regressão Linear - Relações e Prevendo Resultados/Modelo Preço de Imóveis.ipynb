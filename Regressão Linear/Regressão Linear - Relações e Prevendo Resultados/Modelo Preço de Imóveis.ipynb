{
 "cells": [
  {
   "cell_type": "markdown",
   "id": "a3d72b0b",
   "metadata": {},
   "source": [
    "# Valor estimado é o mesmo do modelo criado no exercício."
   ]
  },
  {
   "cell_type": "code",
   "execution_count": 3,
   "id": "3c7fd3db",
   "metadata": {},
   "outputs": [
    {
     "name": "stdout",
     "output_type": "stream",
     "text": [
      "$ 59820.59\n"
     ]
    }
   ],
   "source": [
    "import pickle\n",
    "\n",
    "modelo = open('modelo_preco_imoveis','rb')\n",
    "novo = pickle.load(modelo)\n",
    "modelo.close()\n",
    "\n",
    "area = 85\n",
    "garagem = 3\n",
    "banheiros = 4\n",
    "lareira = 3\n",
    "marmore = 1\n",
    "andares = 1\n",
    "\n",
    "entrada=[[area, garagem, banheiros, lareira, marmore, andares]]\n",
    "\n",
    "print('$ {0:.2f}'.format(novo.predict(entrada)[0]))"
   ]
  }
 ],
 "metadata": {
  "kernelspec": {
   "display_name": "Python 3",
   "language": "python",
   "name": "python3"
  },
  "language_info": {
   "codemirror_mode": {
    "name": "ipython",
    "version": 3
   },
   "file_extension": ".py",
   "mimetype": "text/x-python",
   "name": "python",
   "nbconvert_exporter": "python",
   "pygments_lexer": "ipython3",
   "version": "3.8.8"
  }
 },
 "nbformat": 4,
 "nbformat_minor": 5
}
