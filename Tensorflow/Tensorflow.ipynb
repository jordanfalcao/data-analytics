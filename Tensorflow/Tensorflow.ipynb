{
 "cells": [
  {
   "cell_type": "code",
   "execution_count": 32,
   "id": "149ee7a3",
   "metadata": {},
   "outputs": [],
   "source": [
    "import tensorflow as tf\n",
    "import pandas as pd\n",
    "import numpy as np"
   ]
  },
  {
   "cell_type": "code",
   "execution_count": 15,
   "id": "f9d72f3d",
   "metadata": {},
   "outputs": [
    {
     "name": "stdout",
     "output_type": "stream",
     "text": [
      "Olá, Mundo!\n"
     ]
    }
   ],
   "source": [
    "with tf.compat.v1.Session() as sess:\n",
    "    frase = tf.constant('Olá, Mundo!')\n",
    "    rodar = sess.run(frase)\n",
    "print(rodar.decode('UTF-8'))"
   ]
  },
  {
   "cell_type": "code",
   "execution_count": 17,
   "id": "d69653ba",
   "metadata": {},
   "outputs": [
    {
     "name": "stdout",
     "output_type": "stream",
     "text": [
      "Olá, mundo!\r\n"
     ]
    }
   ],
   "source": [
    "frase = tf.constant('Olá, mundo!')\n",
    "tf.print(frase)"
   ]
  },
  {
   "cell_type": "code",
   "execution_count": 23,
   "id": "572e915b",
   "metadata": {},
   "outputs": [
    {
     "name": "stdout",
     "output_type": "stream",
     "text": [
      "15 5 10\r\n"
     ]
    }
   ],
   "source": [
    "a = tf.constant(5)\n",
    "b = tf.constant(3)\n",
    "c = tf.constant(2)\n",
    "\n",
    "d = tf.multiply(a, b)\n",
    "e = tf.add(b, c)\n",
    "f = tf.subtract(d, e)\n",
    "\n",
    "tf.print(d, e, f)"
   ]
  },
  {
   "cell_type": "code",
   "execution_count": 30,
   "id": "158074df",
   "metadata": {},
   "outputs": [
    {
     "data": {
      "text/plain": [
       "tensorflow.python.framework.ops.EagerTensor"
      ]
     },
     "execution_count": 30,
     "metadata": {},
     "output_type": "execute_result"
    }
   ],
   "source": [
    "type(f)"
   ]
  },
  {
   "cell_type": "code",
   "execution_count": 40,
   "id": "17ea15b7",
   "metadata": {},
   "outputs": [
    {
     "name": "stdout",
     "output_type": "stream",
     "text": [
      "[[2 0 4]\n",
      " [3 5 7]]\r\n"
     ]
    }
   ],
   "source": [
    "a = tf.constant(2)  # 1x1\n",
    "b = tf.constant([3, 1, 5, 8, 6])  # 1xn\n",
    "c = tf.constant([[2, 0, 4],[3, 5, 7]])  #nxn\n",
    "\n",
    "tf.print(c)"
   ]
  },
  {
   "cell_type": "code",
   "execution_count": 48,
   "id": "8a393701",
   "metadata": {},
   "outputs": [],
   "source": [
    "a1 = np.array(2)\n",
    "b1 = np.array([3, 1, 5, 8, 6])\n",
    "c1 = np.array([[2, 0, 4],[3, 5, 7]])"
   ]
  },
  {
   "cell_type": "code",
   "execution_count": 47,
   "id": "3dead890",
   "metadata": {},
   "outputs": [
    {
     "name": "stdout",
     "output_type": "stream",
     "text": [
      "()\n",
      "()\n",
      "(5,)\n",
      "(5,)\n",
      "(2, 3)\n",
      "(2, 3)\n"
     ]
    }
   ],
   "source": [
    "print(a.shape)\n",
    "print(a1.shape)\n",
    "print(b.shape)\n",
    "print(b1.shape)\n",
    "print(c.shape)\n",
    "print(c1.shape)"
   ]
  },
  {
   "cell_type": "code",
   "execution_count": 55,
   "id": "f617e5ab",
   "metadata": {},
   "outputs": [],
   "source": [
    "const = tf.constant(4)\n",
    "const_1 = tf.constant(4, dtype = tf.float64)  # inserindo o tipo"
   ]
  },
  {
   "cell_type": "code",
   "execution_count": 56,
   "id": "edd39c5e",
   "metadata": {},
   "outputs": [
    {
     "name": "stdout",
     "output_type": "stream",
     "text": [
      "tf.Tensor(4, shape=(), dtype=int32)\n",
      "tf.Tensor(4.0, shape=(), dtype=float64)\n"
     ]
    }
   ],
   "source": [
    "print(const)\n",
    "print(const_1)"
   ]
  },
  {
   "cell_type": "markdown",
   "id": "7e2a1180",
   "metadata": {},
   "source": [
    "## Multiplicação de matrizes"
   ]
  },
  {
   "cell_type": "code",
   "execution_count": 76,
   "id": "860050c9",
   "metadata": {},
   "outputs": [],
   "source": [
    "A = tf.constant([[1, 2, 3], [4, 5, 6]])\n",
    "B = tf.constant([[0, 0], [1, 0], [0, 1]])\n",
    "x = tf.constant([0, 1, 0])"
   ]
  },
  {
   "cell_type": "code",
   "execution_count": 60,
   "id": "30268495",
   "metadata": {},
   "outputs": [
    {
     "name": "stdout",
     "output_type": "stream",
     "text": [
      "[[1 2 3]\n",
      " [4 5 6]]\n",
      "[[0 0]\n",
      " [1 0]\n",
      " [0 1]]\n"
     ]
    }
   ],
   "source": [
    "tf.print(A)\n",
    "tf.print(B)"
   ]
  },
  {
   "cell_type": "code",
   "execution_count": 61,
   "id": "12ecc73e",
   "metadata": {},
   "outputs": [
    {
     "name": "stdout",
     "output_type": "stream",
     "text": [
      "[[2 3]\n",
      " [5 6]]\r\n"
     ]
    }
   ],
   "source": [
    "# multiplicando as matrizes\n",
    "resultado = tf.matmul(A, B)\n",
    "tf.print(resultado)"
   ]
  },
  {
   "cell_type": "code",
   "execution_count": 64,
   "id": "f27920dc",
   "metadata": {},
   "outputs": [],
   "source": [
    "# dá erro, não é possível multiplicar essas matrizes\n",
    "# resultado = tf.matmul(A, x)"
   ]
  },
  {
   "cell_type": "code",
   "execution_count": 78,
   "id": "992a6052",
   "metadata": {},
   "outputs": [],
   "source": [
    "# expandindo x para ter a quantidade de linhas igual a quantidade de colunas de A\n",
    "x = tf.expand_dims(x, 1) # na prática, transpos a matriz"
   ]
  },
  {
   "cell_type": "code",
   "execution_count": 73,
   "id": "6c475ac2",
   "metadata": {},
   "outputs": [
    {
     "data": {
      "text/plain": [
       "<tf.Tensor: shape=(2, 1), dtype=int32, numpy=\n",
       "array([[2],\n",
       "       [5]])>"
      ]
     },
     "execution_count": 73,
     "metadata": {},
     "output_type": "execute_result"
    }
   ],
   "source": [
    "resultado_2 = tf.matmul(A, x)\n",
    "resultado_2"
   ]
  },
  {
   "cell_type": "code",
   "execution_count": 81,
   "id": "b5e2fab4",
   "metadata": {},
   "outputs": [],
   "source": [
    "transposta = tf.transpose(A)"
   ]
  },
  {
   "cell_type": "code",
   "execution_count": 82,
   "id": "c2b172e5",
   "metadata": {},
   "outputs": [
    {
     "name": "stdout",
     "output_type": "stream",
     "text": [
      "[[1 2 3]\n",
      " [4 5 6]]\n",
      "[[1 4]\n",
      " [2 5]\n",
      " [3 6]]\n"
     ]
    }
   ],
   "source": [
    "tf.print(A)\n",
    "tf.print(transposta)"
   ]
  },
  {
   "cell_type": "markdown",
   "id": "0ef28ac8",
   "metadata": {},
   "source": [
    "## Variáveis"
   ]
  },
  {
   "cell_type": "code",
   "execution_count": 83,
   "id": "860fd371",
   "metadata": {},
   "outputs": [],
   "source": [
    "variavel = tf.Variable(2)"
   ]
  },
  {
   "cell_type": "code",
   "execution_count": 84,
   "id": "637c7c52",
   "metadata": {},
   "outputs": [
    {
     "name": "stdout",
     "output_type": "stream",
     "text": [
      "2\r\n"
     ]
    }
   ],
   "source": [
    "tf.print(variavel)"
   ]
  },
  {
   "cell_type": "code",
   "execution_count": 86,
   "id": "d03114b0",
   "metadata": {},
   "outputs": [],
   "source": [
    "# criando uma matriz aleatória shape (3, 5)\n",
    "matriz = tf.random.normal((3, 5), 0, 1) # ((linhas, colunas), média, desvio padrão)"
   ]
  },
  {
   "cell_type": "code",
   "execution_count": 88,
   "id": "be07528b",
   "metadata": {},
   "outputs": [
    {
     "name": "stdout",
     "output_type": "stream",
     "text": [
      "[[0.495778412 0.0439552478 -1.04650044 -0.355926812 -0.7610569]\n",
      " [-1.61652589 -1.03163838 -0.406583697 0.634820819 0.827424109]\n",
      " [1.64856875 0.390189528 1.81746519 -1.00171459 0.58594805]]\r\n"
     ]
    }
   ],
   "source": [
    "tf.print(matriz)"
   ]
  },
  {
   "cell_type": "code",
   "execution_count": 89,
   "id": "f4700acd",
   "metadata": {},
   "outputs": [],
   "source": [
    "variavel_2 = tf.Variable(matriz)"
   ]
  },
  {
   "cell_type": "code",
   "execution_count": 90,
   "id": "a7c9ce4d",
   "metadata": {},
   "outputs": [
    {
     "name": "stdout",
     "output_type": "stream",
     "text": [
      "[[0.495778412 0.0439552478 -1.04650044 -0.355926812 -0.7610569]\n",
      " [-1.61652589 -1.03163838 -0.406583697 0.634820819 0.827424109]\n",
      " [1.64856875 0.390189528 1.81746519 -1.00171459 0.58594805]]\r\n"
     ]
    }
   ],
   "source": [
    "# imprimindo a variável matriz\n",
    "tf.print(variavel_2)"
   ]
  },
  {
   "cell_type": "code",
   "execution_count": 92,
   "id": "6a7055de",
   "metadata": {},
   "outputs": [
    {
     "name": "stdout",
     "output_type": "stream",
     "text": [
      "tf.Tensor(\n",
      "[[ 0.4957784   0.04395525 -1.0465004  -0.3559268  -0.7610569 ]\n",
      " [-1.6165259  -1.0316384  -0.4065837   0.6348208   0.8274241 ]\n",
      " [ 1.6485687   0.39018953  1.8174652  -1.0017146   0.58594805]], shape=(3, 5), dtype=float32)\n",
      "<tf.Variable 'Variable:0' shape=(3, 5) dtype=float32, numpy=\n",
      "array([[ 0.4957784 ,  0.04395525, -1.0465004 , -0.3559268 , -0.7610569 ],\n",
      "       [-1.6165259 , -1.0316384 , -0.4065837 ,  0.6348208 ,  0.8274241 ],\n",
      "       [ 1.6485687 ,  0.39018953,  1.8174652 , -1.0017146 ,  0.58594805]],\n",
      "      dtype=float32)>\n"
     ]
    }
   ],
   "source": [
    "# tipos das variáveis\n",
    "print(matriz)     # tensor\n",
    "print(variavel_2) # variable"
   ]
  },
  {
   "cell_type": "markdown",
   "id": "ff934fb2",
   "metadata": {},
   "source": [
    "## Placeholders"
   ]
  },
  {
   "cell_type": "code",
   "execution_count": 94,
   "id": "1cd7e95a",
   "metadata": {},
   "outputs": [],
   "source": [
    "dados_x = np.random.randn(4, 8)   # cria matriz de 4 linhas e 8 colunas com números aleatórios\n",
    "dados_w = np.random.randn(8, 2)   # cria matriz de 8 linhas e 2 colunas com números aleatórios\n",
    "\n",
    "b = tf.random.normal((4, 2), 0, 1, tf.float64)   # cria matriz (tensor) de 4 linhas e 2 colunas\n",
    "\n",
    "operacao = tf.matmul(dados_x, dados_w) + b   # [4, 8] x [8, 2] = [4, 2]\n",
    "maximo = tf.math.reduce_max(operacao) # encontra o maior valor da matriz operacao"
   ]
  },
  {
   "cell_type": "code",
   "execution_count": 95,
   "id": "2088c007",
   "metadata": {},
   "outputs": [
    {
     "name": "stdout",
     "output_type": "stream",
     "text": [
      "[[-0.46350922758330343 3.7562033949233449]\n",
      " [-3.7981461128592371 0.17751443813944789]\n",
      " [1.2235521780729126 2.4907941059808154]\n",
      " [0.051428160361012831 4.040647054647172]]\n",
      "4.040647054647172\n"
     ]
    }
   ],
   "source": [
    "tf.print(operacao)  # matriz [4, 2]\n",
    "tf.print(maximo)    # valor máximo"
   ]
  },
  {
   "cell_type": "code",
   "execution_count": 96,
   "id": "d5b7753a",
   "metadata": {},
   "outputs": [],
   "source": [
    "x1 = np.random.randn(4,8)  \n",
    "w1 = np.random.randn(8,2)\n",
    "\n",
    "\n",
    "x2 = np.random.randn(4,8)  \n",
    "w2 = np.random.randn(8,2)\n",
    "\n",
    "\n",
    "x3 = np.random.randn(4,8)  \n",
    "w3 = np.random.randn(8,2)\n",
    "\n",
    "x4 = np.random.randn(4,8)  \n",
    "w4 = np.random.randn(8,2)\n",
    "\n",
    "x5 = np.random.randn(4,8)  \n",
    "w5 = np.random.randn(8,2)\n",
    "\n",
    "lista_x = [x1, x2, x3, x4, x5]\n",
    "lista_w = [w1, w2, w3, w4, w5]\n",
    "lista_saida = []\n",
    "\n",
    "b = tf.random.normal((4,2),0,1, tf.float64)   # cria matriz (tensor) de 4 linhas e 2 colunas com números aleatórios\n",
    "\n",
    "for i in range(5):\n",
    "    operacao = (tf.matmul(lista_x[i], lista_w[i])) + b\n",
    "    maximo = tf.reduce_max(operacao) # encontra o maior valor da matriz operacao\n",
    "    lista_saida.append(maximo)"
   ]
  },
  {
   "cell_type": "code",
   "execution_count": null,
   "id": "a9642ea6",
   "metadata": {},
   "outputs": [],
   "source": [
    "tf.print(lista_saida)"
   ]
  }
 ],
 "metadata": {
  "kernelspec": {
   "display_name": "Python 3",
   "language": "python",
   "name": "python3"
  },
  "language_info": {
   "codemirror_mode": {
    "name": "ipython",
    "version": 3
   },
   "file_extension": ".py",
   "mimetype": "text/x-python",
   "name": "python",
   "nbconvert_exporter": "python",
   "pygments_lexer": "ipython3",
   "version": "3.8.8"
  }
 },
 "nbformat": 4,
 "nbformat_minor": 5
}
