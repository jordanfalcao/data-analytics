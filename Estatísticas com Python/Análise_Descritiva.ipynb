{
  "nbformat": 4,
  "nbformat_minor": 0,
  "metadata": {
    "colab": {
      "name": "Análise_Descritiva.ipynb",
      "provenance": []
    },
    "kernelspec": {
      "display_name": "Python 3",
      "language": "python",
      "name": "python3"
    },
    "language_info": {
      "codemirror_mode": {
        "name": "ipython",
        "version": 3
      },
      "file_extension": ".py",
      "mimetype": "text/x-python",
      "name": "python",
      "nbconvert_exporter": "python",
      "pygments_lexer": "ipython3",
      "version": "3.6.5"
    }
  },
  "cells": [
    {
      "cell_type": "markdown",
      "metadata": {
        "id": "WvMflodMjQKe"
      },
      "source": [
        "***\n",
        "# <font color=green size=10>CURSO DE ESTATÍSTICA - PARTE 1</font>\n",
        "***\n",
        "\n",
        "## Trabalho de Análise Descritiva de um Conjunto de Dados\n",
        "\n",
        "Utilizando os conhecimentos adquiridos em nosso treinamento realize uma análise descritiva básica de um conjunto de dados retirados da Pesquisa Nacional por Amostra de Domicílios - 2015 do IBGE. \n",
        "\n",
        "Vamos construir histogramas, calcular e avaliar medidas de tendência central, medidas separatrizes e de dispersão dos dados.\n",
        "\n",
        "Siga o roteiro proposto e vá completando as células vazias. Procure pensar em mais informações interessantes que podem ser exploradas em nosso dataset."
      ]
    },
    {
      "cell_type": "markdown",
      "metadata": {
        "id": "cVgsZ_E3jQKg"
      },
      "source": [
        "# <font color=green>DATASET DO PROJETO</font>\n",
        "***"
      ]
    },
    {
      "cell_type": "markdown",
      "metadata": {
        "id": "iN1gIbaKjQKh"
      },
      "source": [
        "### Pesquisa Nacional por Amostra de Domicílios - 2015\n",
        "\n",
        "A <b>Pesquisa Nacional por Amostra de Domicílios - PNAD</b> investiga anualmente, de forma permanente, características gerais da população, de educação, trabalho, rendimento e habitação e outras, com periodicidade variável, de acordo com as necessidades de informação para o país, como as características sobre migração, fecundidade, nupcialidade, saúde, segurança alimentar, entre outros temas. O levantamento dessas estatísticas constitui, ao longo dos 49 anos de realização da pesquisa, um importante instrumento para formulação, validação e avaliação de políticas orientadas para o desenvolvimento socioeconômico e a melhoria das condições de vida no Brasil."
      ]
    },
    {
      "cell_type": "markdown",
      "metadata": {
        "id": "U6V7br1RjQKi"
      },
      "source": [
        "### Fonte dos Dados\n",
        "\n",
        "https://ww2.ibge.gov.br/home/estatistica/populacao/trabalhoerendimento/pnad2015/microdados.shtm"
      ]
    },
    {
      "cell_type": "markdown",
      "metadata": {
        "id": "r0Fe_qnzjQKj"
      },
      "source": [
        "### Variáveis utilizadas\n",
        "\n",
        "> ### Renda\n",
        "> ***\n",
        "\n",
        "Rendimento mensal do trabalho principal para pessoas de 10 anos ou mais de idade.\n",
        "\n",
        "> ### Idade\n",
        "> ***\n",
        "\n",
        "Idade do morador na data de referência em anos.\n",
        "\n",
        "> ### Altura (elaboração própria)\n",
        "> ***\n",
        "\n",
        "Altura do morador em metros.\n",
        "\n",
        "> ### UF\n",
        "> ***\n",
        "\n",
        "|Código|Descrição|\n",
        "|---|---|\n",
        "|11|Rondônia|\n",
        "|12|Acre|\n",
        "|13|Amazonas|\n",
        "|14|Roraima|\n",
        "|15|Pará|\n",
        "|16|Amapá|\n",
        "|17|Tocantins|\n",
        "|21|Maranhão|\n",
        "|22|Piauí|\n",
        "|23|Ceará|\n",
        "|24|Rio Grande do Norte|\n",
        "|25|Paraíba|\n",
        "|26|Pernambuco|\n",
        "|27|Alagoas|\n",
        "|28|Sergipe|\n",
        "|29|Bahia|\n",
        "|31|Minas Gerais|\n",
        "|32|Espírito Santo|\n",
        "|33|Rio de Janeiro|\n",
        "|35|São Paulo|\n",
        "|41|Paraná|\n",
        "|42|Santa Catarina|\n",
        "|43|Rio Grande do Sul|\n",
        "|50|Mato Grosso do Sul|\n",
        "|51|Mato Grosso|\n",
        "|52|Goiás|\n",
        "|53|Distrito Federal|\n",
        "\n",
        "> ### Sexo\t\n",
        "> ***\n",
        "\n",
        "|Código|Descrição|\n",
        "|---|---|\n",
        "|0|Masculino|\n",
        "|1|Feminino|\n",
        "\n",
        "> ### Anos de Estudo\n",
        "> ***\n",
        "\n",
        "|Código|Descrição|\n",
        "|---|---|\n",
        "|1|Sem instrução e menos de 1 ano|\n",
        "|2|1 ano|\n",
        "|3|2 anos|\n",
        "|4|3 anos|\n",
        "|5|4 anos|\n",
        "|6|5 anos|\n",
        "|7|6 anos|\n",
        "|8|7 anos|\n",
        "|9|8 anos|\n",
        "|10|9 anos|\n",
        "|11|10 anos|\n",
        "|12|11 anos|\n",
        "|13|12 anos|\n",
        "|14|13 anos|\n",
        "|15|14 anos|\n",
        "|16|15 anos ou mais|\n",
        "|17|Não determinados| \n",
        "||Não aplicável|\n",
        "\n",
        "> ### Cor\n",
        "> ***\n",
        "\n",
        "|Código|Descrição|\n",
        "|---|---|\n",
        "|0|Indígena|\n",
        "|2|Branca|\n",
        "|4|Preta|\n",
        "|6|Amarela|\n",
        "|8|Parda|\n",
        "|9|Sem declaração|"
      ]
    },
    {
      "cell_type": "markdown",
      "metadata": {
        "id": "OK1IQH5cX7Gb"
      },
      "source": [
        "#### <font color='red'>Observação</font>\n",
        "***\n",
        "> Os seguintes tratamentos foram realizados nos dados originais:\n",
        "> 1. Foram eliminados os registros onde a <b>Renda</b> era inválida (999 999 999 999);\n",
        "> 2. Foram eliminados os registros onde a <b>Renda</b> era missing;\n",
        "> 3. Foram considerados somente os registros das <b>Pessoas de Referência</b> de cada domicílio (responsável pelo domicílio)."
      ]
    },
    {
      "cell_type": "markdown",
      "metadata": {
        "id": "ZIqLOffNTg1Y"
      },
      "source": [
        "***\n",
        "***"
      ]
    },
    {
      "cell_type": "markdown",
      "metadata": {
        "id": "8Rw70V6ojQKk"
      },
      "source": [
        "### Utilize a célula abaixo para importar as biblioteca que precisar para executar as tarefas\n",
        "#### <font color='red'>Sugestões: pandas, numpy, seaborn</font>"
      ]
    },
    {
      "cell_type": "code",
      "metadata": {
        "id": "fcTgimHBybMz"
      },
      "source": [
        "import pandas as pd\n",
        "import numpy as np\n",
        "import seaborn as sns"
      ],
      "execution_count": 1,
      "outputs": []
    },
    {
      "cell_type": "markdown",
      "metadata": {
        "id": "2a-gvBvCULwt"
      },
      "source": [
        "### Importe o dataset e armazene o conteúdo em uma DataFrame"
      ]
    },
    {
      "cell_type": "code",
      "metadata": {
        "id": "ufRZ7TLwjQKo"
      },
      "source": [
        "dados = pd.read_csv('dados.csv')"
      ],
      "execution_count": 2,
      "outputs": []
    },
    {
      "cell_type": "markdown",
      "metadata": {
        "id": "Oq3CKHCmTg1j"
      },
      "source": [
        "### Visualize o conteúdo do DataFrame"
      ]
    },
    {
      "cell_type": "code",
      "metadata": {
        "colab": {
          "base_uri": "https://localhost:8080/",
          "height": 359
        },
        "id": "GsC_WhLFjQKq",
        "scrolled": true,
        "outputId": "fd6bdfa4-5d21-451c-b82b-e5686626b2c7"
      },
      "source": [
        "dados.head(10)"
      ],
      "execution_count": 3,
      "outputs": [
        {
          "output_type": "execute_result",
          "data": {
            "text/html": [
              "<div>\n",
              "<style scoped>\n",
              "    .dataframe tbody tr th:only-of-type {\n",
              "        vertical-align: middle;\n",
              "    }\n",
              "\n",
              "    .dataframe tbody tr th {\n",
              "        vertical-align: top;\n",
              "    }\n",
              "\n",
              "    .dataframe thead th {\n",
              "        text-align: right;\n",
              "    }\n",
              "</style>\n",
              "<table border=\"1\" class=\"dataframe\">\n",
              "  <thead>\n",
              "    <tr style=\"text-align: right;\">\n",
              "      <th></th>\n",
              "      <th>UF</th>\n",
              "      <th>Sexo</th>\n",
              "      <th>Idade</th>\n",
              "      <th>Cor</th>\n",
              "      <th>Anos de Estudo</th>\n",
              "      <th>Renda</th>\n",
              "      <th>Altura</th>\n",
              "    </tr>\n",
              "  </thead>\n",
              "  <tbody>\n",
              "    <tr>\n",
              "      <th>0</th>\n",
              "      <td>11</td>\n",
              "      <td>0</td>\n",
              "      <td>23</td>\n",
              "      <td>8</td>\n",
              "      <td>12</td>\n",
              "      <td>800</td>\n",
              "      <td>1.603808</td>\n",
              "    </tr>\n",
              "    <tr>\n",
              "      <th>1</th>\n",
              "      <td>11</td>\n",
              "      <td>1</td>\n",
              "      <td>23</td>\n",
              "      <td>2</td>\n",
              "      <td>12</td>\n",
              "      <td>1150</td>\n",
              "      <td>1.739790</td>\n",
              "    </tr>\n",
              "    <tr>\n",
              "      <th>2</th>\n",
              "      <td>11</td>\n",
              "      <td>1</td>\n",
              "      <td>35</td>\n",
              "      <td>8</td>\n",
              "      <td>15</td>\n",
              "      <td>880</td>\n",
              "      <td>1.760444</td>\n",
              "    </tr>\n",
              "    <tr>\n",
              "      <th>3</th>\n",
              "      <td>11</td>\n",
              "      <td>0</td>\n",
              "      <td>46</td>\n",
              "      <td>2</td>\n",
              "      <td>6</td>\n",
              "      <td>3500</td>\n",
              "      <td>1.783158</td>\n",
              "    </tr>\n",
              "    <tr>\n",
              "      <th>4</th>\n",
              "      <td>11</td>\n",
              "      <td>1</td>\n",
              "      <td>47</td>\n",
              "      <td>8</td>\n",
              "      <td>9</td>\n",
              "      <td>150</td>\n",
              "      <td>1.690631</td>\n",
              "    </tr>\n",
              "    <tr>\n",
              "      <th>5</th>\n",
              "      <td>11</td>\n",
              "      <td>1</td>\n",
              "      <td>34</td>\n",
              "      <td>8</td>\n",
              "      <td>12</td>\n",
              "      <td>790</td>\n",
              "      <td>1.637906</td>\n",
              "    </tr>\n",
              "    <tr>\n",
              "      <th>6</th>\n",
              "      <td>11</td>\n",
              "      <td>0</td>\n",
              "      <td>57</td>\n",
              "      <td>8</td>\n",
              "      <td>12</td>\n",
              "      <td>3150</td>\n",
              "      <td>1.570078</td>\n",
              "    </tr>\n",
              "    <tr>\n",
              "      <th>7</th>\n",
              "      <td>11</td>\n",
              "      <td>1</td>\n",
              "      <td>60</td>\n",
              "      <td>8</td>\n",
              "      <td>12</td>\n",
              "      <td>1700</td>\n",
              "      <td>1.608495</td>\n",
              "    </tr>\n",
              "    <tr>\n",
              "      <th>8</th>\n",
              "      <td>11</td>\n",
              "      <td>1</td>\n",
              "      <td>50</td>\n",
              "      <td>4</td>\n",
              "      <td>14</td>\n",
              "      <td>1800</td>\n",
              "      <td>1.780329</td>\n",
              "    </tr>\n",
              "    <tr>\n",
              "      <th>9</th>\n",
              "      <td>11</td>\n",
              "      <td>0</td>\n",
              "      <td>26</td>\n",
              "      <td>8</td>\n",
              "      <td>12</td>\n",
              "      <td>1150</td>\n",
              "      <td>1.793203</td>\n",
              "    </tr>\n",
              "  </tbody>\n",
              "</table>\n",
              "</div>"
            ],
            "text/plain": [
              "   UF  Sexo  Idade  Cor  Anos de Estudo  Renda    Altura\n",
              "0  11     0     23    8              12    800  1.603808\n",
              "1  11     1     23    2              12   1150  1.739790\n",
              "2  11     1     35    8              15    880  1.760444\n",
              "3  11     0     46    2               6   3500  1.783158\n",
              "4  11     1     47    8               9    150  1.690631\n",
              "5  11     1     34    8              12    790  1.637906\n",
              "6  11     0     57    8              12   3150  1.570078\n",
              "7  11     1     60    8              12   1700  1.608495\n",
              "8  11     1     50    4              14   1800  1.780329\n",
              "9  11     0     26    8              12   1150  1.793203"
            ]
          },
          "metadata": {
            "tags": []
          },
          "execution_count": 3
        }
      ]
    },
    {
      "cell_type": "markdown",
      "metadata": {
        "id": "HDrFJQitTg1n"
      },
      "source": [
        "### Para avaliarmos o comportamento da variável RENDA vamos construir uma tabela de frequências considerando as seguintes classes em salários mínimos (SM)\n",
        "#### <font color='blue'>Descreva os pontos mais relevantes que você observa na tabela e no gráfico.</font>\n",
        "\n",
        "Classes de renda:\n",
        "\n",
        "<b>A</b> ► Acima de 25 SM\n",
        "\n",
        "<b>B</b> ► De 15 a 25 SM\n",
        "\n",
        "<b>C</b> ► De 5 a 15 SM\n",
        "\n",
        "<b>D</b> ► De 2 a 5 SM\n",
        "\n",
        "<b>E</b> ► Até 2 SM\n",
        "\n",
        "Para construir as classes de renda considere que o salário mínimo na época da pesquisa era de <b>R$ 788,00</b>.\n",
        "\n",
        "#### Siga os passos abaixo:"
      ]
    },
    {
      "cell_type": "markdown",
      "metadata": {
        "id": "zJBkeGxiTg1o"
      },
      "source": [
        "### 1º Definir os intevalos das classes em reais (R$)"
      ]
    },
    {
      "cell_type": "code",
      "metadata": {
        "id": "-Ct3QUj6Tg1p"
      },
      "source": [
        "classes = [0, 1576, 3940, 11820, 19700, 200000]"
      ],
      "execution_count": 6,
      "outputs": []
    },
    {
      "cell_type": "markdown",
      "metadata": {
        "id": "dZ7X37CGTg1t"
      },
      "source": [
        "### 2º Definir os labels das classes"
      ]
    },
    {
      "cell_type": "code",
      "metadata": {
        "id": "4UFOzitTTg1u"
      },
      "source": [
        "labels = ['E', 'D', 'C', 'B', 'A']"
      ],
      "execution_count": 7,
      "outputs": []
    },
    {
      "cell_type": "markdown",
      "metadata": {
        "id": "umFq1o-UTg1w"
      },
      "source": [
        "### 3º Construir a coluna de frequências"
      ]
    },
    {
      "cell_type": "code",
      "metadata": {
        "colab": {
          "base_uri": "https://localhost:8080/"
        },
        "id": "uSztBoqOTg1x",
        "outputId": "86abf328-aa95-48e2-c726-7111cbc05237"
      },
      "source": [
        "frequencia = pd.value_counts(pd.cut(x = dados['Renda'], bins = classes, labels = labels, include_lowest = True))\n",
        "frequencia"
      ],
      "execution_count": 8,
      "outputs": [
        {
          "output_type": "execute_result",
          "data": {
            "text/plain": [
              "E    49755\n",
              "D    18602\n",
              "C     7241\n",
              "B      822\n",
              "A      420\n",
              "Name: Renda, dtype: int64"
            ]
          },
          "metadata": {
            "tags": []
          },
          "execution_count": 8
        }
      ]
    },
    {
      "cell_type": "markdown",
      "metadata": {
        "id": "2k6nGUZKTg11"
      },
      "source": [
        "### 4º Construir a coluna de percentuais"
      ]
    },
    {
      "cell_type": "code",
      "metadata": {
        "colab": {
          "base_uri": "https://localhost:8080/"
        },
        "id": "rdwUABsnTg12",
        "outputId": "e4abf44b-4e26-47ed-867f-d15d520c43a5"
      },
      "source": [
        "percentual = pd.value_counts(pd.cut(x = dados['Renda'], bins = classes, labels = labels, include_lowest = True), normalize = True) * 100\n",
        "percentual"
      ],
      "execution_count": 9,
      "outputs": [
        {
          "output_type": "execute_result",
          "data": {
            "text/plain": [
              "E    64.751432\n",
              "D    24.208745\n",
              "C     9.423477\n",
              "B     1.069755\n",
              "A     0.546590\n",
              "Name: Renda, dtype: float64"
            ]
          },
          "metadata": {
            "tags": []
          },
          "execution_count": 9
        }
      ]
    },
    {
      "cell_type": "markdown",
      "metadata": {
        "id": "9dvk6-9_Tg16"
      },
      "source": [
        "### 5º Juntar as colunas de frequência e percentuais e ordenar as linhas de acordo com os labels das classes"
      ]
    },
    {
      "cell_type": "code",
      "metadata": {
        "colab": {
          "base_uri": "https://localhost:8080/",
          "height": 204
        },
        "id": "tO_bcMmgTg16",
        "outputId": "4773bd18-3eed-450d-d777-9def61f00a8b"
      },
      "source": [
        "freq_perc_renda = pd.DataFrame({'Frequência': frequencia, 'Percentual': percentual})\n",
        "freq_perc_renda.sort_index(ascending = False, inplace = True)\n",
        "freq_perc_renda"
      ],
      "execution_count": 12,
      "outputs": [
        {
          "output_type": "execute_result",
          "data": {
            "text/html": [
              "<div>\n",
              "<style scoped>\n",
              "    .dataframe tbody tr th:only-of-type {\n",
              "        vertical-align: middle;\n",
              "    }\n",
              "\n",
              "    .dataframe tbody tr th {\n",
              "        vertical-align: top;\n",
              "    }\n",
              "\n",
              "    .dataframe thead th {\n",
              "        text-align: right;\n",
              "    }\n",
              "</style>\n",
              "<table border=\"1\" class=\"dataframe\">\n",
              "  <thead>\n",
              "    <tr style=\"text-align: right;\">\n",
              "      <th></th>\n",
              "      <th>Frequência</th>\n",
              "      <th>Percentual</th>\n",
              "    </tr>\n",
              "  </thead>\n",
              "  <tbody>\n",
              "    <tr>\n",
              "      <th>A</th>\n",
              "      <td>420</td>\n",
              "      <td>0.546590</td>\n",
              "    </tr>\n",
              "    <tr>\n",
              "      <th>B</th>\n",
              "      <td>822</td>\n",
              "      <td>1.069755</td>\n",
              "    </tr>\n",
              "    <tr>\n",
              "      <th>C</th>\n",
              "      <td>7241</td>\n",
              "      <td>9.423477</td>\n",
              "    </tr>\n",
              "    <tr>\n",
              "      <th>D</th>\n",
              "      <td>18602</td>\n",
              "      <td>24.208745</td>\n",
              "    </tr>\n",
              "    <tr>\n",
              "      <th>E</th>\n",
              "      <td>49755</td>\n",
              "      <td>64.751432</td>\n",
              "    </tr>\n",
              "  </tbody>\n",
              "</table>\n",
              "</div>"
            ],
            "text/plain": [
              "   Frequência  Percentual\n",
              "A         420    0.546590\n",
              "B         822    1.069755\n",
              "C        7241    9.423477\n",
              "D       18602   24.208745\n",
              "E       49755   64.751432"
            ]
          },
          "metadata": {
            "tags": []
          },
          "execution_count": 12
        }
      ]
    },
    {
      "cell_type": "markdown",
      "metadata": {
        "id": "DOYtXuSbTg18"
      },
      "source": [
        "### Construa um gráfico de barras para visualizar as informações da tabela de frequências acima"
      ]
    },
    {
      "cell_type": "code",
      "metadata": {
        "colab": {
          "base_uri": "https://localhost:8080/",
          "height": 389
        },
        "id": "e4mDPKf1Tg18",
        "outputId": "74c3c02c-6d31-46b1-e289-6ef03b592967"
      },
      "source": [
        "freq_perc_renda['Frequência'].plot.bar(width = 0.5, figsize = (14, 6), legend = True)"
      ],
      "execution_count": 26,
      "outputs": [
        {
          "output_type": "execute_result",
          "data": {
            "text/plain": [
              "<matplotlib.axes._subplots.AxesSubplot at 0x7f5d717c4110>"
            ]
          },
          "metadata": {
            "tags": []
          },
          "execution_count": 26
        },
        {
          "output_type": "display_data",
          "data": {
            "image/png": "[encoded data removed]",
            "text/plain": [
              "<Figure size 1008x432 with 1 Axes>"
            ]
          },
          "metadata": {
            "tags": [],
            "needs_background": "light"
          }
        }
      ]
    },
    {
      "cell_type": "markdown",
      "metadata": {
        "id": "9ppt5JevTg1-"
      },
      "source": [
        "> ### Conclusões\n",
        "\n",
        "A maior parcela da população encontra-se nas classes mais baixas, com destaque para a Classe 'E', com 64,75% da população."
      ]
    },
    {
      "cell_type": "markdown",
      "metadata": {
        "id": "yt-gFm93Tg1-"
      },
      "source": [
        "### Crie um histograma para as variáveis QUANTITATIVAS de nosso dataset\n",
        "#### <font color='blue'>Descreva os pontos mais relevantes que você observa nos gráficos (assimetrias e seus tipos, possíveis causas para determinados comportamentos etc.)</font>"
      ]
    },
    {
      "cell_type": "code",
      "metadata": {
        "colab": {
          "base_uri": "https://localhost:8080/",
          "height": 430
        },
        "id": "DYjq9xasTg1_",
        "outputId": "204d9086-b624-45cb-d874-f5cf41309401"
      },
      "source": [
        "# Idade\n",
        "h_idade = dados['Idade'].hist(figsize = (14,6), legend = True, bins = 15)\n",
        "h_idade.set_title('Distribuição de Frenquências - Idade', fontsize = 18)\n",
        "h_idade.set_xlabel('Anos', fontsize = 14)\n",
        "h_idade"
      ],
      "execution_count": 36,
      "outputs": [
        {
          "output_type": "execute_result",
          "data": {
            "text/plain": [
              "<matplotlib.axes._subplots.AxesSubplot at 0x7f5d71243b10>"
            ]
          },
          "metadata": {
            "tags": []
          },
          "execution_count": 36
        },
        {
          "output_type": "display_data",
          "data": {
            "image/png": "[encoded data removed]",
            "text/plain": [
              "<Figure size 1008x432 with 1 Axes>"
            ]
          },
          "metadata": {
            "tags": [],
            "needs_background": "light"
          }
        }
      ]
    },
    {
      "cell_type": "code",
      "metadata": {
        "colab": {
          "base_uri": "https://localhost:8080/",
          "height": 430
        },
        "id": "uh2CWIG8Tg2A",
        "outputId": "b584ed17-671c-4432-c73a-313507e6649b"
      },
      "source": [
        "# Renda, query ('Renda < 15000)\n",
        "h_renda = dados.query('Renda < 15000')['Renda'].hist(figsize = (14,6), legend = True)\n",
        "h_renda.set_title('Distribuição de Frenquências - Renda', fontsize = 18)\n",
        "h_renda.set_xlabel('Reais - R$', fontsize = 14)\n"
      ],
      "execution_count": 40,
      "outputs": [
        {
          "output_type": "execute_result",
          "data": {
            "text/plain": [
              "Text(0.5, 0, 'Reais - R$')"
            ]
          },
          "metadata": {
            "tags": []
          },
          "execution_count": 40
        },
        {
          "output_type": "display_data",
          "data": {
            "image/png": "[encoded data removed]",
            "text/plain": [
              "<Figure size 1008x432 with 1 Axes>"
            ]
          },
          "metadata": {
            "tags": [],
            "needs_background": "light"
          }
        }
      ]
    },
    {
      "cell_type": "code",
      "metadata": {
        "colab": {
          "base_uri": "https://localhost:8080/",
          "height": 430
        },
        "id": "s55WPk1aTg2C",
        "outputId": "a52386db-fa94-4166-e918-50bad44284b6"
      },
      "source": [
        "# Altura\n",
        "h_altura = dados['Altura'].hist(figsize = (14,6), legend = True)\n",
        "h_altura.set_title('Distribuição de Frenquências - Altura', fontsize = 18)\n",
        "h_altura.set_xlabel('Metros', fontsize = 14)\n",
        "h_altura\n"
      ],
      "execution_count": 39,
      "outputs": [
        {
          "output_type": "execute_result",
          "data": {
            "text/plain": [
              "<matplotlib.axes._subplots.AxesSubplot at 0x7f5d710a0c50>"
            ]
          },
          "metadata": {
            "tags": []
          },
          "execution_count": 39
        },
        {
          "output_type": "display_data",
          "data": {
            "image/png": "[encoded data removed]",
            "text/plain": [
              "<Figure size 1008x432 with 1 Axes>"
            ]
          },
          "metadata": {
            "tags": [],
            "needs_background": "light"
          }
        }
      ]
    },
    {
      "cell_type": "markdown",
      "metadata": {
        "id": "w45i-qJ1Tg2E"
      },
      "source": [
        "> ### Conclusões\n",
        "\n",
        "- Em relação à Idade, vemos que a maioria dos(as) chefes de família concentram-sem em torno dos 40 anos.\n",
        "\n",
        "- Nota-se, também, que a altura tem uma concentração elevada próximo a 1,7m.\n",
        "\n",
        "- A maioria das(os) chefes de família tem rendas baixas, concentrando abaixo dos R$ 2.000,00."
      ]
    },
    {
      "cell_type": "markdown",
      "metadata": {
        "id": "pnAH1T5fTg2F"
      },
      "source": [
        "### Para a variável RENDA, construa um histograma somente com as informações das pessoas com rendimento até R$ 20.000,00"
      ]
    },
    {
      "cell_type": "code",
      "metadata": {
        "colab": {
          "base_uri": "https://localhost:8080/",
          "height": 430
        },
        "id": "C7zHF1vPTg2G",
        "outputId": "9112f51b-ac23-4e3d-a639-881cde546b69"
      },
      "source": [
        "# Renda, query ('Renda < 20000)\n",
        "h_renda = dados.query('Renda < 20000')['Renda'].hist(figsize = (14,6), legend = True)\n",
        "h_renda.set_title('Distribuição de Frenquências - Renda', fontsize = 18)\n",
        "h_renda.set_xlabel('Reais - R$', fontsize = 14)\n"
      ],
      "execution_count": 41,
      "outputs": [
        {
          "output_type": "execute_result",
          "data": {
            "text/plain": [
              "Text(0.5, 0, 'Reais - R$')"
            ]
          },
          "metadata": {
            "tags": []
          },
          "execution_count": 41
        },
        {
          "output_type": "display_data",
          "data": {
            "image/png": "[encoded data removed]",
            "text/plain": [
              "<Figure size 1008x432 with 1 Axes>"
            ]
          },
          "metadata": {
            "tags": [],
            "needs_background": "light"
          }
        }
      ]
    },
    {
      "cell_type": "markdown",
      "metadata": {
        "id": "vvtzLOUKTg2H"
      },
      "source": [
        "### Construa uma tabela de frequências e uma com os percentuais do cruzando das variáveis SEXO e COR\n",
        "#### <font color='blue'>Avalie o resultado da tabela e escreva suas principais conclusões</font>\n",
        "#### <font color='red'>Utilize os dicionários abaixo para renomear as linha e colunas das tabelas de frequências e dos gráficos em nosso projeto</font>"
      ]
    },
    {
      "cell_type": "code",
      "metadata": {
        "id": "sChJRo_qTg2I"
      },
      "source": [
        "sexo = {\n",
        "    0: 'Masculino', \n",
        "    1: 'Feminino'\n",
        "}\n",
        "cor = {\n",
        "    0: 'Indígena', \n",
        "    2: 'Branca', \n",
        "    4: 'Preta', \n",
        "    6: 'Amarela', \n",
        "    8: 'Parda', \n",
        "    9: 'Sem declaração'\n",
        "}\n",
        "anos_de_estudo = {\n",
        "    1: 'Sem instrução e menos de 1 ano', \n",
        "    2: '1 ano', \n",
        "    3: '2 anos', \n",
        "    4: '3 anos', \n",
        "    5: '4 anos', \n",
        "    6: '5 anos', \n",
        "    7: '6 anos', \n",
        "    8: '7 anos', \n",
        "    9: '8 anos', \n",
        "    10: '9 anos', \n",
        "    11: '10 anos', \n",
        "    12: '11 anos', \n",
        "    13: '12 anos', \n",
        "    14: '13 anos', \n",
        "    15: '14 anos', \n",
        "    16: '15 anos ou mais', \n",
        "    17: 'Não determinados'\n",
        "}\n",
        "uf = {\n",
        "    11: 'Rondônia', \n",
        "    12: 'Acre', \n",
        "    13: 'Amazonas', \n",
        "    14: 'Roraima', \n",
        "    15: 'Pará', \n",
        "    16: 'Amapá', \n",
        "    17: 'Tocantins', \n",
        "    21: 'Maranhão', \n",
        "    22: 'Piauí', \n",
        "    23: 'Ceará', \n",
        "    24: 'Rio Grande do Norte', \n",
        "    25: 'Paraíba', \n",
        "    26: 'Pernambuco', \n",
        "    27: 'Alagoas', \n",
        "    28: 'Sergipe', \n",
        "    29: 'Bahia', \n",
        "    31: 'Minas Gerais', \n",
        "    32: 'Espírito Santo', \n",
        "    33: 'Rio de Janeiro', \n",
        "    35: 'São Paulo', \n",
        "    41: 'Paraná', \n",
        "    42: 'Santa Catarina', \n",
        "    43: 'Rio Grande do Sul', \n",
        "    50: 'Mato Grosso do Sul', \n",
        "    51: 'Mato Grosso', \n",
        "    52: 'Goiás', \n",
        "    53: 'Distrito Federal'\n",
        "}"
      ],
      "execution_count": 42,
      "outputs": []
    },
    {
      "cell_type": "code",
      "metadata": {
        "colab": {
          "base_uri": "https://localhost:8080/",
          "height": 120
        },
        "id": "KbeFXAGSTg2K",
        "outputId": "e788fd32-d8da-4a62-b0c8-21b797659279"
      },
      "source": [
        "# crosstab por default constroi uma tabela de frequência entre duas variáveis\n",
        "freq_sexo_cor = pd.crosstab(dados.Sexo, dados['Cor'])\n",
        "freq_sexo_cor.rename(index = sexo, inplace=True)\n",
        "freq_sexo_cor.rename(columns = cor, inplace=True)\n",
        "freq_sexo_cor = freq_sexo_cor.style.set_table_attributes(\"style='display:inline'\").set_caption(\"Frequência - Sexo x Cor\")\n",
        "\n",
        "freq_sexo_cor"
      ],
      "execution_count": 52,
      "outputs": [
        {
          "output_type": "execute_result",
          "data": {
            "text/html": [
              "<style  type=\"text/css\" >\n",
              "</style><table id=\"T_e2b90bd0_bb1b_11eb_9abc_0242ac1c0002\" style='display:inline'><caption>Frequência - Sexo x Cor</caption><thead>    <tr>        <th class=\"index_name level0\" >Cor</th>        <th class=\"col_heading level0 col0\" >Indígena</th>        <th class=\"col_heading level0 col1\" >Branca</th>        <th class=\"col_heading level0 col2\" >Preta</th>        <th class=\"col_heading level0 col3\" >Amarela</th>        <th class=\"col_heading level0 col4\" >Parda</th>    </tr>    <tr>        <th class=\"index_name level0\" >Sexo</th>        <th class=\"blank\" ></th>        <th class=\"blank\" ></th>        <th class=\"blank\" ></th>        <th class=\"blank\" ></th>        <th class=\"blank\" ></th>    </tr></thead><tbody>\n",
              "                <tr>\n",
              "                        <th id=\"T_e2b90bd0_bb1b_11eb_9abc_0242ac1c0002level0_row0\" class=\"row_heading level0 row0\" >Masculino</th>\n",
              "                        <td id=\"T_e2b90bd0_bb1b_11eb_9abc_0242ac1c0002row0_col0\" class=\"data row0 col0\" >256</td>\n",
              "                        <td id=\"T_e2b90bd0_bb1b_11eb_9abc_0242ac1c0002row0_col1\" class=\"data row0 col1\" >22194</td>\n",
              "                        <td id=\"T_e2b90bd0_bb1b_11eb_9abc_0242ac1c0002row0_col2\" class=\"data row0 col2\" >5502</td>\n",
              "                        <td id=\"T_e2b90bd0_bb1b_11eb_9abc_0242ac1c0002row0_col3\" class=\"data row0 col3\" >235</td>\n",
              "                        <td id=\"T_e2b90bd0_bb1b_11eb_9abc_0242ac1c0002row0_col4\" class=\"data row0 col4\" >25063</td>\n",
              "            </tr>\n",
              "            <tr>\n",
              "                        <th id=\"T_e2b90bd0_bb1b_11eb_9abc_0242ac1c0002level0_row1\" class=\"row_heading level0 row1\" >Feminino</th>\n",
              "                        <td id=\"T_e2b90bd0_bb1b_11eb_9abc_0242ac1c0002row1_col0\" class=\"data row1 col0\" >101</td>\n",
              "                        <td id=\"T_e2b90bd0_bb1b_11eb_9abc_0242ac1c0002row1_col1\" class=\"data row1 col1\" >9621</td>\n",
              "                        <td id=\"T_e2b90bd0_bb1b_11eb_9abc_0242ac1c0002row1_col2\" class=\"data row1 col2\" >2889</td>\n",
              "                        <td id=\"T_e2b90bd0_bb1b_11eb_9abc_0242ac1c0002row1_col3\" class=\"data row1 col3\" >117</td>\n",
              "                        <td id=\"T_e2b90bd0_bb1b_11eb_9abc_0242ac1c0002row1_col4\" class=\"data row1 col4\" >10862</td>\n",
              "            </tr>\n",
              "    </tbody></table>"
            ],
            "text/plain": [
              "<pandas.io.formats.style.Styler at 0x7f5d70ba1850>"
            ]
          },
          "metadata": {
            "tags": []
          },
          "execution_count": 52
        }
      ]
    },
    {
      "cell_type": "code",
      "metadata": {
        "colab": {
          "base_uri": "https://localhost:8080/",
          "height": 120
        },
        "id": "csL1jaeSTg2M",
        "outputId": "0bc05f5f-24ce-4fbf-9fef-912b4a358cf1"
      },
      "source": [
        "percnt_sexo_cor = pd.crosstab(dados.Sexo, dados['Cor'], normalize = True) * 100\n",
        "percnt_sexo_cor.rename(index = sexo, inplace=True)\n",
        "percnt_sexo_cor.rename(columns = cor, inplace=True)\n",
        "percnt_sexo_cor = percnt_sexo_cor.style.set_table_attributes(\"style='display:inline'\").set_caption(\"Percentual - Sexo x Cor\")\n",
        "percnt_sexo_cor"
      ],
      "execution_count": 53,
      "outputs": [
        {
          "output_type": "execute_result",
          "data": {
            "text/html": [
              "<style  type=\"text/css\" >\n",
              "</style><table id=\"T_eb546366_bb1b_11eb_9abc_0242ac1c0002\" style='display:inline'><caption>Percentual - Sexo x Cor</caption><thead>    <tr>        <th class=\"index_name level0\" >Cor</th>        <th class=\"col_heading level0 col0\" >Indígena</th>        <th class=\"col_heading level0 col1\" >Branca</th>        <th class=\"col_heading level0 col2\" >Preta</th>        <th class=\"col_heading level0 col3\" >Amarela</th>        <th class=\"col_heading level0 col4\" >Parda</th>    </tr>    <tr>        <th class=\"index_name level0\" >Sexo</th>        <th class=\"blank\" ></th>        <th class=\"blank\" ></th>        <th class=\"blank\" ></th>        <th class=\"blank\" ></th>        <th class=\"blank\" ></th>    </tr></thead><tbody>\n",
              "                <tr>\n",
              "                        <th id=\"T_eb546366_bb1b_11eb_9abc_0242ac1c0002level0_row0\" class=\"row_heading level0 row0\" >Masculino</th>\n",
              "                        <td id=\"T_eb546366_bb1b_11eb_9abc_0242ac1c0002row0_col0\" class=\"data row0 col0\" >0.333160</td>\n",
              "                        <td id=\"T_eb546366_bb1b_11eb_9abc_0242ac1c0002row0_col1\" class=\"data row0 col1\" >28.883394</td>\n",
              "                        <td id=\"T_eb546366_bb1b_11eb_9abc_0242ac1c0002row0_col2\" class=\"data row0 col2\" >7.160333</td>\n",
              "                        <td id=\"T_eb546366_bb1b_11eb_9abc_0242ac1c0002row0_col3\" class=\"data row0 col3\" >0.305830</td>\n",
              "                        <td id=\"T_eb546366_bb1b_11eb_9abc_0242ac1c0002row0_col4\" class=\"data row0 col4\" >32.617126</td>\n",
              "            </tr>\n",
              "            <tr>\n",
              "                        <th id=\"T_eb546366_bb1b_11eb_9abc_0242ac1c0002level0_row1\" class=\"row_heading level0 row1\" >Feminino</th>\n",
              "                        <td id=\"T_eb546366_bb1b_11eb_9abc_0242ac1c0002row1_col0\" class=\"data row1 col0\" >0.131442</td>\n",
              "                        <td id=\"T_eb546366_bb1b_11eb_9abc_0242ac1c0002row1_col1\" class=\"data row1 col1\" >12.520822</td>\n",
              "                        <td id=\"T_eb546366_bb1b_11eb_9abc_0242ac1c0002row1_col2\" class=\"data row1 col2\" >3.759761</td>\n",
              "                        <td id=\"T_eb546366_bb1b_11eb_9abc_0242ac1c0002row1_col3\" class=\"data row1 col3\" >0.152264</td>\n",
              "                        <td id=\"T_eb546366_bb1b_11eb_9abc_0242ac1c0002row1_col4\" class=\"data row1 col4\" >14.135867</td>\n",
              "            </tr>\n",
              "    </tbody></table>"
            ],
            "text/plain": [
              "<pandas.io.formats.style.Styler at 0x7f5d70f1db50>"
            ]
          },
          "metadata": {
            "tags": []
          },
          "execution_count": 53
        }
      ]
    },
    {
      "cell_type": "markdown",
      "metadata": {
        "id": "2jLZmww2Tg2O"
      },
      "source": [
        "> ### Conclusões\n",
        "\n",
        "- Nota-se uma diferença enorme em relação à quantidade de Homens que são chefes de família. Além disso, mais de 46% das pessoas se consideram Pardas."
      ]
    },
    {
      "cell_type": "markdown",
      "metadata": {
        "id": "Aoeayf6zTg2P"
      },
      "source": [
        "## Realize, para a variável RENDA, uma análise descritiva com as ferramentas que aprendemos em nosso treinamento"
      ]
    },
    {
      "cell_type": "markdown",
      "metadata": {
        "id": "c2CtT71oTg2P"
      },
      "source": [
        "### Obtenha a média aritimética"
      ]
    },
    {
      "cell_type": "code",
      "metadata": {
        "colab": {
          "base_uri": "https://localhost:8080/"
        },
        "id": "qlJESCU6Tg2P",
        "outputId": "d14ead1c-42fa-4446-a25d-2fbf114893f4"
      },
      "source": [
        "dados.Renda.mean()"
      ],
      "execution_count": 65,
      "outputs": [
        {
          "output_type": "execute_result",
          "data": {
            "text/plain": [
              "2000.3831988547631"
            ]
          },
          "metadata": {
            "tags": []
          },
          "execution_count": 65
        }
      ]
    },
    {
      "cell_type": "markdown",
      "metadata": {
        "id": "Xd4saPBCTg2R"
      },
      "source": [
        "### Obtenha a mediana"
      ]
    },
    {
      "cell_type": "code",
      "metadata": {
        "colab": {
          "base_uri": "https://localhost:8080/"
        },
        "id": "vHTqX-UATg2R",
        "outputId": "a5802f3e-7c04-40a1-9d19-b74e7e7043bf"
      },
      "source": [
        "dados['Renda'].median()"
      ],
      "execution_count": 66,
      "outputs": [
        {
          "output_type": "execute_result",
          "data": {
            "text/plain": [
              "1200.0"
            ]
          },
          "metadata": {
            "tags": []
          },
          "execution_count": 66
        }
      ]
    },
    {
      "cell_type": "markdown",
      "metadata": {
        "id": "_e40rDSwTg2U"
      },
      "source": [
        "### Obtenha a moda"
      ]
    },
    {
      "cell_type": "code",
      "metadata": {
        "colab": {
          "base_uri": "https://localhost:8080/"
        },
        "id": "BFOOdYOvTg2V",
        "outputId": "47d5cb30-9e36-4889-ff05-52d06c0ae9ce"
      },
      "source": [
        "dados.Renda.mode()[0]"
      ],
      "execution_count": 68,
      "outputs": [
        {
          "output_type": "execute_result",
          "data": {
            "text/plain": [
              "788"
            ]
          },
          "metadata": {
            "tags": []
          },
          "execution_count": 68
        }
      ]
    },
    {
      "cell_type": "markdown",
      "metadata": {
        "id": "Rnr1gOCMTg2X"
      },
      "source": [
        "### Obtenha o desvio médio absoluto"
      ]
    },
    {
      "cell_type": "code",
      "metadata": {
        "colab": {
          "base_uri": "https://localhost:8080/"
        },
        "id": "TmE_1QDGTg2Y",
        "outputId": "bfc24c46-1580-4bff-cbe9-c7257035e007"
      },
      "source": [
        "dados.Renda.mad()"
      ],
      "execution_count": 69,
      "outputs": [
        {
          "output_type": "execute_result",
          "data": {
            "text/plain": [
              "1526.4951371644931"
            ]
          },
          "metadata": {
            "tags": []
          },
          "execution_count": 69
        }
      ]
    },
    {
      "cell_type": "markdown",
      "metadata": {
        "id": "hCgV_XaQTg2Z"
      },
      "source": [
        "### Obtenha a variância"
      ]
    },
    {
      "cell_type": "code",
      "metadata": {
        "colab": {
          "base_uri": "https://localhost:8080/"
        },
        "id": "SwRgACeGTg2a",
        "outputId": "443da186-4d81-42f9-c84a-2866a0794aa0"
      },
      "source": [
        "dados['Renda'].var()"
      ],
      "execution_count": 70,
      "outputs": [
        {
          "output_type": "execute_result",
          "data": {
            "text/plain": [
              "11044906.00622118"
            ]
          },
          "metadata": {
            "tags": []
          },
          "execution_count": 70
        }
      ]
    },
    {
      "cell_type": "markdown",
      "metadata": {
        "id": "gsO6MKOcTg2c"
      },
      "source": [
        "### Obtenha o desvio-padrão"
      ]
    },
    {
      "cell_type": "code",
      "metadata": {
        "colab": {
          "base_uri": "https://localhost:8080/"
        },
        "id": "gR-LVTRYTg2d",
        "outputId": "2f0997ec-7e50-4007-eaa8-e5fcda291e46"
      },
      "source": [
        "dados.Renda.std()"
      ],
      "execution_count": 71,
      "outputs": [
        {
          "output_type": "execute_result",
          "data": {
            "text/plain": [
              "3323.3877303470294"
            ]
          },
          "metadata": {
            "tags": []
          },
          "execution_count": 71
        }
      ]
    },
    {
      "cell_type": "markdown",
      "metadata": {
        "id": "-BJmYKmc-wAh"
      },
      "source": [
        "### Todos resultados co apenas um método"
      ]
    },
    {
      "cell_type": "code",
      "metadata": {
        "colab": {
          "base_uri": "https://localhost:8080/"
        },
        "id": "usy6Xf2R972y",
        "outputId": "ca88470d-8179-487e-ea6e-d85449c46d79"
      },
      "source": [
        "# pode ter vários resultados em um único método\n",
        "dados.Renda.agg(['mean', 'median', 'count', 'min', 'max', 'std', 'var', 'mad'])"
      ],
      "execution_count": 79,
      "outputs": [
        {
          "output_type": "execute_result",
          "data": {
            "text/plain": [
              "mean      2.000383e+03\n",
              "median    1.200000e+03\n",
              "count     7.684000e+04\n",
              "min       0.000000e+00\n",
              "max       2.000000e+05\n",
              "std       3.323388e+03\n",
              "var       1.104491e+07\n",
              "mad       1.526495e+03\n",
              "Name: Renda, dtype: float64"
            ]
          },
          "metadata": {
            "tags": []
          },
          "execution_count": 79
        }
      ]
    },
    {
      "cell_type": "markdown",
      "metadata": {
        "id": "vG-rdO5fTg2f"
      },
      "source": [
        "### Obtenha a média, mediana e valor máximo da variável RENDA segundo SEXO e COR\n",
        "#### <font color='blue'>Destaque os pontos mais importante que você observa nas tabulações</font>\n",
        "#### <font color='red'>O parâmento <i>aggfunc</i> da função <i>crosstab()</i> pode receber uma lista de funções. Exemplo: <i>aggfunc = {'mean', 'median', 'max'}</i></font>"
      ]
    },
    {
      "cell_type": "code",
      "metadata": {
        "colab": {
          "base_uri": "https://localhost:8080/",
          "height": 204
        },
        "id": "VgxygKWXTg2g",
        "outputId": "13d30e8a-150d-48aa-d182-d6705d6f906f"
      },
      "source": [
        "# crosstab por default constroi uma tabela de frequência entre duas variáveis\n",
        "renda_sexo_cor = pd.crosstab(dados.Cor, dados['Sexo'], aggfunc = {'mean', 'median', 'max'}, values = dados['Renda']).round(2)\n",
        "renda_sexo_cor.rename(index = cor, inplace=True)\n",
        "renda_sexo_cor.rename(columns = sexo, inplace=True)\n",
        "renda_sexo_cor = renda_sexo_cor.style.set_table_attributes(\"style='display:inline'\").set_caption(\"Máximo, Média e Mediana - Sexo x Cor\")\n",
        "\n",
        "renda_sexo_cor"
      ],
      "execution_count": 86,
      "outputs": [
        {
          "output_type": "execute_result",
          "data": {
            "text/html": [
              "<style  type=\"text/css\" >\n",
              "</style><table id=\"T_cfa13236_bb1e_11eb_9abc_0242ac1c0002\" style='display:inline'><caption>Máximo, Média e Mediana - Sexo x Cor</caption><thead>    <tr>        <th class=\"blank level0\" ></th>        <th class=\"col_heading level0 col0\" colspan=2>max</th>        <th class=\"col_heading level0 col2\" colspan=2>mean</th>        <th class=\"col_heading level0 col4\" colspan=2>median</th>    </tr>    <tr>        <th class=\"index_name level1\" >Sexo</th>        <th class=\"col_heading level1 col0\" >Masculino</th>        <th class=\"col_heading level1 col1\" >Feminino</th>        <th class=\"col_heading level1 col2\" >Masculino</th>        <th class=\"col_heading level1 col3\" >Feminino</th>        <th class=\"col_heading level1 col4\" >Masculino</th>        <th class=\"col_heading level1 col5\" >Feminino</th>    </tr>    <tr>        <th class=\"index_name level0\" >Cor</th>        <th class=\"blank\" ></th>        <th class=\"blank\" ></th>        <th class=\"blank\" ></th>        <th class=\"blank\" ></th>        <th class=\"blank\" ></th>        <th class=\"blank\" ></th>    </tr></thead><tbody>\n",
              "                <tr>\n",
              "                        <th id=\"T_cfa13236_bb1e_11eb_9abc_0242ac1c0002level0_row0\" class=\"row_heading level0 row0\" >Indígena</th>\n",
              "                        <td id=\"T_cfa13236_bb1e_11eb_9abc_0242ac1c0002row0_col0\" class=\"data row0 col0\" >10000.000000</td>\n",
              "                        <td id=\"T_cfa13236_bb1e_11eb_9abc_0242ac1c0002row0_col1\" class=\"data row0 col1\" >120000.000000</td>\n",
              "                        <td id=\"T_cfa13236_bb1e_11eb_9abc_0242ac1c0002row0_col2\" class=\"data row0 col2\" >1081.710000</td>\n",
              "                        <td id=\"T_cfa13236_bb1e_11eb_9abc_0242ac1c0002row0_col3\" class=\"data row0 col3\" >2464.390000</td>\n",
              "                        <td id=\"T_cfa13236_bb1e_11eb_9abc_0242ac1c0002row0_col4\" class=\"data row0 col4\" >797.500000</td>\n",
              "                        <td id=\"T_cfa13236_bb1e_11eb_9abc_0242ac1c0002row0_col5\" class=\"data row0 col5\" >788.000000</td>\n",
              "            </tr>\n",
              "            <tr>\n",
              "                        <th id=\"T_cfa13236_bb1e_11eb_9abc_0242ac1c0002level0_row1\" class=\"row_heading level0 row1\" >Branca</th>\n",
              "                        <td id=\"T_cfa13236_bb1e_11eb_9abc_0242ac1c0002row1_col0\" class=\"data row1 col0\" >200000.000000</td>\n",
              "                        <td id=\"T_cfa13236_bb1e_11eb_9abc_0242ac1c0002row1_col1\" class=\"data row1 col1\" >100000.000000</td>\n",
              "                        <td id=\"T_cfa13236_bb1e_11eb_9abc_0242ac1c0002row1_col2\" class=\"data row1 col2\" >2925.740000</td>\n",
              "                        <td id=\"T_cfa13236_bb1e_11eb_9abc_0242ac1c0002row1_col3\" class=\"data row1 col3\" >2109.870000</td>\n",
              "                        <td id=\"T_cfa13236_bb1e_11eb_9abc_0242ac1c0002row1_col4\" class=\"data row1 col4\" >1700.000000</td>\n",
              "                        <td id=\"T_cfa13236_bb1e_11eb_9abc_0242ac1c0002row1_col5\" class=\"data row1 col5\" >1200.000000</td>\n",
              "            </tr>\n",
              "            <tr>\n",
              "                        <th id=\"T_cfa13236_bb1e_11eb_9abc_0242ac1c0002level0_row2\" class=\"row_heading level0 row2\" >Preta</th>\n",
              "                        <td id=\"T_cfa13236_bb1e_11eb_9abc_0242ac1c0002row2_col0\" class=\"data row2 col0\" >50000.000000</td>\n",
              "                        <td id=\"T_cfa13236_bb1e_11eb_9abc_0242ac1c0002row2_col1\" class=\"data row2 col1\" >23000.000000</td>\n",
              "                        <td id=\"T_cfa13236_bb1e_11eb_9abc_0242ac1c0002row2_col2\" class=\"data row2 col2\" >1603.860000</td>\n",
              "                        <td id=\"T_cfa13236_bb1e_11eb_9abc_0242ac1c0002row2_col3\" class=\"data row2 col3\" >1134.600000</td>\n",
              "                        <td id=\"T_cfa13236_bb1e_11eb_9abc_0242ac1c0002row2_col4\" class=\"data row2 col4\" >1200.000000</td>\n",
              "                        <td id=\"T_cfa13236_bb1e_11eb_9abc_0242ac1c0002row2_col5\" class=\"data row2 col5\" >800.000000</td>\n",
              "            </tr>\n",
              "            <tr>\n",
              "                        <th id=\"T_cfa13236_bb1e_11eb_9abc_0242ac1c0002level0_row3\" class=\"row_heading level0 row3\" >Amarela</th>\n",
              "                        <td id=\"T_cfa13236_bb1e_11eb_9abc_0242ac1c0002row3_col0\" class=\"data row3 col0\" >50000.000000</td>\n",
              "                        <td id=\"T_cfa13236_bb1e_11eb_9abc_0242ac1c0002row3_col1\" class=\"data row3 col1\" >20000.000000</td>\n",
              "                        <td id=\"T_cfa13236_bb1e_11eb_9abc_0242ac1c0002row3_col2\" class=\"data row3 col2\" >4758.250000</td>\n",
              "                        <td id=\"T_cfa13236_bb1e_11eb_9abc_0242ac1c0002row3_col3\" class=\"data row3 col3\" >3027.340000</td>\n",
              "                        <td id=\"T_cfa13236_bb1e_11eb_9abc_0242ac1c0002row3_col4\" class=\"data row3 col4\" >2800.000000</td>\n",
              "                        <td id=\"T_cfa13236_bb1e_11eb_9abc_0242ac1c0002row3_col5\" class=\"data row3 col5\" >1500.000000</td>\n",
              "            </tr>\n",
              "            <tr>\n",
              "                        <th id=\"T_cfa13236_bb1e_11eb_9abc_0242ac1c0002level0_row4\" class=\"row_heading level0 row4\" >Parda</th>\n",
              "                        <td id=\"T_cfa13236_bb1e_11eb_9abc_0242ac1c0002row4_col0\" class=\"data row4 col0\" >100000.000000</td>\n",
              "                        <td id=\"T_cfa13236_bb1e_11eb_9abc_0242ac1c0002row4_col1\" class=\"data row4 col1\" >30000.000000</td>\n",
              "                        <td id=\"T_cfa13236_bb1e_11eb_9abc_0242ac1c0002row4_col2\" class=\"data row4 col2\" >1659.580000</td>\n",
              "                        <td id=\"T_cfa13236_bb1e_11eb_9abc_0242ac1c0002row4_col3\" class=\"data row4 col3\" >1176.760000</td>\n",
              "                        <td id=\"T_cfa13236_bb1e_11eb_9abc_0242ac1c0002row4_col4\" class=\"data row4 col4\" >1200.000000</td>\n",
              "                        <td id=\"T_cfa13236_bb1e_11eb_9abc_0242ac1c0002row4_col5\" class=\"data row4 col5\" >800.000000</td>\n",
              "            </tr>\n",
              "    </tbody></table>"
            ],
            "text/plain": [
              "<pandas.io.formats.style.Styler at 0x7f5d70909410>"
            ]
          },
          "metadata": {
            "tags": []
          },
          "execution_count": 86
        }
      ]
    },
    {
      "cell_type": "markdown",
      "metadata": {
        "id": "ibndm9iwTg2i"
      },
      "source": [
        "> ### Conclusões\n",
        "\n",
        "Escreva suas conclusões aqui..."
      ]
    },
    {
      "cell_type": "markdown",
      "metadata": {
        "id": "CleJ6c1rTg2i"
      },
      "source": [
        "### Obtenha as medidas de dispersão da variável RENDA segundo SEXO e COR\n",
        "#### <font color='blue'>Destaque os pontos mais importante que você observa nas tabulações</font>\n",
        "#### <font color='red'>O parâmento <i>aggfunc</i> da função <i>crosstab()</i> pode receber uma lista de funções. Exemplo: <i>aggfunc = {'mad', 'var', 'std'}</i></font>"
      ]
    },
    {
      "cell_type": "code",
      "metadata": {
        "id": "bNv-eWZ3Tg2j"
      },
      "source": [
        ""
      ],
      "execution_count": null,
      "outputs": []
    },
    {
      "cell_type": "markdown",
      "metadata": {
        "id": "57aHvJMSTg2l"
      },
      "source": [
        "> ### Conclusões\n",
        "\n",
        "Escreva suas conclusões aqui..."
      ]
    },
    {
      "cell_type": "markdown",
      "metadata": {
        "id": "QSYjkdyOTg2l"
      },
      "source": [
        "### Construa um box plot da variável RENDA segundo SEXO e COR\n",
        "#### <font color='blue'>É possível verificar algum comportamento diferenciado no rendimento entre os grupos de pessoas analisados? Avalie o gráfico e destaque os pontos mais importantes.</font>\n",
        "#### <font color='red'>1º - Utilize somente as informações de pessoas com renda abaixo de R$ 10.000</font>\n",
        "#### <font color='red'>2º - Para incluir uma terceira variável na construção de um boxplot utilize o parâmetro <i>hue</i> e indique a variável que quer incluir na subdivisão.</font>\n",
        "#### Mais informações: https://seaborn.pydata.org/generated/seaborn.boxplot.html"
      ]
    },
    {
      "cell_type": "code",
      "metadata": {
        "id": "8hGa4SMRTg2m"
      },
      "source": [
        ""
      ],
      "execution_count": null,
      "outputs": []
    },
    {
      "cell_type": "markdown",
      "metadata": {
        "id": "ROiIQRFhTg2o"
      },
      "source": [
        "> ### Conclusões\n",
        "\n",
        "Escreva suas conclusões aqui..."
      ]
    },
    {
      "cell_type": "markdown",
      "metadata": {
        "id": "zi4BaGooTg2o"
      },
      "source": [
        "# <font color=\"red\">DESAFIO<font>\n",
        "### Qual percentual de pessoas de nosso <i>dataset</i> ganham um salário mínimo (R$ 788,00) ou menos?\n",
        "#### <font color='red'>Utilize a função <i>percentileofscore()</i> do <i>scipy</i> para realizar estas análises.</font>\n",
        "#### Mais informações: https://docs.scipy.org/doc/scipy/reference/generated/scipy.stats.percentileofscore.html\n"
      ]
    },
    {
      "cell_type": "code",
      "metadata": {
        "id": "9DwXo2yITg2p"
      },
      "source": [
        "from scipy import stats\n",
        "\n"
      ],
      "execution_count": null,
      "outputs": []
    },
    {
      "cell_type": "markdown",
      "metadata": {
        "id": "bl0fOMuKTg2q"
      },
      "source": [
        "### Qual o valor máximo ganho por 99% das pessoas de nosso <i>dataset</i>?\n",
        "#### <font color='red'>Utilize o método <i>quantile()</i> do <i>pandas</i> para realizar estas análises.</font>"
      ]
    },
    {
      "cell_type": "code",
      "metadata": {
        "id": "cIVwy8bKTg2q"
      },
      "source": [
        ""
      ],
      "execution_count": null,
      "outputs": []
    },
    {
      "cell_type": "markdown",
      "metadata": {
        "id": "zeRhvtngTg2r"
      },
      "source": [
        "### Obtenha a média, mediana, valor máximo e desvio-padrão da variável RENDA segundo ANOS DE ESTUDO e SEXO\n",
        "#### <font color='blue'>Destaque os pontos mais importante que você observa nas tabulações</font>\n",
        "#### <font color='red'>O parâmento <i>aggfunc</i> da função <i>crosstab()</i> pode receber uma lista de funções. Exemplo: <i>aggfunc = ['mean', 'median', 'max', 'std']</i></font>"
      ]
    },
    {
      "cell_type": "code",
      "metadata": {
        "id": "8nxGdQIpTg2s"
      },
      "source": [
        ""
      ],
      "execution_count": null,
      "outputs": []
    },
    {
      "cell_type": "markdown",
      "metadata": {
        "id": "1Rm1n7a_Tg2u"
      },
      "source": [
        "### Construa um box plot da variável RENDA segundo ANOS DE ESTUDO e SEXO\n",
        "#### <font color='blue'>É possível verificar algum comportamento diferenciado no rendimento entre os grupos de pessoas analisados? Avalie o gráfico e destaque os pontos mais importantes.</font>\n",
        "#### <font color='red'>1º - Utilize somente as informações de pessoas com renda abaixo de R$ 10.000</font>\n",
        "#### <font color='red'>2º - Utilize a variável IDADE para identificar se a desigualdade se verifica para pessoas de mesma idade. Exemplo: <i>data=dados.query('Renda < 10000 and Idade == 40')</i> ou <i>data=dados.query('Renda < 10000 and Idade == 50')</i></font>\n",
        "#### <font color='red'>3º - Para incluir uma terceira variável na construção de um boxplot utilize o parâmetro <i>hue</i> e indique a variável que quer incluir na subdivisão.</font>\n",
        "#### Mais informações: https://seaborn.pydata.org/generated/seaborn.boxplot.html"
      ]
    },
    {
      "cell_type": "code",
      "metadata": {
        "id": "rgMU0WyJTg2v"
      },
      "source": [
        ""
      ],
      "execution_count": null,
      "outputs": []
    },
    {
      "cell_type": "markdown",
      "metadata": {
        "id": "LrEECOmNTg2w"
      },
      "source": [
        "> ### Conclusões\n",
        "\n",
        "Escreva suas conclusões aqui..."
      ]
    },
    {
      "cell_type": "markdown",
      "metadata": {
        "id": "0fIFSxj8Tg2x"
      },
      "source": [
        "### Obtenha a média, mediana, valor máximo e desvio-padrão da variável RENDA segundo as UNIDADES DA FEDERAÇÃO\n",
        "#### <font color='blue'>Destaque os pontos mais importante que você observa nas tabulações</font>\n",
        "#### <font color='red'>Utilize o método <i>groupby()</i> do <i>pandas</i> juntamente com o método <i>agg()</i> para contruir a tabulação. O método <i>agg()</i> pode receber um dicionário especificando qual coluna do DataFrame deve ser utilizada e qual lista de funções estatísticas queremos obter, por exemplo: <i>dados.groupby(['UF']).agg({'Renda': ['mean', 'median', 'max', 'std']})</i></font>"
      ]
    },
    {
      "cell_type": "code",
      "metadata": {
        "id": "91IxQFJoTg2x"
      },
      "source": [
        ""
      ],
      "execution_count": null,
      "outputs": []
    },
    {
      "cell_type": "markdown",
      "metadata": {
        "id": "6NfAKimkTg2y"
      },
      "source": [
        "### Construa um box plot da variável RENDA segundo as UNIDADES DA FEDERAÇÃO\n",
        "#### <font color='blue'>É possível verificar algum comportamento diferenciado no rendimento entre os grupos analisados? Avalie o gráfico e destaque os pontos mais importantes.</font>\n",
        "#### <font color='red'>1º - Utilize somente as informações de pessoas com renda abaixo de R$ 10.000</font>"
      ]
    },
    {
      "cell_type": "code",
      "metadata": {
        "id": "XdEGG3blTg2z"
      },
      "source": [
        ""
      ],
      "execution_count": null,
      "outputs": []
    },
    {
      "cell_type": "markdown",
      "metadata": {
        "id": "7ssOt3MRTg22"
      },
      "source": [
        "> ### Conclusões\n",
        "\n",
        "Escreva suas conclusões aqui..."
      ]
    }
  ]
}