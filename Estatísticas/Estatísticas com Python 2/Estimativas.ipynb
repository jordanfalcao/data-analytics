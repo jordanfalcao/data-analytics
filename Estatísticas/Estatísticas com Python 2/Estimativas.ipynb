{
  "nbformat": 4,
  "nbformat_minor": 0,
  "metadata": {
    "colab": {
      "name": "Estimativas.ipynb",
      "provenance": []
    },
    "kernelspec": {
      "display_name": "Python 3",
      "language": "python",
      "name": "python3"
    },
    "language_info": {
      "codemirror_mode": {
        "name": "ipython",
        "version": 3
      },
      "file_extension": ".py",
      "mimetype": "text/x-python",
      "name": "python",
      "nbconvert_exporter": "python",
      "pygments_lexer": "ipython3",
      "version": "3.6.5"
    }
  },
  "cells": [
    {
      "cell_type": "markdown",
      "metadata": {
        "id": "WvMflodMjQKe"
      },
      "source": [
        "***\n",
        "# <font color=green size=10>CURSO DE ESTATÍSTICA - PARTE 2</font>\n",
        "***\n",
        "\n",
        "## Trabalho sobre Probabilidades, Amostragem e Estimações\n",
        "\n",
        "Utilizando os conhecimentos adquiridos em nosso treinamento execute as tarefas abaixo. Siga o roteiro proposto e vá completando as células vazias."
      ]
    },
    {
      "cell_type": "markdown",
      "metadata": {
        "id": "cVgsZ_E3jQKg"
      },
      "source": [
        "# <font color=green>DATASET DO PROJETO</font>\n",
        "***"
      ]
    },
    {
      "cell_type": "markdown",
      "metadata": {
        "id": "iN1gIbaKjQKh"
      },
      "source": [
        "### Pesquisa Nacional por Amostra de Domicílios - 2015\n",
        "\n",
        "A <b>Pesquisa Nacional por Amostra de Domicílios - PNAD</b> investiga anualmente, de forma permanente, características gerais da população, de educação, trabalho, rendimento e habitação e outras, com periodicidade variável, de acordo com as necessidades de informação para o país, como as características sobre migração, fecundidade, nupcialidade, saúde, segurança alimentar, entre outros temas. O levantamento dessas estatísticas constitui, ao longo dos 49 anos de realização da pesquisa, um importante instrumento para formulação, validação e avaliação de políticas orientadas para o desenvolvimento socioeconômico e a melhoria das condições de vida no Brasil."
      ]
    },
    {
      "cell_type": "markdown",
      "metadata": {
        "id": "U6V7br1RjQKi"
      },
      "source": [
        "### Fonte dos Dados\n",
        "\n",
        "https://ww2.ibge.gov.br/home/estatistica/populacao/trabalhoerendimento/pnad2015/microdados.shtm"
      ]
    },
    {
      "cell_type": "markdown",
      "metadata": {
        "id": "r0Fe_qnzjQKj"
      },
      "source": [
        "### Variáveis utilizadas\n",
        "\n",
        "> ### Renda\n",
        "> ***\n",
        "\n",
        "Rendimento mensal do trabalho principal para pessoas de 10 anos ou mais de idade.\n",
        "\n",
        "> ### Idade\n",
        "> ***\n",
        "\n",
        "Idade do morador na data de referência em anos.\n",
        "\n",
        "> ### Altura (elaboração própria)\n",
        "> ***\n",
        "\n",
        "Altura do morador em metros.\n",
        "\n",
        "> ### UF\n",
        "> ***\n",
        "\n",
        "|Código|Descrição|\n",
        "|---|---|\n",
        "|11|Rondônia|\n",
        "|12|Acre|\n",
        "|13|Amazonas|\n",
        "|14|Roraima|\n",
        "|15|Pará|\n",
        "|16|Amapá|\n",
        "|17|Tocantins|\n",
        "|21|Maranhão|\n",
        "|22|Piauí|\n",
        "|23|Ceará|\n",
        "|24|Rio Grande do Norte|\n",
        "|25|Paraíba|\n",
        "|26|Pernambuco|\n",
        "|27|Alagoas|\n",
        "|28|Sergipe|\n",
        "|29|Bahia|\n",
        "|31|Minas Gerais|\n",
        "|32|Espírito Santo|\n",
        "|33|Rio de Janeiro|\n",
        "|35|São Paulo|\n",
        "|41|Paraná|\n",
        "|42|Santa Catarina|\n",
        "|43|Rio Grande do Sul|\n",
        "|50|Mato Grosso do Sul|\n",
        "|51|Mato Grosso|\n",
        "|52|Goiás|\n",
        "|53|Distrito Federal|\n",
        "\n",
        "> ### Sexo\t\n",
        "> ***\n",
        "\n",
        "|Código|Descrição|\n",
        "|---|---|\n",
        "|0|Masculino|\n",
        "|1|Feminino|\n",
        "\n",
        "> ### Anos de Estudo\n",
        "> ***\n",
        "\n",
        "|Código|Descrição|\n",
        "|---|---|\n",
        "|1|Sem instrução e menos de 1 ano|\n",
        "|2|1 ano|\n",
        "|3|2 anos|\n",
        "|4|3 anos|\n",
        "|5|4 anos|\n",
        "|6|5 anos|\n",
        "|7|6 anos|\n",
        "|8|7 anos|\n",
        "|9|8 anos|\n",
        "|10|9 anos|\n",
        "|11|10 anos|\n",
        "|12|11 anos|\n",
        "|13|12 anos|\n",
        "|14|13 anos|\n",
        "|15|14 anos|\n",
        "|16|15 anos ou mais|\n",
        "|17|Não determinados| \n",
        "||Não aplicável|\n",
        "\n",
        "> ### Cor\n",
        "> ***\n",
        "\n",
        "|Código|Descrição|\n",
        "|---|---|\n",
        "|0|Indígena|\n",
        "|2|Branca|\n",
        "|4|Preta|\n",
        "|6|Amarela|\n",
        "|8|Parda|\n",
        "|9|Sem declaração|"
      ]
    },
    {
      "cell_type": "markdown",
      "metadata": {
        "id": "OK1IQH5cX7Gb"
      },
      "source": [
        "#### <font color='red'>Observação</font>\n",
        "***\n",
        "> Os seguintes tratamentos foram realizados nos dados originais:\n",
        "> 1. Foram eliminados os registros onde a <b>Renda</b> era inválida (999 999 999 999);\n",
        "> 2. Foram eliminados os registros onde a <b>Renda</b> era missing;\n",
        "> 3. Foram considerados somente os registros das <b>Pessoas de Referência</b> de cada domicílio (responsável pelo domicílio)."
      ]
    },
    {
      "cell_type": "markdown",
      "metadata": {
        "id": "ZIqLOffNTg1Y"
      },
      "source": [
        "***\n",
        "***"
      ]
    },
    {
      "cell_type": "markdown",
      "metadata": {
        "id": "8Rw70V6ojQKk"
      },
      "source": [
        "### Utilize a célula abaixo para importar as bibliotecas que precisar para executar as tarefas\n",
        "#### <font color='red'>Sugestões: pandas, numpy, scipy etc.</font>"
      ]
    },
    {
      "cell_type": "code",
      "metadata": {
        "id": "itHvj-WRKa86"
      },
      "source": [
        "import pandas as pd"
      ],
      "execution_count": 130,
      "outputs": []
    },
    {
      "cell_type": "code",
      "metadata": {
        "id": "fcTgimHBybMz"
      },
      "source": [
        "import numpy as np"
      ],
      "execution_count": 131,
      "outputs": []
    },
    {
      "cell_type": "markdown",
      "metadata": {
        "id": "2a-gvBvCULwt"
      },
      "source": [
        "### Importe o dataset e armazene o conteúdo em uma DataFrame"
      ]
    },
    {
      "cell_type": "code",
      "metadata": {
        "id": "ufRZ7TLwjQKo"
      },
      "source": [
        "dados = pd.read_csv('dados.csv')"
      ],
      "execution_count": 132,
      "outputs": []
    },
    {
      "cell_type": "markdown",
      "metadata": {
        "id": "Oq3CKHCmTg1j"
      },
      "source": [
        "### Visualize o conteúdo do DataFrame"
      ]
    },
    {
      "cell_type": "code",
      "metadata": {
        "colab": {
          "base_uri": "https://localhost:8080/",
          "height": 419
        },
        "id": "GsC_WhLFjQKq",
        "scrolled": true,
        "outputId": "e5af5dde-01c6-486a-fd3b-c544999999cc"
      },
      "source": [
        "dados"
      ],
      "execution_count": 133,
      "outputs": [
        {
          "output_type": "execute_result",
          "data": {
            "text/html": [
              "<div>\n",
              "<style scoped>\n",
              "    .dataframe tbody tr th:only-of-type {\n",
              "        vertical-align: middle;\n",
              "    }\n",
              "\n",
              "    .dataframe tbody tr th {\n",
              "        vertical-align: top;\n",
              "    }\n",
              "\n",
              "    .dataframe thead th {\n",
              "        text-align: right;\n",
              "    }\n",
              "</style>\n",
              "<table border=\"1\" class=\"dataframe\">\n",
              "  <thead>\n",
              "    <tr style=\"text-align: right;\">\n",
              "      <th></th>\n",
              "      <th>UF</th>\n",
              "      <th>Sexo</th>\n",
              "      <th>Idade</th>\n",
              "      <th>Cor</th>\n",
              "      <th>Anos de Estudo</th>\n",
              "      <th>Renda</th>\n",
              "      <th>Altura</th>\n",
              "    </tr>\n",
              "  </thead>\n",
              "  <tbody>\n",
              "    <tr>\n",
              "      <th>0</th>\n",
              "      <td>11</td>\n",
              "      <td>0</td>\n",
              "      <td>23</td>\n",
              "      <td>8</td>\n",
              "      <td>12</td>\n",
              "      <td>800</td>\n",
              "      <td>1.603808</td>\n",
              "    </tr>\n",
              "    <tr>\n",
              "      <th>1</th>\n",
              "      <td>11</td>\n",
              "      <td>1</td>\n",
              "      <td>23</td>\n",
              "      <td>2</td>\n",
              "      <td>12</td>\n",
              "      <td>1150</td>\n",
              "      <td>1.739790</td>\n",
              "    </tr>\n",
              "    <tr>\n",
              "      <th>2</th>\n",
              "      <td>11</td>\n",
              "      <td>1</td>\n",
              "      <td>35</td>\n",
              "      <td>8</td>\n",
              "      <td>15</td>\n",
              "      <td>880</td>\n",
              "      <td>1.760444</td>\n",
              "    </tr>\n",
              "    <tr>\n",
              "      <th>3</th>\n",
              "      <td>11</td>\n",
              "      <td>0</td>\n",
              "      <td>46</td>\n",
              "      <td>2</td>\n",
              "      <td>6</td>\n",
              "      <td>3500</td>\n",
              "      <td>1.783158</td>\n",
              "    </tr>\n",
              "    <tr>\n",
              "      <th>4</th>\n",
              "      <td>11</td>\n",
              "      <td>1</td>\n",
              "      <td>47</td>\n",
              "      <td>8</td>\n",
              "      <td>9</td>\n",
              "      <td>150</td>\n",
              "      <td>1.690631</td>\n",
              "    </tr>\n",
              "    <tr>\n",
              "      <th>...</th>\n",
              "      <td>...</td>\n",
              "      <td>...</td>\n",
              "      <td>...</td>\n",
              "      <td>...</td>\n",
              "      <td>...</td>\n",
              "      <td>...</td>\n",
              "      <td>...</td>\n",
              "    </tr>\n",
              "    <tr>\n",
              "      <th>76835</th>\n",
              "      <td>53</td>\n",
              "      <td>1</td>\n",
              "      <td>46</td>\n",
              "      <td>2</td>\n",
              "      <td>11</td>\n",
              "      <td>812</td>\n",
              "      <td>1.687030</td>\n",
              "    </tr>\n",
              "    <tr>\n",
              "      <th>76836</th>\n",
              "      <td>53</td>\n",
              "      <td>0</td>\n",
              "      <td>30</td>\n",
              "      <td>4</td>\n",
              "      <td>7</td>\n",
              "      <td>1500</td>\n",
              "      <td>1.792934</td>\n",
              "    </tr>\n",
              "    <tr>\n",
              "      <th>76837</th>\n",
              "      <td>53</td>\n",
              "      <td>0</td>\n",
              "      <td>32</td>\n",
              "      <td>8</td>\n",
              "      <td>12</td>\n",
              "      <td>1300</td>\n",
              "      <td>1.830587</td>\n",
              "    </tr>\n",
              "    <tr>\n",
              "      <th>76838</th>\n",
              "      <td>53</td>\n",
              "      <td>0</td>\n",
              "      <td>57</td>\n",
              "      <td>8</td>\n",
              "      <td>4</td>\n",
              "      <td>1500</td>\n",
              "      <td>1.726344</td>\n",
              "    </tr>\n",
              "    <tr>\n",
              "      <th>76839</th>\n",
              "      <td>53</td>\n",
              "      <td>0</td>\n",
              "      <td>38</td>\n",
              "      <td>8</td>\n",
              "      <td>4</td>\n",
              "      <td>900</td>\n",
              "      <td>1.658305</td>\n",
              "    </tr>\n",
              "  </tbody>\n",
              "</table>\n",
              "<p>76840 rows × 7 columns</p>\n",
              "</div>"
            ],
            "text/plain": [
              "       UF  Sexo  Idade  Cor  Anos de Estudo  Renda    Altura\n",
              "0      11     0     23    8              12    800  1.603808\n",
              "1      11     1     23    2              12   1150  1.739790\n",
              "2      11     1     35    8              15    880  1.760444\n",
              "3      11     0     46    2               6   3500  1.783158\n",
              "4      11     1     47    8               9    150  1.690631\n",
              "...    ..   ...    ...  ...             ...    ...       ...\n",
              "76835  53     1     46    2              11    812  1.687030\n",
              "76836  53     0     30    4               7   1500  1.792934\n",
              "76837  53     0     32    8              12   1300  1.830587\n",
              "76838  53     0     57    8               4   1500  1.726344\n",
              "76839  53     0     38    8               4    900  1.658305\n",
              "\n",
              "[76840 rows x 7 columns]"
            ]
          },
          "metadata": {
            "tags": []
          },
          "execution_count": 133
        }
      ]
    },
    {
      "cell_type": "markdown",
      "metadata": {
        "id": "Aa401USPKa9H"
      },
      "source": [
        "# <font color='green'>Problema A</font>"
      ]
    },
    {
      "cell_type": "markdown",
      "metadata": {
        "id": "yUQqpvW6Ka9I"
      },
      "source": [
        "Avaliando nosso dataset é possível verificar que a **proporção de homens** como chefes de domicílios é de quase **70%**. Precisamos **selecionar aleatoriamente grupos de 10 indivíduos** para verificar as diferenças entre os rendimentos em cada grupo. Qual a **probabilidade de selecionamos um grupo que apresente a mesma proporção da população**, ou seja, selecionarmos um grupo que seja **composto por 7 homens e 3 mulheres**?\n",
        "\n",
        "#### <font color='blue'>Como tarefa extra, verifique a real proporção de homens e mulheres em nosso dataset (vimos como fazer isso em nosso primeiro curso de estatística).</font>\n",
        "\n",
        "#### <font color='red'>Verifique que tipo de distribuição de probabilidade se encaixa neste experimento.</font>"
      ]
    },
    {
      "cell_type": "markdown",
      "metadata": {
        "id": "sD1EHuhrKa9I"
      },
      "source": [
        "### Solução"
      ]
    },
    {
      "cell_type": "code",
      "metadata": {
        "id": "lbDcyHPTKa9J"
      },
      "source": [
        "# Problema de Distribuição Binomial\n",
        "p = 0.7\n",
        "k = 7\n",
        "n = 10"
      ],
      "execution_count": 134,
      "outputs": []
    },
    {
      "cell_type": "code",
      "metadata": {
        "id": "0_4L_QOnKa9L"
      },
      "source": [
        "# importando 'binom' da biblioteca 'scipy.stats'\n",
        "from scipy.stats import binom"
      ],
      "execution_count": 135,
      "outputs": []
    },
    {
      "cell_type": "code",
      "metadata": {
        "colab": {
          "base_uri": "https://localhost:8080/"
        },
        "id": "rl7sfPTYKa9N",
        "outputId": "f02a72ed-5500-47e8-8c0a-b1fec1e7bacc"
      },
      "source": [
        "# cálculo da probabilidade usando .pmf: Probability Mass Function\n",
        "probabilidade = binom.pmf(k, n, p).round(4) * 100\n",
        "print('A probabilidade de formamos uma equipe com 7 homens é {}%'.format(probabilidade))"
      ],
      "execution_count": 136,
      "outputs": [
        {
          "output_type": "stream",
          "text": [
            "A probabilidade de formamos uma equipe com 7 homens é 26.68%\n"
          ],
          "name": "stdout"
        }
      ]
    },
    {
      "cell_type": "code",
      "metadata": {
        "colab": {
          "base_uri": "https://localhost:8080/"
        },
        "id": "2LQ5lVzoKa9P",
        "outputId": "b7e84a30-539f-4a2d-85f3-101b1a7fb7fb"
      },
      "source": [
        "# proporção real entre homens e mulheres\n",
        "dados['Sexo'].value_counts(normalize = True).round(6) * 100"
      ],
      "execution_count": 137,
      "outputs": [
        {
          "output_type": "execute_result",
          "data": {
            "text/plain": [
              "0    69.2998\n",
              "1    30.7002\n",
              "Name: Sexo, dtype: float64"
            ]
          },
          "metadata": {
            "tags": []
          },
          "execution_count": 137
        }
      ]
    },
    {
      "cell_type": "markdown",
      "metadata": {
        "id": "xhpA2dSYKa9R"
      },
      "source": [
        "# <font color='green'>Problema B</font>"
      ]
    },
    {
      "cell_type": "markdown",
      "metadata": {
        "id": "fSu7XWKnKa9S"
      },
      "source": [
        "Ainda sobre a questão anterior, **quantos grupos de 10 indivíduos** nós precisaríamos selecionar, de forma aleatória, para conseguir **100 grupos compostos por 7 homens e 3 mulheres**?\n",
        "\n",
        "#### <font color='red'>Lembre-se da forma de cálculo da média de uma distribuição binomial</font>"
      ]
    },
    {
      "cell_type": "markdown",
      "metadata": {
        "id": "Q3wWq7z2Ka9S"
      },
      "source": [
        "### Solução"
      ]
    },
    {
      "cell_type": "code",
      "metadata": {
        "colab": {
          "base_uri": "https://localhost:8080/"
        },
        "id": "F27eIYXzKa9T",
        "outputId": "808b838a-e932-458e-fb12-fa223ffd7c19"
      },
      "source": [
        "# quantos grupos necessários para conseguirmos 100 grupos no formato 7/3\n",
        "n = 100 / (probabilidade / 100) # dividimos por 100 pois estava em valor percentual\n",
        "int(n.round())"
      ],
      "execution_count": 138,
      "outputs": [
        {
          "output_type": "execute_result",
          "data": {
            "text/plain": [
              "375"
            ]
          },
          "metadata": {
            "tags": []
          },
          "execution_count": 138
        }
      ]
    },
    {
      "cell_type": "markdown",
      "metadata": {
        "id": "5OKBEMUNKa9V"
      },
      "source": [
        "# <font color='green'>Problema C</font>"
      ]
    },
    {
      "cell_type": "markdown",
      "metadata": {
        "id": "xEpjzbwBKa9W"
      },
      "source": [
        "Um cliente nos encomendou um estudo para avaliar o **rendimento dos chefes de domicílio no Brasil**. Para isso precisamos realizar uma nova coleta de dados, isto é, uma nova pesquisa de campo. Após reunião com o cliente foi possível elencar o seguinte conjunto de informações:\n",
        "\n",
        "> A. O resultado da pesquisa precisa estar pronto em **2 meses**;\n",
        "\n",
        "> B. Teremos somente **R$\\$$ 150.000,00** de recursos para realização da pesquisa de campo; e\n",
        "    \n",
        "> C. Seria interessante uma **margem de erro não superior a 10% em relação a média estimada**.\n",
        "\n",
        "Em nossa experiência com estudos deste tipo, sabemos que o **custo médio por indivíduo entrevistado fica em torno de R$\\$$ 100,00**. Com este conjunto de fatos avalie e obtenha o seguinte conjunto de informações para passar ao cliente:\n",
        "\n",
        "\n",
        "> 1. Para obter uma estimativa para os parâmetros da população (renda dos chefes de domicílio no Brasil), realize uma amostragem aleatória simples em nosso conjunto de dados. Essa amostra deve conter 200 elementos (utilize random_state = 101 para garantir que o mesmo experimento posso ser realizado novamente). Obtenha a média e o desvio-padrão dessa amostra.\n",
        "    \n",
        "> 2. Para a **margem de erro** especificada pelo cliente obtenha os **tamanhos de amostra** necessários para garantir os **níveis de confiança de 90%, 95% e 99%**.\n",
        "    \n",
        "> 3. Obtenha o **custo da pesquisa** para os três níveis de confiança.\n",
        "    \n",
        "> 4. Para o maior nível de confiança viável (dentro do orçamento disponível), obtenha um **intervalo de confiança para a média da população**.\n",
        "    \n",
        "> 5. Assumindo o **nível de confiança escolhido no item anterior**, qual **margem de erro** pode ser considerada utilizando todo o recurso disponibilizado pelo cliente?\n",
        "    \n",
        "> 6. Assumindo um **nível de confiança de 95%**, **quanto a pesquisa custaria ao cliente** caso fosse considerada uma **margem de erro de apenas 5%** em relação a média estimada?\n"
      ]
    },
    {
      "cell_type": "markdown",
      "metadata": {
        "id": "m4qMQ4kdKa9W"
      },
      "source": [
        "# <font color='blue'>Solução do item 1</font>"
      ]
    },
    {
      "cell_type": "markdown",
      "metadata": {
        "id": "vDubzZ_lfcwO"
      },
      "source": [
        ">1. Para obter uma estimativa para os parâmetros da população (renda dos chefes de domicílio no Brasil), realize uma amostragem aleatória simples em nosso conjunto de dados. Essa amostra deve conter 200 elementos (utilize random_state = 101 para garantir que o mesmo experimento posso ser realizado novamente). Obtenha a média e o desvio-padrão dessa amostra."
      ]
    },
    {
      "cell_type": "markdown",
      "metadata": {
        "id": "fNb4Yb3RKa9X"
      },
      "source": [
        "### Seleção de uma amostra aleatório simples\n",
        "\n",
        "#### <font color='red'>Lembre-se de utilizar *random_state = 101*</font>"
      ]
    },
    {
      "cell_type": "code",
      "metadata": {
        "colab": {
          "base_uri": "https://localhost:8080/"
        },
        "id": "_HxUH0AhKa9X",
        "outputId": "ee572e0b-2693-4dc2-fb3a-60255821d2d9"
      },
      "source": [
        "# amostra da Renda dos dados\n",
        "amostra = dados.Renda.sample(n = 200, random_state = 101)\n",
        "amostra.head()"
      ],
      "execution_count": 139,
      "outputs": [
        {
          "output_type": "execute_result",
          "data": {
            "text/plain": [
              "29042     480\n",
              "62672     250\n",
              "29973     788\n",
              "22428    1680\n",
              "55145    2500\n",
              "Name: Renda, dtype: int64"
            ]
          },
          "metadata": {
            "tags": []
          },
          "execution_count": 139
        }
      ]
    },
    {
      "cell_type": "code",
      "metadata": {
        "colab": {
          "base_uri": "https://localhost:8080/"
        },
        "id": "fJBYID7pKa9Z",
        "outputId": "50e6eedb-c67e-4ce7-de7d-f014d2b1f7ed"
      },
      "source": [
        "# média da amostra\n",
        "media_amostra = amostra.mean()\n",
        "media_amostra"
      ],
      "execution_count": 140,
      "outputs": [
        {
          "output_type": "execute_result",
          "data": {
            "text/plain": [
              "1964.205"
            ]
          },
          "metadata": {
            "tags": []
          },
          "execution_count": 140
        }
      ]
    },
    {
      "cell_type": "code",
      "metadata": {
        "colab": {
          "base_uri": "https://localhost:8080/"
        },
        "id": "BXkTyV07Ka9c",
        "outputId": "2320ec72-88a5-484c-d233-f69315efbecc"
      },
      "source": [
        "# desvio padrão da amostra, há variáveis que não faz sentido \n",
        "dp_amostra = amostra.std()\n",
        "dp_amostra"
      ],
      "execution_count": 141,
      "outputs": [
        {
          "output_type": "execute_result",
          "data": {
            "text/plain": [
              "3139.8855167452157"
            ]
          },
          "metadata": {
            "tags": []
          },
          "execution_count": 141
        }
      ]
    },
    {
      "cell_type": "markdown",
      "metadata": {
        "id": "fB8NAJsMKa9f"
      },
      "source": [
        "### Dados do problema"
      ]
    },
    {
      "cell_type": "markdown",
      "metadata": {
        "id": "waULC4fmKa9i"
      },
      "source": [
        "# <font color='blue'>Solução do item 2</font>"
      ]
    },
    {
      "cell_type": "markdown",
      "metadata": {
        "id": "Veo2TAOVfZ7I"
      },
      "source": [
        ">2. Para a margem de erro especificada pelo cliente obtenha os tamanhos de amostra necessários para garantir os níveis de confiança de 90%, 95% e 99%."
      ]
    },
    {
      "cell_type": "markdown",
      "metadata": {
        "id": "dIFt1F2AKa9i"
      },
      "source": [
        "### Obtenha a margem de erro\n",
        "\n",
        "#### <font color='red'>Lembre-se que a margem de erro deve estar na mesma unidade da variável que está sendo estudada (R$)</font>"
      ]
    },
    {
      "cell_type": "code",
      "metadata": {
        "id": "m5s5DvDuKa9j"
      },
      "source": [
        "from scipy.stats import norm"
      ],
      "execution_count": 142,
      "outputs": []
    },
    {
      "cell_type": "markdown",
      "metadata": {
        "id": "pLoYC--IKa9l"
      },
      "source": [
        "### Tamanho da amostra ($1 - \\alpha = 90\\%$)"
      ]
    },
    {
      "cell_type": "code",
      "metadata": {
        "colab": {
          "base_uri": "https://localhost:8080/"
        },
        "id": "-BteoZ6JKa9m",
        "outputId": "4c61b78b-18f4-48ce-c287-c70146ac87ba"
      },
      "source": [
        "# z para 90% de nível de confiança\n",
        "z_90 = norm.ppf(0.5 + (0.9 / 2))\n",
        "z_90"
      ],
      "execution_count": 143,
      "outputs": [
        {
          "output_type": "execute_result",
          "data": {
            "text/plain": [
              "1.6448536269514722"
            ]
          },
          "metadata": {
            "tags": []
          },
          "execution_count": 143
        }
      ]
    },
    {
      "cell_type": "code",
      "metadata": {
        "colab": {
          "base_uri": "https://localhost:8080/"
        },
        "id": "2d8PcF9iKa9o",
        "outputId": "f953ee85-8fb5-4d73-aa50-de7895f0bbfe"
      },
      "source": [
        "# tamanho da amostra\n",
        "e = 0.1 * media_amostra\n",
        "n_90 = (z_90 * (dp_amostra / e)) ** 2\n",
        "n_90 = int(n_90.round())\n",
        "print('A amostra deve conter %s elementos para um nível de confiança de 90%%.' %n_90)"
      ],
      "execution_count": 158,
      "outputs": [
        {
          "output_type": "stream",
          "text": [
            "A amostra deve conter 691 elementos para um nível de confiança de 90%.\n"
          ],
          "name": "stdout"
        }
      ]
    },
    {
      "cell_type": "markdown",
      "metadata": {
        "id": "brh0CpeSKa9q"
      },
      "source": [
        "### Tamanho da amostra ($1 - \\alpha = 95\\%$)"
      ]
    },
    {
      "cell_type": "code",
      "metadata": {
        "colab": {
          "base_uri": "https://localhost:8080/"
        },
        "id": "8NtV47kVKa9q",
        "outputId": "e12e5515-d56c-4358-9396-aa27c08e0b1e"
      },
      "source": [
        "# z para 95% de nível de confiança\n",
        "z_95 = norm.ppf(0.5 + (0.95 / 2))\n",
        "z_95"
      ],
      "execution_count": 145,
      "outputs": [
        {
          "output_type": "execute_result",
          "data": {
            "text/plain": [
              "1.959963984540054"
            ]
          },
          "metadata": {
            "tags": []
          },
          "execution_count": 145
        }
      ]
    },
    {
      "cell_type": "code",
      "metadata": {
        "colab": {
          "base_uri": "https://localhost:8080/"
        },
        "id": "keyN_N8xKa9w",
        "outputId": "27482514-ed70-4a2d-9992-261da74ee9a3"
      },
      "source": [
        "# tamanho da amostra para 95% de confiança\n",
        "n_95 = (z_95 * (dp_amostra / e)) ** 2\n",
        "n_95 = int(n_95.round())\n",
        "print('A amostra deve conter %s elementos para um nível de confiança de 95%%.' %n_95)"
      ],
      "execution_count": 146,
      "outputs": [
        {
          "output_type": "stream",
          "text": [
            "A amostra deve conter 982 elementos para um nível de confiança de 95%.\n"
          ],
          "name": "stdout"
        }
      ]
    },
    {
      "cell_type": "markdown",
      "metadata": {
        "id": "rAEX9_qFKa9y"
      },
      "source": [
        "### Tamanho da amostra ($1 - \\alpha = 99\\%$)"
      ]
    },
    {
      "cell_type": "code",
      "metadata": {
        "colab": {
          "base_uri": "https://localhost:8080/"
        },
        "id": "dvFHNFsLKa9y",
        "outputId": "8a29da6f-abaa-4f1c-c2e3-e3a98943ac18"
      },
      "source": [
        "# z para 99% de nível de confiança\n",
        "z_99 = norm.ppf(0.5 + (0.99 / 2))\n",
        "z_99"
      ],
      "execution_count": 147,
      "outputs": [
        {
          "output_type": "execute_result",
          "data": {
            "text/plain": [
              "2.5758293035489004"
            ]
          },
          "metadata": {
            "tags": []
          },
          "execution_count": 147
        }
      ]
    },
    {
      "cell_type": "code",
      "metadata": {
        "colab": {
          "base_uri": "https://localhost:8080/"
        },
        "id": "eTCtwDw_Ka90",
        "outputId": "3d1aea74-90c4-430d-e25d-3da8a6d85fd0"
      },
      "source": [
        "# tamanho da amostra para 99% de confiança\n",
        "n_99 = (z_99 * (dp_amostra / e)) ** 2\n",
        "n_99 = int(n_99.round())\n",
        "print('A amostra deve conter %s elementos para um nível de confiança de 99%%.' %n_99)"
      ],
      "execution_count": 148,
      "outputs": [
        {
          "output_type": "stream",
          "text": [
            "A amostra deve conter 1695 elementos para um nível de confiança de 99%.\n"
          ],
          "name": "stdout"
        }
      ]
    },
    {
      "cell_type": "markdown",
      "metadata": {
        "id": "n3dILIrGKa93"
      },
      "source": [
        "# <font color='blue'>Solução do item 3</font>"
      ]
    },
    {
      "cell_type": "markdown",
      "metadata": {
        "id": "EYqh7zFQfWTJ"
      },
      "source": [
        ">3. Obtenha o custo da pesquisa para os três níveis de confiança."
      ]
    },
    {
      "cell_type": "markdown",
      "metadata": {
        "id": "SzkxkOB6Ka93"
      },
      "source": [
        "### Custo da pesquisa para o nível de confiança de 90%"
      ]
    },
    {
      "cell_type": "code",
      "metadata": {
        "colab": {
          "base_uri": "https://localhost:8080/"
        },
        "id": "j_0BpUBMKa95",
        "outputId": "8361cf10-b606-418b-f0d6-076b28b5a58c"
      },
      "source": [
        "# custo estimado para 90% de confiança\n",
        "custo_90 = n_90 * 100\n",
        "print('O custo seria de R$ {:,.2f} para 90% de nível de confiança'.format(custo_90))"
      ],
      "execution_count": 149,
      "outputs": [
        {
          "output_type": "stream",
          "text": [
            "O custo seria de R$ 69,100.00 para 90% de nível de confiança\n"
          ],
          "name": "stdout"
        }
      ]
    },
    {
      "cell_type": "markdown",
      "metadata": {
        "id": "DdoUIGXkKa97"
      },
      "source": [
        "### Custo da pesquisa para o nível de confiança de 95%"
      ]
    },
    {
      "cell_type": "code",
      "metadata": {
        "colab": {
          "base_uri": "https://localhost:8080/"
        },
        "id": "R4YQV7_EKa97",
        "outputId": "932eb7a5-dae9-455b-a266-05802ff9e524"
      },
      "source": [
        "# custo estimado para 95% de confiança\n",
        "custo_95 = n_95 * 100\n",
        "print('O custo seria de R$ {:,.2f} para 95% de nível de confiança'.format(custo_95))"
      ],
      "execution_count": 150,
      "outputs": [
        {
          "output_type": "stream",
          "text": [
            "O custo seria de R$ 98,200.00 para 95% de nível de confiança\n"
          ],
          "name": "stdout"
        }
      ]
    },
    {
      "cell_type": "markdown",
      "metadata": {
        "id": "f4SppXkOKa9-"
      },
      "source": [
        "### Custo da pesquisa para o nível de confiança de 99%"
      ]
    },
    {
      "cell_type": "code",
      "metadata": {
        "colab": {
          "base_uri": "https://localhost:8080/"
        },
        "id": "7fZucTJIKa9-",
        "outputId": "3d440863-6326-4a66-d94e-c61aa3b5116d"
      },
      "source": [
        "# custo estimado para 99% de confiança\n",
        "custo_99 = n_99 * 100\n",
        "print('O custo seria de R$ {:,.2f} para 99% de nível de confiança'.format(custo_99))"
      ],
      "execution_count": 151,
      "outputs": [
        {
          "output_type": "stream",
          "text": [
            "O custo seria de R$ 169,500.00 para 99% de nível de confiança\n"
          ],
          "name": "stdout"
        }
      ]
    },
    {
      "cell_type": "markdown",
      "metadata": {
        "id": "0HVhFFfMKa-A"
      },
      "source": [
        "# <font color='blue'>Solução do item 4</font>"
      ]
    },
    {
      "cell_type": "markdown",
      "metadata": {
        "id": "FEvU4RNsfPxX"
      },
      "source": [
        "> 4. Para o maior nível de confiança viável (dentro do orçamento disponível), obtenha um intervalo de confiança para a média da população."
      ]
    },
    {
      "cell_type": "code",
      "metadata": {
        "colab": {
          "base_uri": "https://localhost:8080/"
        },
        "id": "uTePzAGQKa-B",
        "outputId": "ab44ca68-45a3-4550-c24e-594c73801a2b"
      },
      "source": [
        "# intervalo de confiança para 95%, dentro do orçamento\n",
        "intervalo_95 = norm.interval(alpha = 0.95, loc = media_amostra, scale = (dp_amostra / np.sqrt(n_95)))\n",
        "print('O intervalo de confiança de 95% (dentro do orçamento) varia de R$ {:,.2f} a R$ {:,.2f}.'.format(intervalo_95[0], intervalo_95[1]))"
      ],
      "execution_count": 168,
      "outputs": [
        {
          "output_type": "stream",
          "text": [
            "O intervalo de confiança de 95% (dentro do orçamento) varia de R$ 1,767.82 a R$ 2,160.59.\n"
          ],
          "name": "stdout"
        }
      ]
    },
    {
      "cell_type": "markdown",
      "metadata": {
        "id": "n8uxkOcPKa-D"
      },
      "source": [
        "# <font color='blue'>Solução do item 5</font>"
      ]
    },
    {
      "cell_type": "markdown",
      "metadata": {
        "id": "-bPr0BN9f24w"
      },
      "source": [
        "> 5. Assumindo o nível de confiança escolhido no item anterior, qual margem de erro pode ser considerada utilizando todo o recurso disponibilizado pelo cliente?"
      ]
    },
    {
      "cell_type": "code",
      "metadata": {
        "colab": {
          "base_uri": "https://localhost:8080/"
        },
        "id": "AaGOyW4pKa-E",
        "outputId": "6feaa167-5f1a-4844-ad6b-d31f59a1c13d"
      },
      "source": [
        "novo_n_95 = 150000 / 100\n",
        "novo_n_95"
      ],
      "execution_count": 153,
      "outputs": [
        {
          "output_type": "execute_result",
          "data": {
            "text/plain": [
              "1500.0"
            ]
          },
          "metadata": {
            "tags": []
          },
          "execution_count": 153
        }
      ]
    },
    {
      "cell_type": "code",
      "metadata": {
        "colab": {
          "base_uri": "https://localhost:8080/"
        },
        "id": "31angNvBKa-G",
        "outputId": "0afc8c0c-6b2e-47e9-860f-74a32e695670"
      },
      "source": [
        "e_novo = z_95 * (dp_amostra / np.sqrt(novo_n_95))\n",
        "print('O novo erro é de R$ {:.2f}, consumindo todo recurso disponível.'.format(e_novo))"
      ],
      "execution_count": 169,
      "outputs": [
        {
          "output_type": "stream",
          "text": [
            "O novo erro é de R$ 158.90, consumindo todo recurso disponível.\n"
          ],
          "name": "stdout"
        }
      ]
    },
    {
      "cell_type": "code",
      "metadata": {
        "colab": {
          "base_uri": "https://localhost:8080/"
        },
        "id": "_E4FQBlKnd1d",
        "outputId": "b2030733-6b65-40ab-c346-b01b22785a99"
      },
      "source": [
        "e_percentual = (e_novo / media_amostra) * 100\n",
        "print('A nova margem de erro é de {:.2f}%.'.format(e_percentual))"
      ],
      "execution_count": 160,
      "outputs": [
        {
          "output_type": "stream",
          "text": [
            "A nova margem de erro é de 8.09%.\n"
          ],
          "name": "stdout"
        }
      ]
    },
    {
      "cell_type": "markdown",
      "metadata": {
        "id": "ood3yi8mKa-K"
      },
      "source": [
        "# <font color='blue'>Solução do item 6</font>"
      ]
    },
    {
      "cell_type": "markdown",
      "metadata": {
        "id": "hqW8aM3Af7e-"
      },
      "source": [
        "> 6. Assumindo um nível de confiança de 95%, quanto a pesquisa custaria ao cliente caso fosse considerada uma margem de erro de apenas 5% em relação a média estimada?"
      ]
    },
    {
      "cell_type": "code",
      "metadata": {
        "colab": {
          "base_uri": "https://localhost:8080/"
        },
        "id": "U0f55DxHKa-K",
        "outputId": "4e174704-085a-43c1-b1a0-7e353520e88a"
      },
      "source": [
        "e_5 = 0.05 * media_amostra\n",
        "e_5"
      ],
      "execution_count": 161,
      "outputs": [
        {
          "output_type": "execute_result",
          "data": {
            "text/plain": [
              "98.21025"
            ]
          },
          "metadata": {
            "tags": []
          },
          "execution_count": 161
        }
      ]
    },
    {
      "cell_type": "code",
      "metadata": {
        "colab": {
          "base_uri": "https://localhost:8080/"
        },
        "id": "PDt0rtCZKa-M",
        "outputId": "8d79e237-e272-46c3-de74-255659847716"
      },
      "source": [
        "n_5 = (z_95 * (dp_amostra / e_5)) ** 2\n",
        "n_5 = int(n_5.round())\n",
        "n_5"
      ],
      "execution_count": 164,
      "outputs": [
        {
          "output_type": "execute_result",
          "data": {
            "text/plain": [
              "3927"
            ]
          },
          "metadata": {
            "tags": []
          },
          "execution_count": 164
        }
      ]
    },
    {
      "cell_type": "code",
      "metadata": {
        "colab": {
          "base_uri": "https://localhost:8080/"
        },
        "id": "c81OsbN1Ka-R",
        "outputId": "877720e6-39e0-4e2d-bbda-1ff68c776745"
      },
      "source": [
        "# gasto total\n",
        "gasto_5 = n_5 * 100\n",
        "print('Para um nível de confiança de 95% e erro de 5% a pesquisa custaria R${:,.2f}.'.format(gasto_5))"
      ],
      "execution_count": 167,
      "outputs": [
        {
          "output_type": "stream",
          "text": [
            "Para um nível de confiança de 95% e erro de 5% a pesquisa custaria R$392,700.00.\n"
          ],
          "name": "stdout"
        }
      ]
    }
  ]
}